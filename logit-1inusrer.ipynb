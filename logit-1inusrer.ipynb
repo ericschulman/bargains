{
 "cells": [
  {
   "cell_type": "code",
   "execution_count": 15,
   "metadata": {
    "scrolled": true
   },
   "outputs": [],
   "source": [
    "using Pkg\n",
    "using Distributions\n",
    "\n",
    "using Optim\n",
    "using PyPlot\n",
    "using LinearAlgebra"
   ]
  },
  {
   "cell_type": "code",
   "execution_count": 23,
   "metadata": {},
   "outputs": [
    {
     "name": "stdout",
     "output_type": "stream",
     "text": [
      "[0.638336][0.73532]"
     ]
    }
   ],
   "source": [
    "function market_shares(p,alpha)\n",
    "    return exp.(-alpha.*p) / (1 + sum( exp.(-alpha.*p) ) )\n",
    "end\n",
    "\n",
    "\n",
    "function mco_profits(p,phi,mu,alpha)\n",
    "    return market_shares(p,alpha) .* ( p - mu .* phi )\n",
    "end\n",
    "\n",
    "\n",
    "function price_profits(phi,mu,alpha)\n",
    "    diff =  5.\n",
    "    p = [1.]\n",
    "    profits = [0.]\n",
    "    \n",
    "    #set up objective\n",
    "    obj1(p0) = -1*mco_profits( [p0[1] ], phi,mu,alpha)[1]\n",
    "    res1 = optimize(obj1, [p[1]] , BFGS())\n",
    "\n",
    "    #update result\n",
    "    p = res1.minimizer[1]\n",
    "    profits =  [-1*res1.minimum]        \n",
    "    return p, profits\n",
    "end\n",
    "\n",
    "\n",
    "#arbitrary outside option... passive beliefs\n",
    "function nash_in_nash(phi, mu, alpha; mc=0., pi0=0.)\n",
    "    p, profits = price_profits(phi,mu,alpha)\n",
    "    s = market_shares(p,alpha)\n",
    "    return  profits .* (sum(mu .* s .* (phi .- mc) ) - pi0)\n",
    "end\n",
    "\n",
    "\n",
    "function simult_bargain(mu, alpha; mc=0.)\n",
    "    \"\"\"solve each firm 1s optimization holding theta 2 fixed\"\"\"\n",
    "    phi = alpha\n",
    "    obj1(phi0) = -1*nash_in_nash( [phi0[1] ] , mu, alpha ; mc=mc)[1]\n",
    "    res1 =  optimize(obj1, [phi[1]], BFGS())\n",
    "\n",
    "    return [ res1.minimizer[1] ]\n",
    "end\n",
    "\n",
    "println( simult_bargain([2.],[.5]) )\n",
    "\n",
    "print( mco_profits([3],[3],[.5],.1) )\n",
    "print( nash_in_nash( [3], [.5] , .1 ) )"
   ]
  },
  {
   "cell_type": "code",
   "execution_count": 30,
   "metadata": {
    "scrolled": false
   },
   "outputs": [
    {
     "name": "stdout",
     "output_type": "stream",
     "text": [
      "\n",
      "\n",
      "0.5 & 2.51 & 0.143 & 3.59 & 0.333 & 0.179 \\\\\\\\ \n",
      "0.6 & 2.09 & 0.143 & 2.99 & 0.277 & 0.149 \\\\\\\\ \n",
      "0.7 & 1.79 & 0.143 & 2.56 & 0.238 & 0.128 \\\\\\\\ \n",
      "0.8 & 1.57 & 0.143 & 2.24 & 0.208 & 0.112 \\\\\\\\ \n",
      "0.9 & 1.4 & 0.143 & 1.99 & 0.185 & 0.0995 \\\\\\\\ \n",
      "1.0 & 1.26 & 0.143 & 1.79 & 0.166 & 0.0895 \\\\\\\\ \n",
      "\n"
     ]
    }
   ],
   "source": [
    "function make_table(steps, mu)\n",
    "    \"\"\"the argument is \n",
    "    steps = min_arg, max_arg, no_step \"\"\"\n",
    "\n",
    "    min_arg, max_arg, no_step = steps    \n",
    "    step_size = (max_arg - min_arg)/no_step\n",
    "    indep_var = min_arg:step_size:max_arg\n",
    "    result1 = []\n",
    "\n",
    "    for alpha=indep_var\n",
    "\n",
    "        phi = [0.]\n",
    "        phi = simult_bargain(mu, alpha)\n",
    "        price, profits = price_profits(phi,mu,alpha)\n",
    "        share = market_shares(price, alpha)\n",
    "        hosp = sum(mu .* share .* phi)\n",
    "\n",
    "        append!(result1, [[alpha, phi[1], share[1], price[1], profits[1], hosp ]] ) \n",
    "    end\n",
    "    \n",
    "    println(\"\\n\")\n",
    "    for line =result1\n",
    "        print( round(line[1],sigdigits=3) )\n",
    "        for i=2:6\n",
    "            print( \" & \")\n",
    "            print(round(line[i],sigdigits=3) )\n",
    "        end\n",
    "        print(\" \\\\\\\\\\\\\\\\ \\n\")\n",
    "    end   \n",
    "    print('\\n')\n",
    "        \n",
    "   \n",
    "    \n",
    "\n",
    "end\n",
    "\n",
    "    \n",
    "make_table( (.5,1,5), [.5] )"
   ]
  },
  {
   "cell_type": "code",
   "execution_count": null,
   "metadata": {},
   "outputs": [],
   "source": []
  },
  {
   "cell_type": "code",
   "execution_count": null,
   "metadata": {},
   "outputs": [],
   "source": []
  }
 ],
 "metadata": {
  "kernelspec": {
   "display_name": "Julia 1.0.3",
   "language": "julia",
   "name": "julia-1.0"
  },
  "language_info": {
   "file_extension": ".jl",
   "mimetype": "application/julia",
   "name": "julia",
   "version": "1.0.3"
  }
 },
 "nbformat": 4,
 "nbformat_minor": 2
}
