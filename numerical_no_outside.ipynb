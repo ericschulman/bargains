{
 "cells": [
  {
   "cell_type": "code",
   "execution_count": 1,
   "metadata": {},
   "outputs": [],
   "source": [
    "import numpy as np\n",
    "from scipy.optimize import minimize\n",
    "from scipy.optimize import fsolve\n",
    "from matplotlib import pyplot as plt\n",
    "import pandas as pd"
   ]
  },
  {
   "cell_type": "code",
   "execution_count": 2,
   "metadata": {},
   "outputs": [
    {
     "name": "stdout",
     "output_type": "stream",
     "text": [
      "-2.302585092994046\n"
     ]
    }
   ],
   "source": [
    "def calc_price(theta1, theta2, mu1, mu2, cost, wtp):\n",
    "    \"\"\"compute each insurer's price (assumes interior solution)\"\"\"\n",
    "    p1 = (2.*theta1*mu1+theta2*mu2)/3. + cost\n",
    "    p2 = (2.*theta2*mu2+theta1*mu1)/3. + cost\n",
    "    return p1, p2\n",
    "  \n",
    "    \n",
    "def calc_t(theta1, theta2, mu1, mu2, cost, wtp):\n",
    "    \"\"\"compute the proportion of people choosing each insurer\n",
    "    assumes interior solution\"\"\"\n",
    "    p1, p2 = calc_price(theta1, theta2, mu1, mu2, cost, wtp)\n",
    "    t_hat = .5 + (p2 - p1)/(2.*cost)\n",
    "    return t_hat\n",
    "\n",
    "\n",
    "def calc_profits(theta1,theta2,mu1,mu2,cost, wtp):\n",
    "    t= calc_t(theta1, theta2, mu1, mu2, cost, wtp)\n",
    "    p1,p2 = calc_price(theta1, theta2, mu1, mu2, cost, wtp)\n",
    "    profits1, profits2 = t*(p1-mu1*theta1), (1-t)*(p2-mu2*theta2)\n",
    "    hosp_profit = t*theta1*mu1 +  (1-t)*theta2*mu2\n",
    "    return hosp_profit, profits1, profits2\n",
    "\n",
    "\n",
    "#arbitrary outside option...\n",
    "def nash_in_nash(theta1, theta2, mu1, mu2, cost, wtp, beta=.5):\n",
    "    hosp_profit, profits1, profits2 = calc_profits(theta1, theta2, mu1, mu2, cost,  wtp)\n",
    "    obj = -1*(np.log(max(hosp_profit,1e-4))*(1-beta) + np.log(max(profits1,1e-4) )*beta)\n",
    "    return obj\n",
    "\n",
    "\n",
    "COST = 10\n",
    "WTP = 25\n",
    "\n",
    "\n",
    "print(nash_in_nash(COST,COST, 1, 1, COST, WTP, 0))"
   ]
  },
  {
   "cell_type": "code",
   "execution_count": 3,
   "metadata": {},
   "outputs": [
    {
     "data": {
      "text/plain": [
       "[<matplotlib.lines.Line2D at 0x7f1038c202e8>]"
      ]
     },
     "execution_count": 3,
     "metadata": {},
     "output_type": "execute_result"
    },
    {
     "data": {
      "image/png": "[encoded data removed]",
      "text/plain": [
       "<Figure size 432x288 with 1 Axes>"
      ]
     },
     "metadata": {
      "needs_background": "light"
     },
     "output_type": "display_data"
    }
   ],
   "source": [
    "COST = 10\n",
    "WTP = 25\n",
    "MU = 1\n",
    "\n",
    "plt.plot([i for i in np.linspace(COST,WTP,num=7)], \n",
    "         [-1*nash_in_nash(i, .75*WTP, MU, MU, COST,WTP, 0) \n",
    "                                                          for i in np.linspace(COST,WTP,num=7)])"
   ]
  },
  {
   "cell_type": "code",
   "execution_count": 4,
   "metadata": {},
   "outputs": [
    {
     "name": "stdout",
     "output_type": "stream",
     "text": [
      "[11.16400146]\n"
     ]
    }
   ],
   "source": [
    "def bargain_helper(theta1, theta2, mu1, mu2, cost, wtp,beta=.5):\n",
    "    \"\"\"solve each firm 1s optimization holding theta 2 fixed\"\"\"\n",
    "    result = minimize(nash_in_nash, theta1, args=(theta2, mu1, mu2, cost, wtp, beta),\n",
    "                      method='Nelder-Mead', options={'disp': False})\n",
    "    return result.x\n",
    "\n",
    "COST = 5\n",
    "WTP  = 25\n",
    "print(bargain_helper(20,20, 1, 1, COST,WTP))"
   ]
  },
  {
   "cell_type": "code",
   "execution_count": 5,
   "metadata": {
    "scrolled": false
   },
   "outputs": [
    {
     "name": "stdout",
     "output_type": "stream",
     "text": [
      "(array([3.75002108]), array([3.75004557]))\n"
     ]
    }
   ],
   "source": [
    "def simult_bargain(theta1, theta2, mu1, mu2, cost, listprice,betas=[.5,.5]):\n",
    "    \"\"\"solve the bargaining problems seperately and iterate for a solution\"\"\"       \n",
    "    \n",
    "    #loop variables\n",
    "    diff =  theta1\n",
    "\n",
    "    maxiter = 10\n",
    "    while maxiter >=0 and diff > 10e-7:\n",
    "        #seems as though there is a contraction mapping here, need to think more about why\n",
    "        theta1 = bargain_helper(theta1, theta2, mu1, mu2, cost, listprice,betas[0])\n",
    "        theta2 = bargain_helper(theta2, theta1, mu2, mu1, cost,  listprice,betas[1])\n",
    "        \n",
    "        #update loop variables\n",
    "        diff = np.abs(np.max(theta1 - theta2))\n",
    "        maxiter = maxiter-1\n",
    "        \n",
    "    return theta1, theta2\n",
    "\n",
    "COST = 5\n",
    "WTP  = 25\n",
    "print(simult_bargain(11.25,11.25,1,1,COST,WTP))"
   ]
  },
  {
   "cell_type": "code",
   "execution_count": 6,
   "metadata": {
    "scrolled": false
   },
   "outputs": [
    {
     "data": {
      "text/plain": [
       "[<matplotlib.lines.Line2D at 0x7f1038bc6160>]"
      ]
     },
     "execution_count": 6,
     "metadata": {},
     "output_type": "execute_result"
    },
    {
     "data": {
      "image/png": "[encoded data removed]",
      "text/plain": [
       "<Figure size 432x288 with 1 Axes>"
      ]
     },
     "metadata": {
      "needs_background": "light"
     },
     "output_type": "display_data"
    }
   ],
   "source": [
    "def bargain_helper_seq(theta1, mu1, mu2, cost, wtp,beta=.5):\n",
    "    \"\"\" solve firm 1s optimization holding theta 2 fixed \"\"\"\n",
    "    result = minimize( nash_in_nash, 10., args=(theta1, mu2, mu1, cost, wtp,beta),\n",
    "                      method='Nelder-Mead', options={'disp': False} )\n",
    "    return result.x\n",
    "\n",
    "\n",
    "def seq_obj(theta1, mu1, mu2, cost, wtp,betas=[.5,.5]):\n",
    "    \"\"\" theta1 is a guess for the first stage \"\"\"\n",
    "    \n",
    "    theta2 = bargain_helper_seq(theta1, mu2, mu1, cost, wtp, betas[1])\n",
    "    \n",
    "    return nash_in_nash(theta1, theta2, mu1, mu2, cost, wtp, betas[0])\n",
    "\n",
    "\n",
    "COST = 5\n",
    "WTP = 25\n",
    "plt.plot([i for i in np.linspace(COST+3,WTP +10,num=20)],  \n",
    "         [seq_obj(i, 1, 1, 13.5 , WTP) for i in np.linspace(COST+3,WTP +10,num=20)])\n"
   ]
  },
  {
   "cell_type": "code",
   "execution_count": 7,
   "metadata": {},
   "outputs": [
    {
     "name": "stdout",
     "output_type": "stream",
     "text": [
      "(array([-10.]), array([-6.338253e+29]))\n"
     ]
    }
   ],
   "source": [
    "def seq_bargain(theta1, mu1, mu2, cost, wtp, betas=[.5,.5]):\n",
    "    \"\"\"solve the bargaining problems seperately,\n",
    "    then solve for the solution\"\"\"   \n",
    "    #only compute no deal 1x for initial\n",
    "    result = minimize(seq_obj, theta1, args=(mu1, mu2, cost, wtp,betas),\n",
    "                      method='Nelder-Mead', options={'disp': False})\n",
    "    \n",
    "    theta1 = result.x\n",
    "    theta2 = bargain_helper(theta1, theta1, mu2, mu1, cost, wtp,beta=betas[1])\n",
    "    return theta1, theta2\n",
    "\n",
    "print(seq_bargain(20,1,1,5,25))"
   ]
  },
  {
   "cell_type": "code",
   "execution_count": 30,
   "metadata": {
    "scrolled": false
   },
   "outputs": [
    {
     "name": "stdout",
     "output_type": "stream",
     "text": [
      "\n",
      " Simultaneous \n",
      "\n",
      "5.000 & 25.000  & 3.750  & 0.500  & 8.750  & 2.500  & 3.750 & 13.750 \\\\\n",
      "5.000 & 26.000  & 3.750  & 0.500  & 8.750  & 2.500  & 3.750 & 14.750 \\\\\n",
      "5.000 & 27.000  & 3.750  & 0.500  & 8.750  & 2.500  & 3.750 & 15.750 \\\\\n",
      "5.000 & 28.000  & 3.750  & 0.500  & 8.750  & 2.500  & 3.750 & 16.750 \\\\\n",
      "5.000 & 29.000  & 3.750  & 0.500  & 8.750  & 2.500  & 3.750 & 17.750 \\\\\n",
      "\n",
      "\n",
      "5.000 & 25.000  & 3.750  & 0.500  & 8.750  & 2.500  & 3.750 & 13.750 \\\\\n",
      "5.000 & 26.000  & 3.750  & 0.500  & 8.750  & 2.500  & 3.750 & 14.750 \\\\\n",
      "5.000 & 27.000  & 3.750  & 0.500  & 8.750  & 2.500  & 3.750 & 15.750 \\\\\n",
      "5.000 & 28.000  & 3.750  & 0.500  & 8.750  & 2.500  & 3.750 & 16.750 \\\\\n",
      "5.000 & 29.000  & 3.750  & 0.500  & 8.750  & 2.500  & 3.750 & 17.750 \\\\\n",
      "\n",
      " Sequential \n",
      "\n",
      "5.000 & 25.000  & 7.150  & 0.420  & 11.347  & 1.761  & 5.751 & 11.555 \\\\\n",
      "5.000 & 26.000  & 7.150  & 0.420  & 11.347  & 1.761  & 5.751 & 12.555 \\\\\n",
      "5.000 & 27.000  & 7.150  & 0.420  & 11.347  & 1.761  & 5.751 & 13.555 \\\\\n",
      "5.000 & 28.000  & 7.150  & 0.420  & 11.347  & 1.761  & 5.751 & 14.555 \\\\\n",
      "5.000 & 29.000  & 7.150  & 0.420  & 11.347  & 1.761  & 5.751 & 15.555 \\\\\n",
      "\n",
      "\n",
      "5.000 & 25.000  & 4.740  & 0.580  & 10.543  & 3.368  & 5.751 & 11.555 \\\\\n",
      "5.000 & 26.000  & 4.740  & 0.580  & 10.543  & 3.368  & 5.751 & 12.555 \\\\\n",
      "5.000 & 27.000  & 4.740  & 0.580  & 10.543  & 3.368  & 5.751 & 13.555 \\\\\n",
      "5.000 & 28.000  & 4.740  & 0.580  & 10.543  & 3.368  & 5.751 & 14.555 \\\\\n",
      "5.000 & 29.000  & 4.740  & 0.580  & 10.543  & 3.368  & 5.751 & 15.555 \\\\\n"
     ]
    }
   ],
   "source": [
    "def make_table(arg, steps, params,betas=[.5,.5]):\n",
    "    \"\"\"the argument is \n",
    "    args = 0 - mu1, 1- mu2, 2 -cost, 3 - wtp\n",
    "    steps = min_arg, max_arg, no_step \"\"\"\n",
    "    \n",
    "    min_arg, max_arg, no_step = steps\n",
    "    \n",
    "    cols = ['eq_type','listprice','distance_cost','mc1','mc2','profit1','profit2','hosp_profit','share1','share2']\n",
    "    \n",
    "    indep_var = np.linspace(min_arg, max_arg, no_step)\n",
    "    \n",
    "    for eq_type in ['Simultaneous', 'Sequential']:\n",
    "        result1 = []\n",
    "        result2 = []\n",
    "        for var in indep_var:\n",
    "        \n",
    "            param_copy = list(params)\n",
    "            param_copy[arg] = var\n",
    "            mu1,mu2,cost,wtp = param_copy\n",
    "            \n",
    "            mc1,mc2 = 15,15\n",
    "            \n",
    "            if eq_type == 'Simultaneous':\n",
    "                mc1,mc2 = simult_bargain(mc1, mc2, mu1, mu2, cost, wtp,betas=betas)\n",
    "            else:\n",
    "                mc1,mc2 = seq_bargain(mc1, mu1, mu2, cost, wtp,betas=betas)\n",
    "            \n",
    "            s1 = calc_t(mc1,mc2,mu1, mu2, cost,wtp)\n",
    "            s2 = calc_t(mc2,mc1,mu2, mu1, cost,wtp)\n",
    "            p1,p2 = calc_price(mc1,mc2,mu1, mu2, cost,wtp)\n",
    "            pi1,pi2 = s1*(p1-mc1),  s2*(p2-mc2)\n",
    "            pi_h = s1*mc1 + s2*mc2\n",
    "            cons1 = wtp - s1*cost - p1\n",
    "            cons2 = wtp - s2*cost - p2\n",
    "            \n",
    "            result1.append( (cost, wtp, mc1, s1, p1, pi1,  pi_h, cons1) ) \n",
    "            result2.append( (cost, wtp, mc2, s2, p2, pi2,  pi_h, cons2) ) \n",
    "        print('\\n',eq_type, '\\n')\n",
    "        \n",
    "        for line in result1:\n",
    "            print(\"%.3f & %.3f  & %.3f  & %.3f  & %.3f  & %.3f  & %.3f & %.3f \\\\\\\\\"%line)\n",
    "            \n",
    "        print('\\n')\n",
    "        \n",
    "        for line in result2:\n",
    "            print(\"%.3f & %.3f  & %.3f  & %.3f  & %.3f  & %.3f  & %.3f & %.3f \\\\\\\\\"%line)\n",
    "            \n",
    "    \n",
    "\n",
    "make_table(3, (25,29,5), (1,1,5,25))"
   ]
  },
  {
   "cell_type": "code",
   "execution_count": 31,
   "metadata": {},
   "outputs": [
    {
     "name": "stdout",
     "output_type": "stream",
     "text": [
      "\n",
      " Simultaneous \n",
      "\n",
      "5.000 & 25.000  & 5.676  & 0.529  & 10.961  & 2.794  & 6.080 & 11.396 \\\\\n",
      "\n",
      "\n",
      "5.000 & 25.000  & 6.532  & 0.471  & 11.247  & 2.223  & 6.080 & 11.396 \\\\\n",
      "\n",
      " Sequential \n",
      "\n",
      "5.000 & 25.000  & 17.625  & 0.355  & 21.177  & 1.262  & 14.824 & 2.047 \\\\\n",
      "\n",
      "\n",
      "5.000 & 25.000  & 13.281  & 0.645  & 19.729  & 4.158  & 14.824 & 2.047 \\\\\n"
     ]
    }
   ],
   "source": [
    "make_table(3, (25,26,1), (1,1,5,25), betas=[0.4208, 0.34])"
   ]
  },
  {
   "cell_type": "code",
   "execution_count": 32,
   "metadata": {},
   "outputs": [
    {
     "name": "stdout",
     "output_type": "stream",
     "text": [
      "\n",
      " Simultaneous \n",
      "\n",
      "5.000 & 25.000  & 9.068  & 0.392  & 12.983  & 1.533  & 7.088 & 10.059 \\\\\n",
      "5.000 & 26.000  & 9.068  & 0.392  & 12.983  & 1.533  & 7.088 & 11.059 \\\\\n",
      "\n",
      "\n",
      "5.000 & 25.000  & 5.814  & 0.608  & 11.899  & 3.702  & 7.088 & 10.059 \\\\\n",
      "5.000 & 26.000  & 5.814  & 0.608  & 11.899  & 3.702  & 7.088 & 11.059 \\\\\n",
      "\n",
      " Sequential \n",
      "\n",
      "5.000 & 25.000  & 24.492  & 0.162  & 26.115  & 0.263  & 16.003 & -1.926 \\\\\n",
      "5.000 & 26.000  & 24.492  & 0.162  & 26.115  & 0.263  & 16.003 & -0.926 \\\\\n",
      "\n",
      "\n",
      "5.000 & 25.000  & 14.359  & 0.838  & 22.737  & 7.018  & 16.003 & -1.926 \\\\\n",
      "5.000 & 26.000  & 14.359  & 0.838  & 22.737  & 7.018  & 16.003 & -0.926 \\\\\n"
     ]
    }
   ],
   "source": [
    "make_table(3, (25,26,2), (1,1,5,25),betas=[.19,.48])"
   ]
  },
  {
   "cell_type": "code",
   "execution_count": 33,
   "metadata": {},
   "outputs": [
    {
     "name": "stdout",
     "output_type": "stream",
     "text": [
      "\n",
      " Simultaneous \n",
      "\n",
      "5.000 & 25.000  & 3.750  & 0.500  & 8.750  & 2.500  & 3.750 & 13.750 \\\\\n",
      "6.000 & 25.000  & 4.500  & 0.500  & 10.500  & 3.000  & 4.500 & 11.500 \\\\\n",
      "7.000 & 25.000  & 5.250  & 0.500  & 12.250  & 3.500  & 5.250 & 9.250 \\\\\n",
      "8.000 & 25.000  & 6.000  & 0.500  & 14.000  & 4.000  & 6.000 & 7.000 \\\\\n",
      "9.000 & 25.000  & 6.750  & 0.500  & 15.750  & 4.500  & 6.750 & 4.750 \\\\\n",
      "\n",
      "\n",
      "5.000 & 25.000  & 3.750  & 0.500  & 8.750  & 2.500  & 3.750 & 13.750 \\\\\n",
      "6.000 & 25.000  & 4.500  & 0.500  & 10.500  & 3.000  & 4.500 & 11.500 \\\\\n",
      "7.000 & 25.000  & 5.250  & 0.500  & 12.250  & 3.500  & 5.250 & 9.250 \\\\\n",
      "8.000 & 25.000  & 6.000  & 0.500  & 14.000  & 4.000  & 6.000 & 7.000 \\\\\n",
      "9.000 & 25.000  & 6.750  & 0.500  & 15.750  & 4.500  & 6.750 & 4.750 \\\\\n",
      "\n",
      " Sequential \n",
      "\n",
      "5.000 & 25.000  & 7.150  & 0.420  & 11.347  & 1.761  & 5.751 & 11.555 \\\\\n",
      "6.000 & 25.000  & 8.531  & 0.421  & 13.577  & 2.122  & 6.873 & 8.899 \\\\\n",
      "7.000 & 25.000  & 9.949  & 0.421  & 15.837  & 2.476  & 8.016 & 6.219 \\\\\n",
      "8.000 & 25.000  & 11.367  & 0.421  & 18.097  & 2.831  & 9.160 & 3.538 \\\\\n",
      "9.000 & 25.000  & 12.844  & 0.420  & 20.403  & 3.175  & 10.337 & 0.817 \\\\\n",
      "\n",
      "\n",
      "5.000 & 25.000  & 4.740  & 0.580  & 10.543  & 3.368  & 5.751 & 11.555 \\\\\n",
      "6.000 & 25.000  & 5.670  & 0.579  & 12.624  & 4.029  & 6.873 & 8.899 \\\\\n",
      "7.000 & 25.000  & 6.614  & 0.579  & 14.725  & 4.700  & 8.016 & 6.219 \\\\\n",
      "8.000 & 25.000  & 7.557  & 0.579  & 16.827  & 5.371  & 9.160 & 3.538 \\\\\n",
      "9.000 & 25.000  & 8.522  & 0.580  & 18.963  & 6.056  & 10.337 & 0.817 \\\\\n"
     ]
    }
   ],
   "source": [
    "make_table(2, (5,9,5), (1,1,5,25),betas=[.5,.5])"
   ]
  },
  {
   "cell_type": "code",
   "execution_count": 35,
   "metadata": {},
   "outputs": [
    {
     "name": "stdout",
     "output_type": "stream",
     "text": [
      "\n",
      " Simultaneous \n",
      "\n",
      "5.000 & 25.000  & 7.094  & 0.421  & 11.302  & 1.771  & 5.719 & 11.593 \\\\\n",
      "6.000 & 25.000  & 8.512  & 0.421  & 13.563  & 2.125  & 6.862 & 8.912 \\\\\n",
      "7.000 & 25.000  & 9.931  & 0.421  & 15.823  & 2.480  & 8.006 & 6.231 \\\\\n",
      "8.000 & 25.000  & 11.350  & 0.421  & 18.084  & 2.834  & 9.150 & 3.549 \\\\\n",
      "9.000 & 25.000  & 12.769  & 0.421  & 20.344  & 3.188  & 10.294 & 0.868 \\\\\n",
      "\n",
      "\n",
      "5.000 & 25.000  & 4.719  & 0.579  & 10.511  & 3.354  & 5.719 & 11.593 \\\\\n",
      "6.000 & 25.000  & 5.663  & 0.579  & 12.613  & 4.025  & 6.862 & 8.912 \\\\\n",
      "7.000 & 25.000  & 6.607  & 0.579  & 14.715  & 4.696  & 8.006 & 6.231 \\\\\n",
      "8.000 & 25.000  & 7.551  & 0.579  & 16.817  & 5.366  & 9.150 & 3.549 \\\\\n",
      "9.000 & 25.000  & 8.495  & 0.579  & 18.920  & 6.037  & 10.294 & 0.868 \\\\\n",
      "\n",
      " Sequential \n",
      "\n",
      "5.000 & 25.000  & 18.018  & 0.233  & 20.351  & 0.544  & 11.884 & 3.483 \\\\\n",
      "6.000 & 25.000  & 21.610  & 0.233  & 24.412  & 0.654  & 14.254 & -0.812 \\\\\n",
      "7.000 & 25.000  & 25.219  & 0.233  & 28.486  & 0.763  & 16.634 & -5.120 \\\\\n",
      "8.000 & 25.000  & 28.898  & 0.233  & 32.621  & 0.866  & 19.053 & -9.483 \\\\\n",
      "9.000 & 25.000  & 32.461  & 0.233  & 36.656  & 0.978  & 21.407 & -13.754 \\\\\n",
      "\n",
      "\n",
      "5.000 & 25.000  & 10.017  & 0.767  & 17.684  & 5.878  & 11.884 & 3.483 \\\\\n",
      "6.000 & 25.000  & 12.014  & 0.767  & 21.213  & 7.051  & 14.254 & -0.812 \\\\\n",
      "7.000 & 25.000  & 14.021  & 0.767  & 24.753  & 8.228  & 16.634 & -5.120 \\\\\n",
      "8.000 & 25.000  & 16.067  & 0.767  & 28.344  & 9.420  & 19.053 & -9.483 \\\\\n",
      "9.000 & 25.000  & 18.048  & 0.767  & 31.852  & 10.587  & 21.407 & -13.754 \\\\\n"
     ]
    }
   ],
   "source": [
    "make_table(2, (5,9,5), (1,1,5,25),betas=[0.2739, 0.5])"
   ]
  },
  {
   "cell_type": "code",
   "execution_count": 36,
   "metadata": {},
   "outputs": [
    {
     "name": "stdout",
     "output_type": "stream",
     "text": [
      "25.000 & 5.000  & 19.000 & 0.421 \\\\\n",
      "25.000 & 5.000  & 20.000 & 0.445 \\\\\n",
      "25.000 & 5.000  & 21.000 & 0.466 \\\\\n",
      "25.000 & 5.000  & 22.000 & 0.485 \\\\\n",
      "26.000 & 5.000  & 19.000 & 0.407 \\\\\n",
      "26.000 & 5.000  & 20.000 & 0.433 \\\\\n",
      "26.000 & 5.000  & 21.000 & 0.456 \\\\\n",
      "26.000 & 5.000  & 22.000 & 0.476 \\\\\n",
      "27.000 & 5.000  & 19.000 & 0.392 \\\\\n",
      "27.000 & 5.000  & 20.000 & 0.421 \\\\\n",
      "27.000 & 5.000  & 21.000 & 0.445 \\\\\n",
      "27.000 & 5.000  & 22.000 & 0.466 \\\\\n"
     ]
    }
   ],
   "source": [
    "#print some numerical derivatives\n",
    "\n",
    "for j in np.linspace(25,27, 3):\n",
    "    for i in np.linspace(19,22,4):\n",
    "        WTP = j\n",
    "        COST = 5\n",
    "        diff = .1\n",
    "        theta2 = bargain_helper_seq(i, 1,1, COST, WTP)\n",
    "        theta2_dist = bargain_helper_seq(i + diff , 1,1, COST, WTP)\n",
    "        deriv = (theta2_dist-theta2)/diff\n",
    "    \n",
    "        print('%.3f & %.3f  & %.3f & %.3f \\\\\\\\'%(WTP,COST,i,deriv))\n"
   ]
  },
  {
   "cell_type": "code",
   "execution_count": null,
   "metadata": {},
   "outputs": [],
   "source": []
  }
 ],
 "metadata": {
  "kernelspec": {
   "display_name": "Python 3",
   "language": "python",
   "name": "python3"
  },
  "language_info": {
   "codemirror_mode": {
    "name": "ipython",
    "version": 3
   },
   "file_extension": ".py",
   "mimetype": "text/x-python",
   "name": "python",
   "nbconvert_exporter": "python",
   "pygments_lexer": "ipython3",
   "version": "3.7.3"
  }
 },
 "nbformat": 4,
 "nbformat_minor": 2
}
