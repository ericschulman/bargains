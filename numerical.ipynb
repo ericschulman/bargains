{
 "cells": [
  {
   "cell_type": "code",
   "execution_count": 1,
   "metadata": {},
   "outputs": [],
   "source": [
    "import numpy as np\n",
    "from scipy.optimize import minimize\n",
    "from scipy.optimize import fsolve\n",
    "from matplotlib import pyplot as plt\n",
    "import pandas as pd"
   ]
  },
  {
   "cell_type": "code",
   "execution_count": 22,
   "metadata": {},
   "outputs": [
    {
     "name": "stdout",
     "output_type": "stream",
     "text": [
      "-2.598076211353316\n",
      "----\n",
      "-2.3105284388352954\n"
     ]
    }
   ],
   "source": [
    "def calc_price(theta1, theta2, mu1, mu2, cost):\n",
    "    \"\"\"compute each insurer's price (assumes interior solution)\"\"\"\n",
    "    p1 = (2.*theta1*mu1+theta2*mu2)/3. + cost\n",
    "    p2 = (2.*theta2*mu2+theta1*mu1)/3. + cost\n",
    "    return np.maximum(p1,0), np.maximum(p2,0)\n",
    "  \n",
    "    \n",
    "def calc_t(theta1, theta2, mu1, mu2, cost, listprice):\n",
    "    \"\"\"compute the proportion of people choosing each insurer\n",
    "    assumes interior solution\"\"\"\n",
    "    p1, p2 = calc_price(theta1, theta2, mu1, mu2, cost)\n",
    "    t_hat = .5 + (p2 - p1)/(2.*cost)\n",
    "    return t_hat\n",
    "\n",
    "\n",
    "def calc_eq(theta1, theta2, mu1, mu2, cost, listprice):\n",
    "    \"\"\"compute eq profit for each firm and market shares\n",
    "    Go through each KKT to ensure that we see if the market \n",
    "    is covered or not... \"\"\"\n",
    "\n",
    "    #interior solution\n",
    "    p1, p2 = calc_price(theta1, theta2, mu1, mu2, cost)\n",
    "    t1 = calc_t(theta1, theta2, mu1, mu2, cost, listprice)\n",
    "    if t1 > 1 or t1 < 0:\n",
    "        t1 = -1\n",
    "    #corner solution\n",
    "    p0 = (listprice + mu1*theta1)/2\n",
    "    t0 = (listprice - mu1*theta1)/(2*cost)   \n",
    "    #allow firms not to cover the market...\n",
    "    profits =  [t0*(p0-theta1*mu1),t1*(p1-theta1*mu1), 0]\n",
    "    ind = np.argmax(profits)\n",
    "    \n",
    "    if t0 + t1 >1:\n",
    "        ind = 1\n",
    "        if t1 < 0:\n",
    "            ind = 2\n",
    "    \n",
    "    #print([t0,t1,0], profits, ind)\n",
    "    return [t0,t1,0], profits, ind\n",
    "\n",
    "\n",
    "def calc_profits(theta1,theta2,mu1,mu2,cost, listprice):\n",
    "    t1, profits1, index1 = calc_eq(theta1, theta2, mu1, mu2, cost, listprice)\n",
    "    t2, profits2, index2 = calc_eq(theta2, theta1, mu2, mu1, cost, listprice)\n",
    "    hosp_profit = t1[index1]*theta1*mu1 +  t2[index2]*theta2*mu2\n",
    "    return hosp_profit, profits1[index1], profits2[index2]\n",
    "\n",
    "    \n",
    "def outside_simlt(mu1,cost,listprice):\n",
    "    \"\"\"outside option in simult case\n",
    "    assuming listprice high enough\"\"\"\n",
    "    return (listprice -cost)/2\n",
    "    #return 3*listprice**2/(32*cost)\n",
    "\n",
    "    \n",
    "#arbitrary outside option...\n",
    "def nash_in_nash(theta1, theta2, mu1, mu2, cost, listprice, outside):\n",
    "    hosp_profit, profits1, profits2 = calc_profits(theta1, theta2, mu1, mu2, cost, listprice)\n",
    "    obj = -1*(hosp_profit*profits1)**.5\n",
    "    return obj\n",
    "\n",
    "\n",
    "COST = 3\n",
    "LIST = 9\n",
    "print(nash_in_nash(9, LIST, .5, .5, COST,LIST, outside_simlt(.5,COST,LIST)))\n",
    "print('----')\n",
    "print(nash_in_nash(12, LIST, .5, .5, COST,LIST, outside_simlt(.5,COST,LIST)))"
   ]
  },
  {
   "cell_type": "code",
   "execution_count": 23,
   "metadata": {},
   "outputs": [
    {
     "data": {
      "text/plain": [
       "[<matplotlib.lines.Line2D at 0x7f52f5299ba8>]"
      ]
     },
     "execution_count": 23,
     "metadata": {},
     "output_type": "execute_result"
    },
    {
     "data": {
      "image/png": "[encoded data removed]",
      "text/plain": [
       "<Figure size 432x288 with 1 Axes>"
      ]
     },
     "metadata": {
      "needs_background": "light"
     },
     "output_type": "display_data"
    }
   ],
   "source": [
    "COST = 3\n",
    "LIST = 9\n",
    "\n",
    "plt.plot([i for i in np.linspace(COST,LIST,num=10)], \n",
    "         [nash_in_nash(i, LIST, .5, .5, COST,LIST, outside_simlt(.5,COST,LIST)) \n",
    "                                                          for i in np.linspace(COST,LIST,num=10)])\n"
   ]
  },
  {
   "cell_type": "code",
   "execution_count": 24,
   "metadata": {},
   "outputs": [
    {
     "name": "stdout",
     "output_type": "stream",
     "text": [
      "[4.5]\n"
     ]
    }
   ],
   "source": [
    "def bargain_helper(theta1, theta2, mu1, mu2, cost, listprice):\n",
    "    \"\"\"solve each firm 1s optimization holding theta 2 fixed\"\"\"\n",
    "    outside = outside_simlt(mu2,cost,listprice)\n",
    "    result = minimize(nash_in_nash, theta1, args=(theta2, mu1, mu2, cost, listprice, outside),\n",
    "                      method='Nelder-Mead', options={'disp': False})\n",
    "    return result.x\n",
    "\n",
    "COST =3\n",
    "LIST = 8\n",
    "print(bargain_helper(4.5, 4.5, .5, .5, COST,LIST))"
   ]
  },
  {
   "cell_type": "code",
   "execution_count": 25,
   "metadata": {},
   "outputs": [
    {
     "name": "stdout",
     "output_type": "stream",
     "text": [
      "(array([4.50001084]), array([4.50001214]))\n"
     ]
    }
   ],
   "source": [
    "def simult_bargain(theta1, theta2, mu1, mu2, cost, listprice):\n",
    "    \"\"\"solve the bargaining problems seperately and iterate for a solution\"\"\"       \n",
    "    \n",
    "    #loop variables\n",
    "    diff =  theta1\n",
    "\n",
    "    maxiter = 10\n",
    "    while maxiter >=0 and diff > 10e-7:\n",
    "        #seems as though there is a contraction mapping here, need to think more about why\n",
    "        theta1 = bargain_helper(theta1, theta2, mu1, mu2, cost, listprice)\n",
    "        theta2 = bargain_helper(theta2, theta1, mu2, mu1, cost,  listprice)\n",
    "        \n",
    "        #update loop variables\n",
    "        diff = np.abs(np.max(theta1 - theta2))\n",
    "        maxiter = maxiter-1\n",
    "        \n",
    "    return theta1, theta2\n",
    "\n",
    "print(simult_bargain(2,2,.5,.5,3,10))"
   ]
  },
  {
   "cell_type": "code",
   "execution_count": 40,
   "metadata": {},
   "outputs": [
    {
     "data": {
      "text/plain": [
       "[<matplotlib.lines.Line2D at 0x7f52f4d2a400>]"
      ]
     },
     "execution_count": 40,
     "metadata": {},
     "output_type": "execute_result"
    },
    {
     "data": {
      "image/png": "[encoded data removed]",
      "text/plain": [
       "<Figure size 432x288 with 1 Axes>"
      ]
     },
     "metadata": {
      "needs_background": "light"
     },
     "output_type": "display_data"
    }
   ],
   "source": [
    "def outside_seq(theta1,mu1,cost,listprice):\n",
    "    \"\"\"go through kkt to find a solution\"\"\"\n",
    "    #three solutions to firms optimization problem\n",
    "    p0, p1, p2 =  listprice - cost, (listprice + (mu1*theta1))/2, listprice\n",
    "    t0,t1,t2 = 1, (listprice - mu1*theta1)/(2*cost) , 0\n",
    "    #double check t1 is a valid solution\n",
    "    if t1 > 1 or t1 < 0:\n",
    "        t1 = -1\n",
    "    #find the max\n",
    "    ind = np.argmax([p0*t0, p1*t1, p2*t2])\n",
    "    print([t0,t1,t2], ind)\n",
    "    return mu1*theta1*([t0,t1,t2][ind])\n",
    "\n",
    "\n",
    "def outside_seq(theta1,mu1,cost,listprice):\n",
    "    \"\"\"assume that we amp up list price high enough\n",
    "    for a corner solution\"\"\"\n",
    "    return mu1*theta1\n",
    "\n",
    "\n",
    "def bargain_helper_seq(theta1, mu1, mu2, cost, listprice):\n",
    "    \"\"\"solve each firm 1s optimization holding theta 2 fixed\"\"\"\n",
    "    outside = outside_seq(theta1,mu1,cost,listprice)\n",
    "    result = minimize(nash_in_nash, 10., args=(theta1, mu2, mu1, cost, listprice, outside),\n",
    "                      method='Nelder-Mead', options={'disp': False})\n",
    "    return result.x\n",
    "\n",
    "\n",
    "def seq_obj(theta1, mu1, mu2, cost, listprice):\n",
    "    \"\"\" theta1 is a guess for the first stage \"\"\"\n",
    "    \n",
    "    theta2 = bargain_helper_seq(theta1, mu2, mu1, cost, listprice)\n",
    "    outside1 = outside_simlt(mu1,cost,listprice)\n",
    "    return nash_in_nash(theta1, theta2, mu1, mu2, cost, listprice, outside1)\n",
    "\n",
    "\n",
    "COST = 3\n",
    "LIST = 8\n",
    "plt.plot([i for i in np.linspace(COST+3,LIST+3,num=10)],  \n",
    "         [seq_obj(i, .5, .5, COST , LIST) for i in np.linspace(COST+3,LIST+3,num=10)])"
   ]
  },
  {
   "cell_type": "code",
   "execution_count": 27,
   "metadata": {},
   "outputs": [
    {
     "name": "stdout",
     "output_type": "stream",
     "text": [
      "(array([23.20548706]), array([19.61652564]))\n"
     ]
    }
   ],
   "source": [
    "def seq_bargain(theta1, mu1, mu2, cost, listprice):\n",
    "    \"\"\"solve the bargaining problems seperately,\n",
    "    then solve for the solution\"\"\"   \n",
    "    #only compute no deal 1x for initial\n",
    "    result = minimize(seq_obj, theta1, args=(mu1, mu2, cost, listprice),\n",
    "                      method='Nelder-Mead', options={'disp': False})\n",
    "    theta1 = result.x\n",
    "    theta2 = bargain_helper(theta1, theta1, mu2, mu1, cost, listprice)\n",
    "    return theta1, theta2\n",
    "\n",
    "\n",
    "print(seq_bargain(18,.5,.5,10,30))"
   ]
  },
  {
   "cell_type": "code",
   "execution_count": 28,
   "metadata": {},
   "outputs": [
    {
     "data": {
      "text/html": [
       "<div>\n",
       "<style scoped>\n",
       "    .dataframe tbody tr th:only-of-type {\n",
       "        vertical-align: middle;\n",
       "    }\n",
       "\n",
       "    .dataframe tbody tr th {\n",
       "        vertical-align: top;\n",
       "    }\n",
       "\n",
       "    .dataframe thead th {\n",
       "        text-align: right;\n",
       "    }\n",
       "</style>\n",
       "<table border=\"1\" class=\"dataframe\">\n",
       "  <thead>\n",
       "    <tr style=\"text-align: right;\">\n",
       "      <th></th>\n",
       "      <th>eq_type</th>\n",
       "      <th>listprice</th>\n",
       "      <th>distance_cost</th>\n",
       "      <th>mc1</th>\n",
       "      <th>mc2</th>\n",
       "      <th>profit1</th>\n",
       "      <th>profit2</th>\n",
       "      <th>hosp_profit</th>\n",
       "      <th>share1</th>\n",
       "      <th>share2</th>\n",
       "    </tr>\n",
       "  </thead>\n",
       "  <tbody>\n",
       "    <tr>\n",
       "      <th>0</th>\n",
       "      <td>Simultaneous</td>\n",
       "      <td>30</td>\n",
       "      <td>10.00</td>\n",
       "      <td>19.999976</td>\n",
       "      <td>20.000013</td>\n",
       "      <td>10.000012</td>\n",
       "      <td>9.999994</td>\n",
       "      <td>9.999997</td>\n",
       "      <td>0.500000</td>\n",
       "      <td>0.500000</td>\n",
       "    </tr>\n",
       "    <tr>\n",
       "      <th>1</th>\n",
       "      <td>Sequential</td>\n",
       "      <td>30</td>\n",
       "      <td>10.00</td>\n",
       "      <td>23.205505</td>\n",
       "      <td>19.616541</td>\n",
       "      <td>8.461468</td>\n",
       "      <td>10.192648</td>\n",
       "      <td>10.651842</td>\n",
       "      <td>0.470092</td>\n",
       "      <td>0.529908</td>\n",
       "    </tr>\n",
       "    <tr>\n",
       "      <th>2</th>\n",
       "      <td>Simultaneous</td>\n",
       "      <td>30</td>\n",
       "      <td>10.75</td>\n",
       "      <td>19.700015</td>\n",
       "      <td>19.700005</td>\n",
       "      <td>9.442376</td>\n",
       "      <td>9.442382</td>\n",
       "      <td>9.850005</td>\n",
       "      <td>0.500000</td>\n",
       "      <td>0.500000</td>\n",
       "    </tr>\n",
       "    <tr>\n",
       "      <th>3</th>\n",
       "      <td>Sequential</td>\n",
       "      <td>30</td>\n",
       "      <td>10.75</td>\n",
       "      <td>22.940735</td>\n",
       "      <td>19.240099</td>\n",
       "      <td>7.984821</td>\n",
       "      <td>9.659125</td>\n",
       "      <td>10.492128</td>\n",
       "      <td>0.471313</td>\n",
       "      <td>0.528687</td>\n",
       "    </tr>\n",
       "    <tr>\n",
       "      <th>4</th>\n",
       "      <td>Simultaneous</td>\n",
       "      <td>30</td>\n",
       "      <td>11.50</td>\n",
       "      <td>19.399991</td>\n",
       "      <td>19.400019</td>\n",
       "      <td>8.958482</td>\n",
       "      <td>8.958470</td>\n",
       "      <td>9.700002</td>\n",
       "      <td>0.500000</td>\n",
       "      <td>0.500000</td>\n",
       "    </tr>\n",
       "    <tr>\n",
       "      <th>5</th>\n",
       "      <td>Sequential</td>\n",
       "      <td>30</td>\n",
       "      <td>11.50</td>\n",
       "      <td>22.647766</td>\n",
       "      <td>18.872609</td>\n",
       "      <td>7.582551</td>\n",
       "      <td>9.192730</td>\n",
       "      <td>10.328457</td>\n",
       "      <td>0.472644</td>\n",
       "      <td>0.527356</td>\n",
       "    </tr>\n",
       "    <tr>\n",
       "      <th>6</th>\n",
       "      <td>Simultaneous</td>\n",
       "      <td>30</td>\n",
       "      <td>12.25</td>\n",
       "      <td>19.099981</td>\n",
       "      <td>19.099982</td>\n",
       "      <td>8.534753</td>\n",
       "      <td>8.534753</td>\n",
       "      <td>9.549991</td>\n",
       "      <td>0.500000</td>\n",
       "      <td>0.500000</td>\n",
       "    </tr>\n",
       "    <tr>\n",
       "      <th>7</th>\n",
       "      <td>Sequential</td>\n",
       "      <td>30</td>\n",
       "      <td>12.25</td>\n",
       "      <td>22.332733</td>\n",
       "      <td>18.514059</td>\n",
       "      <td>7.238893</td>\n",
       "      <td>8.781037</td>\n",
       "      <td>10.162099</td>\n",
       "      <td>0.474023</td>\n",
       "      <td>0.525977</td>\n",
       "    </tr>\n",
       "    <tr>\n",
       "      <th>8</th>\n",
       "      <td>Simultaneous</td>\n",
       "      <td>30</td>\n",
       "      <td>13.00</td>\n",
       "      <td>18.799993</td>\n",
       "      <td>18.799989</td>\n",
       "      <td>8.160772</td>\n",
       "      <td>8.160774</td>\n",
       "      <td>9.399995</td>\n",
       "      <td>0.500000</td>\n",
       "      <td>0.500000</td>\n",
       "    </tr>\n",
       "    <tr>\n",
       "      <th>9</th>\n",
       "      <td>Sequential</td>\n",
       "      <td>30</td>\n",
       "      <td>13.00</td>\n",
       "      <td>22.000031</td>\n",
       "      <td>18.164057</td>\n",
       "      <td>6.942297</td>\n",
       "      <td>8.414645</td>\n",
       "      <td>9.993859</td>\n",
       "      <td>0.475410</td>\n",
       "      <td>0.524590</td>\n",
       "    </tr>\n",
       "  </tbody>\n",
       "</table>\n",
       "</div>"
      ],
      "text/plain": [
       "        eq_type  listprice  distance_cost        mc1        mc2    profit1  \\\n",
       "0  Simultaneous         30          10.00  19.999976  20.000013  10.000012   \n",
       "1    Sequential         30          10.00  23.205505  19.616541   8.461468   \n",
       "2  Simultaneous         30          10.75  19.700015  19.700005   9.442376   \n",
       "3    Sequential         30          10.75  22.940735  19.240099   7.984821   \n",
       "4  Simultaneous         30          11.50  19.399991  19.400019   8.958482   \n",
       "5    Sequential         30          11.50  22.647766  18.872609   7.582551   \n",
       "6  Simultaneous         30          12.25  19.099981  19.099982   8.534753   \n",
       "7    Sequential         30          12.25  22.332733  18.514059   7.238893   \n",
       "8  Simultaneous         30          13.00  18.799993  18.799989   8.160772   \n",
       "9    Sequential         30          13.00  22.000031  18.164057   6.942297   \n",
       "\n",
       "     profit2  hosp_profit    share1    share2  \n",
       "0   9.999994     9.999997  0.500000  0.500000  \n",
       "1  10.192648    10.651842  0.470092  0.529908  \n",
       "2   9.442382     9.850005  0.500000  0.500000  \n",
       "3   9.659125    10.492128  0.471313  0.528687  \n",
       "4   8.958470     9.700002  0.500000  0.500000  \n",
       "5   9.192730    10.328457  0.472644  0.527356  \n",
       "6   8.534753     9.549991  0.500000  0.500000  \n",
       "7   8.781037    10.162099  0.474023  0.525977  \n",
       "8   8.160774     9.399995  0.500000  0.500000  \n",
       "9   8.414645     9.993859  0.475410  0.524590  "
      ]
     },
     "execution_count": 28,
     "metadata": {},
     "output_type": "execute_result"
    }
   ],
   "source": [
    "def make_table(arg, steps, params):\n",
    "    min_arg, max_arg, no_step = steps\n",
    "    \n",
    "    cols = ['eq_type','listprice','distance_cost','mc1','mc2','profit1','profit2','hosp_profit','share1','share2']\n",
    "    \n",
    "    indep_var = np.linspace(min_arg, max_arg, no_step)\n",
    "    results = []\n",
    "    \n",
    "    for var in indep_var:\n",
    "        param_copy = list(params)\n",
    "        param_copy[arg] = var\n",
    "        mu1,mu2,cost,listprice = param_copy\n",
    "        for eq_type in ['Simultaneous', 'Sequential']:\n",
    "            \n",
    "            mc1,mc2 = 15, 15\n",
    "            \n",
    "            if eq_type == 'Simultaneous':\n",
    "                mc1,mc2 = simult_bargain(mc1, mc2, mu1, mu2, cost, listprice)\n",
    "            else:\n",
    "                mc1,mc2 = seq_bargain(mc1, mu1, mu2, cost, listprice)\n",
    "            mc1, mc2 = mc1[0],mc2[0]\n",
    "            profit1 = calc_profits(mc1, mc2, mu1, mu2, cost,listprice)\n",
    "            profit2 = calc_profits(mc2, mc1, mu2, mu1, cost,listprice)\n",
    "            hosp_prof = hosp_profits(mc1, mc2, mu1, mu2, cost,listprice)\n",
    "            share1 = calc_t(mc1, mc2, mu1, mu2, cost,listprice)\n",
    "            share2 = calc_t(mc2, mc1, mu2, mu1, cost,listprice)\n",
    "            results.append([eq_type,listprice,cost,mc1,mc2,profit1,profit2,hosp_prof, share1,share2])\n",
    "            \n",
    "        \n",
    "    return pd.DataFrame(data=results, columns=cols)\n",
    "    \n",
    "\n",
    "make_table(2,(10,13,5), (.5,.5,10,30))"
   ]
  },
  {
   "cell_type": "code",
   "execution_count": 29,
   "metadata": {},
   "outputs": [],
   "source": [
    "table1 = make_table(2,(10,15,6), (.5,.5,10,30))\n",
    "table2 = make_table(3,(25,30,6), (.5,.5,10,30))\n",
    "\n",
    "table1.to_csv('distance_cost_table.csv',float_format='%.3f',index=False)\n",
    "table2.to_csv('listprice_table.csv',float_format='%.3f',index=False)"
   ]
  },
  {
   "cell_type": "code",
   "execution_count": 30,
   "metadata": {},
   "outputs": [
    {
     "name": "stdout",
     "output_type": "stream",
     "text": [
      "         eq_type  listprice  distance_cost        mc1        mc2    profit1  \\\n",
      "0   Simultaneous       25.0             10  16.000010  15.999963   7.224996   \n",
      "1     Sequential       25.0             10  17.877869  15.652410   6.448946   \n",
      "2   Simultaneous       26.0             10  16.799987  16.800006   7.744006   \n",
      "3     Sequential       26.0             10  18.937592  16.433943   6.832018   \n",
      "4   Simultaneous       27.0             10  17.599986  17.599980   8.281006   \n",
      "5     Sequential       27.0             10  19.999969  17.221287   7.225013   \n",
      "6   Simultaneous       28.0             10  18.399995  18.400004   8.836002   \n",
      "7     Sequential       28.0             10  21.065277  18.014258   7.627718   \n",
      "8   Simultaneous       29.0             10  19.200002  19.199994   9.408999   \n",
      "9     Sequential       29.0             10  22.133698  18.812765   8.039948   \n",
      "10  Simultaneous       30.0             10  19.999976  20.000013  10.000012   \n",
      "11    Sequential       30.0             10  23.205505  19.616541   8.461468   \n",
      "\n",
      "      profit2  hosp_profit    share1    share2  \n",
      "0    7.225016     7.999993  0.500000  0.500000  \n",
      "1    7.373481     8.361934  0.481455  0.518545  \n",
      "2    7.743997     8.399998  0.500000  0.500000  \n",
      "3    7.905902     8.816766  0.479136  0.520864  \n",
      "4    8.281009     8.799992  0.500000  0.500000  \n",
      "5    8.454211     9.273143  0.476844  0.523156  \n",
      "6    8.835998     9.200000  0.500000  0.500000  \n",
      "7    9.018229     9.731097  0.474575  0.525425  \n",
      "8    9.409003     9.599999  0.500000  0.500000  \n",
      "9    9.597746    10.190663  0.472326  0.527674  \n",
      "10   9.999994     9.999997  0.500000  0.500000  \n",
      "11  10.192648    10.651842  0.470092  0.529908  \n"
     ]
    }
   ],
   "source": [
    "table2 = make_table(3,(25,30,6), (.5,.5,10,30))\n",
    "print(table2)"
   ]
  },
  {
   "cell_type": "code",
   "execution_count": null,
   "metadata": {},
   "outputs": [],
   "source": []
  }
 ],
 "metadata": {
  "kernelspec": {
   "display_name": "Python 3",
   "language": "python",
   "name": "python3"
  },
  "language_info": {
   "codemirror_mode": {
    "name": "ipython",
    "version": 3
   },
   "file_extension": ".py",
   "mimetype": "text/x-python",
   "name": "python",
   "nbconvert_exporter": "python",
   "pygments_lexer": "ipython3",
   "version": "3.7.3"
  }
 },
 "nbformat": 4,
 "nbformat_minor": 2
}
