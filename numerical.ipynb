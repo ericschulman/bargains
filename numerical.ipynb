{
 "cells": [
  {
   "cell_type": "code",
   "execution_count": 64,
   "metadata": {},
   "outputs": [],
   "source": [
    "import numpy as np\n",
    "from scipy.optimize import minimize\n",
    "from scipy.optimize import fsolve\n",
    "from matplotlib import pyplot as plt\n",
    "import pandas as pd"
   ]
  },
  {
   "cell_type": "code",
   "execution_count": 65,
   "metadata": {},
   "outputs": [],
   "source": [
    "def calc_price(theta1, theta2, mu1, mu2, cost):\n",
    "    \"\"\"compute each insurer's price (assumes interior solution)\"\"\"\n",
    "    p1 = (2.*theta1*mu1+theta2*mu2)/3. + cost\n",
    "    p2 = (2.*theta2*mu2+theta1*mu1)/3. + cost\n",
    "    return np.maximum(p1,0), np.maximum(p2,0)\n",
    "  \n",
    "    \n",
    "def calc_t(theta1, theta2, mu1, mu2, cost, listprice):\n",
    "    \"\"\"compute the proportion of people choosing each insurer\"\"\"\n",
    "    p1, p2 = calc_price(theta1, theta2, mu1, mu2, cost)\n",
    "    t_hat = .5 + (p2 - p1)/(2.*cost)\n",
    "    return t_hat\n",
    "\n",
    "\n",
    "def calc_profits(theta1, theta2, mu1, mu2, cost, listprice):\n",
    "    \"\"\"compute profits for each firm\"\"\"\n",
    "    \n",
    "    #interior solution\n",
    "    p1, p2 = calc_price(theta1, theta2, mu1, mu2, cost)\n",
    "    t1 = calc_t(theta1, theta2, mu1, mu2, cost, listprice)\n",
    "    if t1 > 1 or t1 < 0:\n",
    "        t1 = -1\n",
    "    \n",
    "    #corner solution\n",
    "    p0 = (listprice + mu1*theta1)/2\n",
    "    t0 = (listprice - mu1*theta1)/(2*cost)\n",
    "    \n",
    "    return max([t0*(p0-theta1*mu1),t1*(p1-theta1*mu1), 0])\n",
    "\n",
    "\n",
    "def hosp_profits(theta1,theta2,mu1,mu2,cost, listprice):\n",
    "    \n",
    "    #need to fix this to account for the fact that the hospitals profit is decreasing...\n",
    "    t1 = calc_t(theta1, theta2, mu1, mu2, cost, listprice)\n",
    "    t2 = calc_t(theta2, theta1, mu2, mu1, cost, listprice)\n",
    "\n",
    "    return t1*theta1*mu1 +  t2*theta2*mu2 \n",
    "\n",
    "\n",
    "def outside_seq(theta1,mu1,cost,listprice):\n",
    "    \"\"\"go through kkt to find a solution\"\"\"\n",
    "    #three solutions to firms optimization problem\n",
    "    p0, p1, p2 = listprice, (listprice + (mu1*theta1))/2, listprice - cost  \n",
    "    t0,t1,t2 = 0, (listprice - mu1*theta1)/(2*cost) ,1\n",
    "    #double check t1 is a valid solution\n",
    "    if t1 > 1 or t1 < 0:\n",
    "        t1 = -1\n",
    "        \n",
    "    #find the max\n",
    "    ind = np.argmax([p0*t0, p1*t1, p2*t2])\n",
    "    return mu1*theta1*([t0,t1,t2][ind])\n",
    "\n",
    "    \n",
    "def outside_simlt(mu1,cost,listprice):\n",
    "    \"\"\"outside option in simult case\"\"\"\n",
    "    return mu1*(listprice - cost)/2\n",
    "\n",
    "    \n",
    "#arbitrary outside option...\n",
    "def nash_in_nash(theta1, theta2, mu1, mu2, cost, listprice, outside):\n",
    "    term1 = calc_profits(theta1, theta2, mu1, mu2, cost, listprice)\n",
    "    term2 = max(hosp_profits(theta1,theta2,mu1,mu2,cost, listprice)-outside,0)\n",
    "    obj = -1*(term1*term2)**.5\n",
    "    return obj"
   ]
  },
  {
   "cell_type": "code",
   "execution_count": 66,
   "metadata": {},
   "outputs": [
    {
     "data": {
      "text/plain": [
       "[<matplotlib.lines.Line2D at 0x7f94c26721d0>]"
      ]
     },
     "execution_count": 66,
     "metadata": {},
     "output_type": "execute_result"
    },
    {
     "data": {
      "image/png": "[encoded data removed]",
      "text/plain": [
       "<Figure size 432x288 with 1 Axes>"
      ]
     },
     "metadata": {
      "needs_background": "light"
     },
     "output_type": "display_data"
    }
   ],
   "source": [
    "\n",
    "plt.plot([i for i in range(15,40)], [nash_in_nash(i, 20, .5, .5, 10, 20, outside_simlt(.5,10,20)) \n",
    "                                      for i in range(15,40)])\n"
   ]
  },
  {
   "cell_type": "code",
   "execution_count": 67,
   "metadata": {},
   "outputs": [
    {
     "name": "stdout",
     "output_type": "stream",
     "text": [
      "[19.48214111]\n"
     ]
    }
   ],
   "source": [
    "def bargain_helper(theta1, theta2, mu1, mu2, cost, listprice):\n",
    "    \"\"\"solve each firm 1s optimization holding theta 2 fixed\"\"\"\n",
    "    outside = outside_simlt(mu2,cost,listprice)\n",
    "    result = minimize(nash_in_nash, theta1, args=(theta2, mu1, mu2, cost, listprice, outside),\n",
    "                      method='Nelder-Mead', options={'disp': False})\n",
    "    return result.x\n",
    "\n",
    "\n",
    "print(bargain_helper(17, 17, .5, .5, 10, 20))"
   ]
  },
  {
   "cell_type": "code",
   "execution_count": 60,
   "metadata": {},
   "outputs": [
    {
     "name": "stdout",
     "output_type": "stream",
     "text": [
      "(array([19.99998444]), array([19.99997741]))\n"
     ]
    }
   ],
   "source": [
    "def simult_bargain(theta1, theta2, mu1, mu2, cost, listprice):\n",
    "    \"\"\"solve the bargaining problems seperately and iterate for a solution\"\"\"       \n",
    "    \n",
    "    #loop variables\n",
    "    diff =  theta1\n",
    "\n",
    "    maxiter = 10\n",
    "    while maxiter >=0 and diff > 10e-7:\n",
    "        #seems as though there is a contraction mapping here, need to think more about why\n",
    "        theta1 = bargain_helper(theta1, theta2, mu1, mu2, cost, listprice)\n",
    "        theta2 = bargain_helper(theta2, theta1, mu2, mu1, cost,  listprice)\n",
    "        \n",
    "        #update loop variables\n",
    "        diff = np.abs(np.max(theta1 - theta2))\n",
    "        maxiter = maxiter-1\n",
    "        \n",
    "    return theta1, theta2\n",
    "\n",
    "\n",
    "print(simult_bargain(18,18,.5,.5,10,20))"
   ]
  },
  {
   "cell_type": "code",
   "execution_count": 81,
   "metadata": {},
   "outputs": [
    {
     "data": {
      "text/plain": [
       "[<matplotlib.lines.Line2D at 0x7f94c24e54e0>]"
      ]
     },
     "execution_count": 81,
     "metadata": {},
     "output_type": "execute_result"
    },
    {
     "data": {
      "image/png": "[encoded data removed]",
      "text/plain": [
       "<Figure size 432x288 with 1 Axes>"
      ]
     },
     "metadata": {
      "needs_background": "light"
     },
     "output_type": "display_data"
    }
   ],
   "source": [
    "def bargain_helper_seq(theta1, mu1, mu2, cost, listprice):\n",
    "    \"\"\"solve each firm 1s optimization holding theta 2 fixed\"\"\"\n",
    "    outside = outside_seq(theta1,mu1,cost,listprice)\n",
    "    result = minimize(nash_in_nash, 10., args=(theta1, mu2, mu1, cost, listprice, outside),\n",
    "                      method='Nelder-Mead', options={'disp': False})\n",
    "    return result.x\n",
    "\n",
    "\n",
    "def seq_obj(theta1, mu1, mu2, cost, listprice):\n",
    "    \"\"\" theta1 is a guess for the first stage \"\"\"\n",
    "    \n",
    "    theta2 = bargain_helper_seq(theta1, mu2, mu1, cost, listprice)\n",
    "    outside1 = outside_simlt(mu1,cost,listprice)\n",
    "    \n",
    "    return nash_in_nash(theta1, theta2, mu1, mu2, cost, listprice, outside1)\n",
    "\n",
    "plt.plot([i for i in range(15,30)],  [seq_obj(i, .5, .5, 10, 30) for i in range(15,30)])"
   ]
  },
  {
   "cell_type": "code",
   "execution_count": 79,
   "metadata": {},
   "outputs": [
    {
     "name": "stdout",
     "output_type": "stream",
     "text": [
      "(array([23.20548706]), array([19.61652564]))\n"
     ]
    }
   ],
   "source": [
    "def seq_bargain(theta1, mu1, mu2, cost, listprice):\n",
    "    \"\"\"solve the bargaining problems seperately,\n",
    "    then solve for the solution\"\"\"   \n",
    "    #only compute no deal 1x for initial\n",
    "    result = minimize(seq_obj, theta1, args=(mu1, mu2, cost, listprice),\n",
    "                      method='Nelder-Mead', options={'disp': False})\n",
    "    theta1 = result.x\n",
    "    theta2 = bargain_helper(theta1, theta1, mu2, mu1, cost, listprice)\n",
    "    return theta1, theta2\n",
    "\n",
    "\n",
    "print(seq_bargain(18,.5,.5,10,30))"
   ]
  },
  {
   "cell_type": "code",
   "execution_count": 76,
   "metadata": {},
   "outputs": [
    {
     "data": {
      "text/html": [
       "<div>\n",
       "<style scoped>\n",
       "    .dataframe tbody tr th:only-of-type {\n",
       "        vertical-align: middle;\n",
       "    }\n",
       "\n",
       "    .dataframe tbody tr th {\n",
       "        vertical-align: top;\n",
       "    }\n",
       "\n",
       "    .dataframe thead th {\n",
       "        text-align: right;\n",
       "    }\n",
       "</style>\n",
       "<table border=\"1\" class=\"dataframe\">\n",
       "  <thead>\n",
       "    <tr style=\"text-align: right;\">\n",
       "      <th></th>\n",
       "      <th>eq_type</th>\n",
       "      <th>distance_cost</th>\n",
       "      <th>mc1</th>\n",
       "      <th>mc2</th>\n",
       "      <th>profit1</th>\n",
       "      <th>profit2</th>\n",
       "      <th>hosp_profit</th>\n",
       "      <th>share1</th>\n",
       "      <th>share2</th>\n",
       "    </tr>\n",
       "  </thead>\n",
       "  <tbody>\n",
       "    <tr>\n",
       "      <th>0</th>\n",
       "      <td>Simultaneous</td>\n",
       "      <td>10.00</td>\n",
       "      <td>24.000017</td>\n",
       "      <td>24.000019</td>\n",
       "      <td>13.224990</td>\n",
       "      <td>13.224989</td>\n",
       "      <td>12.000009</td>\n",
       "      <td>0.500000</td>\n",
       "      <td>0.500000</td>\n",
       "    </tr>\n",
       "    <tr>\n",
       "      <th>1</th>\n",
       "      <td>Sequential</td>\n",
       "      <td>10.00</td>\n",
       "      <td>28.625427</td>\n",
       "      <td>23.711809</td>\n",
       "      <td>10.699095</td>\n",
       "      <td>13.391229</td>\n",
       "      <td>12.983711</td>\n",
       "      <td>0.459053</td>\n",
       "      <td>0.540947</td>\n",
       "    </tr>\n",
       "    <tr>\n",
       "      <th>2</th>\n",
       "      <td>Simultaneous</td>\n",
       "      <td>10.75</td>\n",
       "      <td>23.700033</td>\n",
       "      <td>23.699995</td>\n",
       "      <td>12.463296</td>\n",
       "      <td>12.463317</td>\n",
       "      <td>11.850007</td>\n",
       "      <td>0.500000</td>\n",
       "      <td>0.500000</td>\n",
       "    </tr>\n",
       "    <tr>\n",
       "      <th>3</th>\n",
       "      <td>Sequential</td>\n",
       "      <td>10.75</td>\n",
       "      <td>28.424652</td>\n",
       "      <td>23.297146</td>\n",
       "      <td>10.049474</td>\n",
       "      <td>12.681143</td>\n",
       "      <td>12.828545</td>\n",
       "      <td>0.460252</td>\n",
       "      <td>0.539748</td>\n",
       "    </tr>\n",
       "    <tr>\n",
       "      <th>4</th>\n",
       "      <td>Simultaneous</td>\n",
       "      <td>11.50</td>\n",
       "      <td>23.400011</td>\n",
       "      <td>23.400007</td>\n",
       "      <td>11.801951</td>\n",
       "      <td>11.801953</td>\n",
       "      <td>11.700004</td>\n",
       "      <td>0.500000</td>\n",
       "      <td>0.500000</td>\n",
       "    </tr>\n",
       "    <tr>\n",
       "      <th>5</th>\n",
       "      <td>Sequential</td>\n",
       "      <td>11.50</td>\n",
       "      <td>28.181030</td>\n",
       "      <td>22.890895</td>\n",
       "      <td>9.504490</td>\n",
       "      <td>12.061238</td>\n",
       "      <td>12.666584</td>\n",
       "      <td>0.461666</td>\n",
       "      <td>0.538334</td>\n",
       "    </tr>\n",
       "    <tr>\n",
       "      <th>6</th>\n",
       "      <td>Simultaneous</td>\n",
       "      <td>12.25</td>\n",
       "      <td>23.100019</td>\n",
       "      <td>23.100015</td>\n",
       "      <td>11.222491</td>\n",
       "      <td>11.222493</td>\n",
       "      <td>11.550008</td>\n",
       "      <td>0.500000</td>\n",
       "      <td>0.500000</td>\n",
       "    </tr>\n",
       "    <tr>\n",
       "      <th>7</th>\n",
       "      <td>Sequential</td>\n",
       "      <td>12.25</td>\n",
       "      <td>27.904724</td>\n",
       "      <td>22.493926</td>\n",
       "      <td>9.040879</td>\n",
       "      <td>11.514424</td>\n",
       "      <td>12.500082</td>\n",
       "      <td>0.463192</td>\n",
       "      <td>0.536808</td>\n",
       "    </tr>\n",
       "    <tr>\n",
       "      <th>8</th>\n",
       "      <td>Simultaneous</td>\n",
       "      <td>13.00</td>\n",
       "      <td>22.800012</td>\n",
       "      <td>22.800025</td>\n",
       "      <td>10.710764</td>\n",
       "      <td>10.710758</td>\n",
       "      <td>11.400009</td>\n",
       "      <td>0.500000</td>\n",
       "      <td>0.500000</td>\n",
       "    </tr>\n",
       "    <tr>\n",
       "      <th>9</th>\n",
       "      <td>Sequential</td>\n",
       "      <td>13.00</td>\n",
       "      <td>27.602966</td>\n",
       "      <td>22.106297</td>\n",
       "      <td>8.641868</td>\n",
       "      <td>11.027917</td>\n",
       "      <td>12.330478</td>\n",
       "      <td>0.464765</td>\n",
       "      <td>0.535235</td>\n",
       "    </tr>\n",
       "  </tbody>\n",
       "</table>\n",
       "</div>"
      ],
      "text/plain": [
       "        eq_type  distance_cost        mc1        mc2    profit1    profit2  \\\n",
       "0  Simultaneous          10.00  24.000017  24.000019  13.224990  13.224989   \n",
       "1    Sequential          10.00  28.625427  23.711809  10.699095  13.391229   \n",
       "2  Simultaneous          10.75  23.700033  23.699995  12.463296  12.463317   \n",
       "3    Sequential          10.75  28.424652  23.297146  10.049474  12.681143   \n",
       "4  Simultaneous          11.50  23.400011  23.400007  11.801951  11.801953   \n",
       "5    Sequential          11.50  28.181030  22.890895   9.504490  12.061238   \n",
       "6  Simultaneous          12.25  23.100019  23.100015  11.222491  11.222493   \n",
       "7    Sequential          12.25  27.904724  22.493926   9.040879  11.514424   \n",
       "8  Simultaneous          13.00  22.800012  22.800025  10.710764  10.710758   \n",
       "9    Sequential          13.00  27.602966  22.106297   8.641868  11.027917   \n",
       "\n",
       "   hosp_profit    share1    share2  \n",
       "0    12.000009  0.500000  0.500000  \n",
       "1    12.983711  0.459053  0.540947  \n",
       "2    11.850007  0.500000  0.500000  \n",
       "3    12.828545  0.460252  0.539748  \n",
       "4    11.700004  0.500000  0.500000  \n",
       "5    12.666584  0.461666  0.538334  \n",
       "6    11.550008  0.500000  0.500000  \n",
       "7    12.500082  0.463192  0.536808  \n",
       "8    11.400009  0.500000  0.500000  \n",
       "9    12.330478  0.464765  0.535235  "
      ]
     },
     "execution_count": 76,
     "metadata": {},
     "output_type": "execute_result"
    }
   ],
   "source": [
    "def make_table(arg, steps, params):\n",
    "    min_arg, max_arg, no_step = steps\n",
    "    \n",
    "    cols = ['eq_type','distance_cost','mc1','mc2','profit1','profit2','hosp_profit','share1','share2']\n",
    "    \n",
    "    indep_var = np.linspace(min_arg, max_arg, no_step)\n",
    "    results = []\n",
    "    \n",
    "    for var in indep_var:\n",
    "        param_copy = list(params)\n",
    "        param_copy[arg] = var\n",
    "        mu1,mu2,cost,listprice = param_copy\n",
    "        for eq_type in ['Simultaneous', 'Sequential']:\n",
    "            \n",
    "            mc1,mc2 = 15, 15\n",
    "            \n",
    "            if eq_type == 'Simultaneous':\n",
    "                mc1,mc2 = simult_bargain(mc1, mc2, mu1, mu2, cost, listprice)\n",
    "            else:\n",
    "                mc1,mc2 = seq_bargain(mc1, mu1, mu2, cost, listprice)\n",
    "            mc1, mc2 = mc1[0],mc2[0]\n",
    "            profit1 = calc_profits(mc1, mc2, mu1, mu2, cost,listprice)\n",
    "            profit2 = calc_profits(mc2, mc1, mu2, mu1, cost,listprice)\n",
    "            hosp_prof = hosp_profits(mc1, mc2, mu1, mu2, cost,listprice)\n",
    "            share1 = calc_t(mc1, mc2, mu1, mu2, cost,listprice)\n",
    "            share2 = 1-share1\n",
    "            results.append([eq_type,cost,mc1,mc2,profit1,profit2,hosp_prof, share1,share2])\n",
    "            \n",
    "        \n",
    "    return pd.DataFrame(data=results, columns=cols)\n",
    "    \n",
    "\n",
    "make_table(2,(10,13,5), (.5,.5,10,30))"
   ]
  },
  {
   "cell_type": "code",
   "execution_count": 88,
   "metadata": {},
   "outputs": [],
   "source": [
    "table1 = make_table(2,(10,15,6), (.5,.5,10,30))\n",
    "table2 = make_table(3,(25,30,6), (.5,.5,10,30))\n",
    "\n",
    "table1.to_csv('distance_cost_table.csv',float_format='%.3f',index=False)\n",
    "table2.to_csv('listprice_table.csv',float_format='%.3f',index=False)"
   ]
  },
  {
   "cell_type": "code",
   "execution_count": null,
   "metadata": {},
   "outputs": [],
   "source": []
  }
 ],
 "metadata": {
  "kernelspec": {
   "display_name": "Python 3",
   "language": "python",
   "name": "python3"
  },
  "language_info": {
   "codemirror_mode": {
    "name": "ipython",
    "version": 3
   },
   "file_extension": ".py",
   "mimetype": "text/x-python",
   "name": "python",
   "nbconvert_exporter": "python",
   "pygments_lexer": "ipython3",
   "version": "3.7.3"
  }
 },
 "nbformat": 4,
 "nbformat_minor": 2
}
