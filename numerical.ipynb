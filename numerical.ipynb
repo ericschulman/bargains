{
 "cells": [
  {
   "cell_type": "code",
   "execution_count": 3,
   "metadata": {},
   "outputs": [],
   "source": [
    "import numpy as np\n",
    "from scipy.optimize import minimize\n",
    "from scipy.optimize import fsolve\n",
    "from matplotlib import pyplot as plt\n",
    "import pandas as pd"
   ]
  },
  {
   "cell_type": "code",
   "execution_count": 28,
   "metadata": {},
   "outputs": [
    {
     "name": "stdout",
     "output_type": "stream",
     "text": [
      "0\n"
     ]
    }
   ],
   "source": [
    "print(max(-4,0))"
   ]
  },
  {
   "cell_type": "code",
   "execution_count": 32,
   "metadata": {},
   "outputs": [
    {
     "data": {
      "text/plain": [
       "[<matplotlib.lines.Line2D at 0x7f76b62939e8>]"
      ]
     },
     "execution_count": 32,
     "metadata": {},
     "output_type": "execute_result"
    },
    {
     "data": {
      "image/png": "[encoded data removed]",
      "text/plain": [
       "<Figure size 432x288 with 1 Axes>"
      ]
     },
     "metadata": {
      "needs_background": "light"
     },
     "output_type": "display_data"
    }
   ],
   "source": [
    "def calc_price(theta1, theta2, mu1, mu2, cost):\n",
    "    \"\"\"compute each insurer's price (assumes interior solution)\"\"\"\n",
    "    p1 = (2.*theta1*mu1+theta2*mu2)/3. + cost\n",
    "    p2 = (2.*theta2*mu2+theta1*mu1)/3. + cost\n",
    "    return np.maximum(p1,0), np.maximum(p2,0)\n",
    "  \n",
    "    \n",
    "def calc_t(theta1, theta2, mu1, mu2, cost):\n",
    "    \"\"\"compute the proportion of people choosing each insurer\"\"\"\n",
    "    p1, p2 = calc_price(theta1, theta2, mu1, mu2, cost)\n",
    "    t_hat = .5 + (p2 - p1)/(2.*cost)\n",
    "    return np.clip(t_hat,0,1)\n",
    "\n",
    "\n",
    "def calc_profits(theta1, theta2, mu1, mu2, cost):\n",
    "    \"\"\"compute profits for each firm\"\"\"\n",
    "    p1, p2 = calc_price(theta1, theta2, mu1, mu2, cost)\n",
    "    t1 = calc_t(theta1, theta2, mu1, mu2, cost)\n",
    "    return t1*np.maximum(p1-theta1*mu1,0)\n",
    "\n",
    "\n",
    "def hosp_profits(theta1,theta2,mu1,mu2,cost):\n",
    "    t1 = calc_t(theta1, theta2, mu1, mu2, cost)\n",
    "    return t1*theta1*mu1 +  (1-t1)*theta2*mu2 \n",
    "\n",
    "\n",
    "def outside_seq(theta1,mu1,cost,listprice):\n",
    "    \"\"\"compute outside option sequential case\"\"\"\n",
    "    price = (listprice+ mu1*theta1)/2\n",
    "    return np.clip((listprice - price)/cost ,0,1)*mu1*theta1\n",
    "\n",
    "    \n",
    "def outside_simlt(mu1,cost,listprice):\n",
    "    \"\"\"outside option in simult case\"\"\"\n",
    "    return 3*listprice**2/(32*cost)\n",
    "\n",
    "    \n",
    "#arbitrary outside option...\n",
    "def nash_in_nash(theta1, theta2, mu1, mu2, cost, outside):\n",
    "    term1 = calc_profits(theta1, theta2, mu1, mu2, cost)\n",
    "    term2 = max(hosp_profits(theta1,theta2,mu1,mu2,cost)-outside,0)\n",
    "    obj = -1*(term1*term2)**.5\n",
    "    return obj\n",
    "\n",
    "plt.plot([i for i in range(5,30)],  [nash_in_nash(i, 15, .5, .5, 10, 0) for i in range(5,30)])"
   ]
  },
  {
   "cell_type": "code",
   "execution_count": 57,
   "metadata": {},
   "outputs": [
    {
     "data": {
      "text/plain": [
       "[<matplotlib.lines.Line2D at 0x7f76b63a7470>]"
      ]
     },
     "execution_count": 57,
     "metadata": {},
     "output_type": "execute_result"
    },
    {
     "data": {
      "image/png": "[encoded data removed]",
      "text/plain": [
       "<Figure size 432x288 with 1 Axes>"
      ]
     },
     "metadata": {
      "needs_background": "light"
     },
     "output_type": "display_data"
    }
   ],
   "source": [
    "plt.plot([i for i in range(5,30)],  [nash_in_nash(i, 16.5, .5, .5, 10, \n",
    "                                                   outside_seq(16.5, .5, 10, 10)) for i in range(5,30)])"
   ]
  },
  {
   "cell_type": "code",
   "execution_count": 65,
   "metadata": {},
   "outputs": [
    {
     "name": "stdout",
     "output_type": "stream",
     "text": [
      "[16.45793182]\n"
     ]
    }
   ],
   "source": [
    "def bargain_helper(theta1, theta2, mu1, mu2, cost,listprice):\n",
    "    \"\"\"solve each firm 1s optimization holding theta 2 fixed\"\"\"\n",
    "    outside = outside_seq(theta2,mu2,cost,listprice)\n",
    "    result = minimize(nash_in_nash, theta1, args=(theta2, mu1, mu2, cost, outside),\n",
    "                      method='Nelder-Mead', options={'disp': False})\n",
    "    return result.x\n",
    "\n",
    "\n",
    "print(bargain_helper(16.45, 16.45, .5, .5, 10, 10))"
   ]
  },
  {
   "cell_type": "code",
   "execution_count": 62,
   "metadata": {},
   "outputs": [
    {
     "name": "stdout",
     "output_type": "stream",
     "text": [
      "[16.86003662]\n"
     ]
    }
   ],
   "source": [
    "def bargain_helper(theta1, theta2, mu1, mu2, cost, listprice):\n",
    "    \"\"\"solve each firm 1s optimization holding theta 2 fixed\"\"\"\n",
    "    outside = outside_simlt(mu2,cost,listprice)\n",
    "    result = minimize(nash_in_nash, theta1, args=(theta2, mu1, mu2, cost, outside),\n",
    "                      method='Nelder-Mead', options={'disp': False})\n",
    "    return result.x\n",
    "\n",
    "\n",
    "print(bargain_helper(16.8, 16.8, .5, .5, 10, 10))"
   ]
  },
  {
   "cell_type": "code",
   "execution_count": 61,
   "metadata": {},
   "outputs": [
    {
     "name": "stdout",
     "output_type": "stream",
     "text": [
      "(array([16.8749931]), array([16.87501779]))\n"
     ]
    }
   ],
   "source": [
    "def simult_bargain(theta1, theta2, mu1, mu2, cost, outside):\n",
    "    \"\"\"solve the bargaining problems seperately and iterate for a solution\"\"\"       \n",
    "    \n",
    "    #loop variables\n",
    "    diff =  theta1\n",
    "\n",
    "    maxiter = 10\n",
    "    while maxiter >=0 and diff > 10e-7:\n",
    "        #seems as though there is a contraction mapping here, need to think more about why\n",
    "        theta1 = bargain_helper(theta1, theta2, mu1, mu2, cost, outside)\n",
    "        theta2 = bargain_helper(theta2, theta1, mu2, mu1, cost, outside)\n",
    "        \n",
    "        #update loop variables\n",
    "        diff = np.abs(np.max(theta1 - theta2))\n",
    "        maxiter = maxiter-1\n",
    "        \n",
    "    return theta1, theta2\n",
    "\n",
    "\n",
    "print(simult_bargain(15,15,.5,.5,10,10))"
   ]
  },
  {
   "cell_type": "code",
   "execution_count": 67,
   "metadata": {},
   "outputs": [
    {
     "name": "stdout",
     "output_type": "stream",
     "text": [
      "(18.436999999999998, 18.436999999999998)\n",
      "0.5\n",
      "------\n",
      "(18.4225, 18.4225)\n",
      "0.5\n"
     ]
    }
   ],
   "source": [
    "print(calc_price(16.874,16.874, .5, .5, 10))\n",
    "print(calc_t(16.874,16.874, .5, .5, 10))\n",
    "print('------')\n",
    "print(calc_price(16.845,16.845, .5, .5, 10))\n",
    "print(calc_t(16.45,16.45, .5, .5, 10))"
   ]
  },
  {
   "cell_type": "code",
   "execution_count": 35,
   "metadata": {},
   "outputs": [
    {
     "data": {
      "text/plain": [
       "[<matplotlib.lines.Line2D at 0x7f76b61eb400>]"
      ]
     },
     "execution_count": 35,
     "metadata": {},
     "output_type": "execute_result"
    },
    {
     "data": {
      "image/png": "[encoded data removed]",
      "text/plain": [
       "<Figure size 432x288 with 1 Axes>"
      ]
     },
     "metadata": {
      "needs_background": "light"
     },
     "output_type": "display_data"
    }
   ],
   "source": [
    "def seq_obj(theta1, mu1, mu2, cost, outside):\n",
    "    \"\"\" theta2 in the second stage \"\"\"\n",
    "    theta2 = bargain_helper(theta1, theta1, mu2, mu1, cost, outside)\n",
    "    return nash_in_nash(theta1, theta2, mu1, mu2, cost, outside)\n",
    "\n",
    "plt.plot([i for i in range(5,40)],  [seq_obj(i, .5, .5, 10, 0) for i in range(5,40)])"
   ]
  },
  {
   "cell_type": "code",
   "execution_count": 19,
   "metadata": {},
   "outputs": [
    {
     "name": "stdout",
     "output_type": "stream",
     "text": [
      "(array([28.4765625]), array([18.91447556]))\n"
     ]
    }
   ],
   "source": [
    "def seq_bargain(theta1, mu1, mu2, cost, outside):\n",
    "    \"\"\"solve the bargaining problems seperately,\n",
    "    then solve for the solution\"\"\"   \n",
    "    #only compute no deal 1x for initial\n",
    "    result = minimize(seq_obj, theta1, args=(mu1, mu2, cost, outside),\n",
    "                      method='Nelder-Mead', options={'disp': False})\n",
    "    theta1 = result.x\n",
    "    theta2 = bargain_helper(theta1, theta1, mu2, mu1, cost, outside)\n",
    "    return theta1, theta2\n",
    "\n",
    "\n",
    "print(seq_bargain(18,.5,.5,10,0))"
   ]
  },
  {
   "cell_type": "code",
   "execution_count": 23,
   "metadata": {},
   "outputs": [
    {
     "data": {
      "text/html": [
       "<div>\n",
       "<style scoped>\n",
       "    .dataframe tbody tr th:only-of-type {\n",
       "        vertical-align: middle;\n",
       "    }\n",
       "\n",
       "    .dataframe tbody tr th {\n",
       "        vertical-align: top;\n",
       "    }\n",
       "\n",
       "    .dataframe thead th {\n",
       "        text-align: right;\n",
       "    }\n",
       "</style>\n",
       "<table border=\"1\" class=\"dataframe\">\n",
       "  <thead>\n",
       "    <tr style=\"text-align: right;\">\n",
       "      <th></th>\n",
       "      <th>eq_type</th>\n",
       "      <th>distance_cost</th>\n",
       "      <th>mc1</th>\n",
       "      <th>mc2</th>\n",
       "      <th>profit1</th>\n",
       "      <th>profit2</th>\n",
       "      <th>hosp_profit</th>\n",
       "      <th>share1</th>\n",
       "      <th>share2</th>\n",
       "    </tr>\n",
       "  </thead>\n",
       "  <tbody>\n",
       "    <tr>\n",
       "      <th>0</th>\n",
       "      <td>Simultaneous</td>\n",
       "      <td>10.0</td>\n",
       "      <td>15.000032</td>\n",
       "      <td>14.999973</td>\n",
       "      <td>4.999990</td>\n",
       "      <td>5.000010</td>\n",
       "      <td>7.500001</td>\n",
       "      <td>0.500000</td>\n",
       "      <td>0.500000</td>\n",
       "    </tr>\n",
       "    <tr>\n",
       "      <th>1</th>\n",
       "      <td>Sequential</td>\n",
       "      <td>10.0</td>\n",
       "      <td>28.476562</td>\n",
       "      <td>18.914476</td>\n",
       "      <td>3.533310</td>\n",
       "      <td>6.720672</td>\n",
       "      <td>11.466787</td>\n",
       "      <td>0.420316</td>\n",
       "      <td>0.579684</td>\n",
       "    </tr>\n",
       "    <tr>\n",
       "      <th>2</th>\n",
       "      <td>Simultaneous</td>\n",
       "      <td>20.0</td>\n",
       "      <td>30.000004</td>\n",
       "      <td>30.000010</td>\n",
       "      <td>10.000001</td>\n",
       "      <td>9.999999</td>\n",
       "      <td>15.000003</td>\n",
       "      <td>0.500000</td>\n",
       "      <td>0.500000</td>\n",
       "    </tr>\n",
       "    <tr>\n",
       "      <th>3</th>\n",
       "      <td>Sequential</td>\n",
       "      <td>20.0</td>\n",
       "      <td>57.007812</td>\n",
       "      <td>37.848748</td>\n",
       "      <td>7.061732</td>\n",
       "      <td>13.448087</td>\n",
       "      <td>22.949411</td>\n",
       "      <td>0.420171</td>\n",
       "      <td>0.579829</td>\n",
       "    </tr>\n",
       "  </tbody>\n",
       "</table>\n",
       "</div>"
      ],
      "text/plain": [
       "        eq_type  distance_cost        mc1        mc2    profit1    profit2  \\\n",
       "0  Simultaneous           10.0  15.000032  14.999973   4.999990   5.000010   \n",
       "1    Sequential           10.0  28.476562  18.914476   3.533310   6.720672   \n",
       "2  Simultaneous           20.0  30.000004  30.000010  10.000001   9.999999   \n",
       "3    Sequential           20.0  57.007812  37.848748   7.061732  13.448087   \n",
       "\n",
       "   hosp_profit    share1    share2  \n",
       "0     7.500001  0.500000  0.500000  \n",
       "1    11.466787  0.420316  0.579684  \n",
       "2    15.000003  0.500000  0.500000  \n",
       "3    22.949411  0.420171  0.579829  "
      ]
     },
     "execution_count": 23,
     "metadata": {},
     "output_type": "execute_result"
    }
   ],
   "source": [
    "def make_table(arg, steps, params):\n",
    "    min_arg, max_arg, no_step = steps\n",
    "    \n",
    "    cols = ['eq_type','distance_cost','mc1','mc2','profit1','profit2','hosp_profit','share1','share2']\n",
    "    \n",
    "    indep_var = np.linspace(min_arg, max_arg, no_step)\n",
    "    results = []\n",
    "    \n",
    "    for var in indep_var:\n",
    "        param_copy = list(params)\n",
    "        param_copy[arg] = var\n",
    "        mu1,mu2,cost,outside = param_copy\n",
    "        for eq_type in ['Simultaneous', 'Sequential']:\n",
    "            \n",
    "            mc1,mc2 = 10, 10\n",
    "            \n",
    "            if eq_type == 'Simultaneous':\n",
    "                mc1,mc2 = simult_bargain(mc1,mc2, mu1, mu2, cost, outside)\n",
    "            else:\n",
    "                mc1,mc2 = seq_bargain(mc1, mu1, mu2, cost, outside)\n",
    "            mc1, mc2 = mc1[0],mc2[0]\n",
    "            profit1 = calc_profits(mc1, mc2, mu1, mu2, cost)\n",
    "            profit2 = calc_profits(mc2, mc1, mu2, mu1, cost)\n",
    "            hosp_prof = hosp_profits(mc1, mc2, mu1, mu2, cost)\n",
    "            share1 = calc_t(mc1, mc2, mu1, mu2, cost)\n",
    "            share2 = 1-share1\n",
    "            results.append([eq_type,cost,mc1,mc2,profit1,profit2,hosp_prof, share1,share2])\n",
    "            \n",
    "        \n",
    "    return pd.DataFrame(data=results, columns=cols)\n",
    "    \n",
    "\n",
    "make_table(2,(10,20,2), (.5,.5,10,0))"
   ]
  },
  {
   "cell_type": "code",
   "execution_count": null,
   "metadata": {},
   "outputs": [],
   "source": []
  }
 ],
 "metadata": {
  "kernelspec": {
   "display_name": "Python 3",
   "language": "python",
   "name": "python3"
  },
  "language_info": {
   "codemirror_mode": {
    "name": "ipython",
    "version": 3
   },
   "file_extension": ".py",
   "mimetype": "text/x-python",
   "name": "python",
   "nbconvert_exporter": "python",
   "pygments_lexer": "ipython3",
   "version": "3.7.3"
  }
 },
 "nbformat": 4,
 "nbformat_minor": 2
}
