{
 "cells": [
  {
   "cell_type": "code",
   "execution_count": 34,
   "metadata": {},
   "outputs": [],
   "source": [
    "import numpy as np\n",
    "from scipy.optimize import minimize\n",
    "from scipy.optimize import fsolve\n",
    "from matplotlib import pyplot as plt"
   ]
  },
  {
   "cell_type": "code",
   "execution_count": 67,
   "metadata": {},
   "outputs": [
    {
     "data": {
      "text/plain": [
       "[<matplotlib.lines.Line2D at 0x7fe875501a20>]"
      ]
     },
     "execution_count": 67,
     "metadata": {},
     "output_type": "execute_result"
    },
    {
     "data": {
      "image/png": "[encoded data removed]",
      "text/plain": [
       "<Figure size 432x288 with 1 Axes>"
      ]
     },
     "metadata": {
      "needs_background": "light"
     },
     "output_type": "display_data"
    }
   ],
   "source": [
    "def calc_price(theta1, theta2, mu1, mu2, cost):\n",
    "    \"\"\"compute each insurer's price (assumes interior solution)\"\"\"\n",
    "    p1 = (2.*theta1*mu1+theta2*mu2)/3. + cost\n",
    "    p2 = (2.*theta2*mu2+theta1*mu1)/3. + cost\n",
    "    return p1, p2\n",
    "  \n",
    "    \n",
    "def calc_t(theta1, theta2, mu1, mu2, cost):\n",
    "    \"\"\"compute the proportion of people choosing each insurer\"\"\"\n",
    "    p1,p2 = calc_price(theta1, theta2, mu1, mu2, cost)\n",
    "    t_hat = .5 + (p2 - p1)/(2.*cost)\n",
    "    return t_hat\n",
    "\n",
    "\n",
    "def calc_profits(theta1, theta2, mu1, mu2, cost):\n",
    "    \"\"\"compute profits for each firm\"\"\"\n",
    "    p1, p2 = calc_price(theta1, theta2, mu1, mu2, cost)\n",
    "    t1 = calc_t(theta1, theta2, mu1, mu2, cost)\n",
    "    return t1*(p1-theta1*mu1)\n",
    "\n",
    "\n",
    "#arbitrary outside option...\n",
    "def nash_in_nash(theta1, theta2, mu1, mu2, cost, outside):\n",
    "    return -1*calc_profits(theta1,theta2,mu1,mu2,cost)*(theta1*mu1+ theta2*mu2 - outside)\n",
    "\n",
    "\n",
    "plt.plot([i for i in range(30,60)],  [nash_in_nash(i, 60, .5, .5, 10, 0) for i in range(30,60)])"
   ]
  },
  {
   "cell_type": "code",
   "execution_count": 36,
   "metadata": {},
   "outputs": [
    {
     "name": "stdout",
     "output_type": "stream",
     "text": [
      "[46.66668701]\n"
     ]
    }
   ],
   "source": [
    "def bargain_helper(theta1, theta2, mu1, mu2, cost, outside):\n",
    "    \"\"\"solve each firm 1s optimization holding theta 2 fixed\"\"\"\n",
    "    result = minimize(nash_in_nash, theta1, args=(theta2, mu1, mu2, cost, outside),\n",
    "                      method='Nelder-Mead', options={'disp': False})\n",
    "    return result.x\n",
    "\n",
    "\n",
    "print(bargain_helper(10, 60, .5, .5, 10, 35))"
   ]
  },
  {
   "cell_type": "code",
   "execution_count": 40,
   "metadata": {},
   "outputs": [
    {
     "name": "stdout",
     "output_type": "stream",
     "text": [
      "(array([15.00002823]), array([14.9999663]))\n"
     ]
    }
   ],
   "source": [
    "def simult_bargain(theta1, theta2, mu1, mu2, cost, outside):\n",
    "    \"\"\"solve the bargaining problems seperately and iterate for a solution\"\"\"       \n",
    "    \n",
    "    #loop variables\n",
    "    diff =  theta1\n",
    "\n",
    "    maxiter = 10\n",
    "    while maxiter >=0 and diff > 10e-7:\n",
    "        #seems as though there is a contraction mapping here, need to think more about why\n",
    "        theta1 = bargain_helper(theta1, theta2, mu1, mu2, cost, outside)\n",
    "        theta2 = bargain_helper(theta2, theta1, mu2, mu1, cost, outside)\n",
    "        \n",
    "        #update loop variables\n",
    "        diff = np.abs(np.max(theta1 - theta2))\n",
    "        maxiter = maxiter-1\n",
    "        \n",
    "    return theta1, theta2\n",
    "\n",
    "\n",
    "print(simult_bargain(4,4,.5,.5,10,0))"
   ]
  },
  {
   "cell_type": "code",
   "execution_count": 74,
   "metadata": {},
   "outputs": [
    {
     "data": {
      "text/plain": [
       "[<matplotlib.lines.Line2D at 0x7fe8752e23c8>]"
      ]
     },
     "execution_count": 74,
     "metadata": {},
     "output_type": "execute_result"
    },
    {
     "data": {
      "image/png": "[encoded data removed]",
      "text/plain": [
       "<Figure size 432x288 with 1 Axes>"
      ]
     },
     "metadata": {
      "needs_background": "light"
     },
     "output_type": "display_data"
    }
   ],
   "source": [
    "def seq_obj(theta1, mu1, mu2, cost, outside):\n",
    "    \"\"\" theta2 in the second stage \"\"\"\n",
    "    #print('yoyo',mu1,mu2,cost,outside)\n",
    "    theta2 = bargain_helper(theta1, theta1, mu2, mu1, cost, outside)\n",
    "    return nash_in_nash(theta1, theta2, mu1, mu2, cost, outside)\n",
    "\n",
    "plt.plot([i for i in range(40,80)],  [seq_obj(i, .5, .5, 10, 0) for i in range(40,80)])"
   ]
  },
  {
   "cell_type": "code",
   "execution_count": 75,
   "metadata": {},
   "outputs": [
    {
     "name": "stdout",
     "output_type": "stream",
     "text": [
      "(array([0.02279663]), array([19.99243155]))\n"
     ]
    }
   ],
   "source": [
    "def seq_bargain(theta1, mu1, mu2, cost, outside):\n",
    "    \"\"\"solve the bargaining problems seperately,\n",
    "    then solve for the solution\"\"\"   \n",
    "    #only compute no deal 1x for initial\n",
    "    result = minimize(seq_obj, theta1, args=(mu1, mu2, cost, outside),\n",
    "                      method='Nelder-Mead', options={'disp': False})\n",
    "    theta1 = result.x\n",
    "    theta2 = bargain_helper(theta1, theta1, mu2, mu1, cost, outside)\n",
    "    return theta1, theta2\n",
    "\n",
    "\n",
    "print(seq_bargain(18,.5,.5,10,0))"
   ]
  },
  {
   "cell_type": "code",
   "execution_count": null,
   "metadata": {},
   "outputs": [],
   "source": []
  }
 ],
 "metadata": {
  "kernelspec": {
   "display_name": "Python 3",
   "language": "python",
   "name": "python3"
  },
  "language_info": {
   "codemirror_mode": {
    "name": "ipython",
    "version": 3
   },
   "file_extension": ".py",
   "mimetype": "text/x-python",
   "name": "python",
   "nbconvert_exporter": "python",
   "pygments_lexer": "ipython3",
   "version": "3.7.3"
  }
 },
 "nbformat": 4,
 "nbformat_minor": 2
}
