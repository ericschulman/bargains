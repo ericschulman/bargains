{
 "cells": [
  {
   "cell_type": "code",
   "execution_count": 1,
   "metadata": {},
   "outputs": [],
   "source": [
    "import numpy as np\n",
    "from scipy.optimize import minimize\n",
    "from scipy.optimize import fsolve\n",
    "from matplotlib import pyplot as plt\n",
    "import pandas as pd"
   ]
  },
  {
   "cell_type": "code",
   "execution_count": 2,
   "metadata": {},
   "outputs": [],
   "source": [
    "def calc_price(theta1, theta2, mu1, mu2, cost):\n",
    "    \"\"\"compute each insurer's price (assumes interior solution)\"\"\"\n",
    "    p1 = (2.*theta1*mu1+theta2*mu2)/3. + cost\n",
    "    p2 = (2.*theta2*mu2+theta1*mu1)/3. + cost\n",
    "    return np.maximum(p1,0), np.maximum(p2,0)\n",
    "  \n",
    "    \n",
    "def calc_t(theta1, theta2, mu1, mu2, cost, listprice):\n",
    "    \"\"\"compute the proportion of people choosing each insurer\"\"\"\n",
    "    p1, p2 = calc_price(theta1, theta2, mu1, mu2, cost)\n",
    "    t_hat = .5 + (p2 - p1)/(2.*cost)\n",
    "    return t_hat\n",
    "\n",
    "\n",
    "def calc_profits(theta1, theta2, mu1, mu2, cost, listprice):\n",
    "    \"\"\"compute profits for each firm\"\"\"\n",
    "    \n",
    "    #interior solution\n",
    "    p1, p2 = calc_price(theta1, theta2, mu1, mu2, cost)\n",
    "    t1 = calc_t(theta1, theta2, mu1, mu2, cost, listprice)\n",
    "    if t1 > 1 or t1 < 0:\n",
    "        t1 = -1\n",
    "    \n",
    "    #corner solution\n",
    "    p0 = (listprice + mu1*theta1)/2\n",
    "    t0 = (listprice - mu1*theta1)/(2*cost)\n",
    "    \n",
    "    return max([t0*(p0-theta1*mu1),t1*(p1-theta1*mu1), 0])\n",
    "\n",
    "\n",
    "def hosp_profits(theta1,theta2,mu1,mu2,cost, listprice):\n",
    "    \n",
    "    #need to fix this to account for the fact that the hospitals profit is decreasing...\n",
    "    t1 = calc_t(theta1, theta2, mu1, mu2, cost, listprice)\n",
    "    return t1*theta1*mu1 +  (1-t1)*theta2*mu2 \n",
    "\n",
    "\n",
    "def outside_seq(theta1,mu1,cost,listprice):\n",
    "    \"\"\"go through kkt to find a solution\"\"\"\n",
    "    #three solutions to firms optimization problem\n",
    "    p0, p1, p2 = listprice, (listprice + (mu1*theta1))/2, listprice - cost  \n",
    "    t0,t1,t2 = 0, (listprice - mu1*theta1)/(2*cost) ,1\n",
    "    #double check t1 is a valid solution\n",
    "    if t1 > 1 or t1 < 0:\n",
    "        t1 = -1\n",
    "        \n",
    "    #find the max\n",
    "    ind = np.argmax([p0*t0, p1*t1, p2*t2])\n",
    "    \n",
    "    return [t0,t1,t2][ind]\n",
    "\n",
    "    \n",
    "def outside_simlt(mu1,cost,listprice):\n",
    "    \"\"\"outside option in simult case\"\"\"\n",
    "    return (listprice - cost)/2\n",
    "\n",
    "    \n",
    "#arbitrary outside option...\n",
    "def nash_in_nash(theta1, theta2, mu1, mu2, cost, listprice, outside):\n",
    "    term1 = calc_profits(theta1, theta2, mu1, mu2, cost, listprice)\n",
    "    term2 = max(hosp_profits(theta1,theta2,mu1,mu2,cost, listprice)-outside,0)\n",
    "    obj = -1*(term1*term2)**.5\n",
    "    return obj"
   ]
  },
  {
   "cell_type": "code",
   "execution_count": 58,
   "metadata": {},
   "outputs": [
    {
     "data": {
      "text/plain": [
       "[<matplotlib.lines.Line2D at 0x7fdc24d0ab38>]"
      ]
     },
     "execution_count": 58,
     "metadata": {},
     "output_type": "execute_result"
    },
    {
     "data": {
      "image/png": "[encoded data removed]",
      "text/plain": [
       "<Figure size 432x288 with 1 Axes>"
      ]
     },
     "metadata": {
      "needs_background": "light"
     },
     "output_type": "display_data"
    }
   ],
   "source": [
    "\n",
    "plt.plot([i for i in range(15,40)], [nash_in_nash(i, 27, .5, .5, 10, 15, outside_simlt(.5,10,30)) \n",
    "                                      for i in range(15,40)])"
   ]
  },
  {
   "cell_type": "code",
   "execution_count": 61,
   "metadata": {},
   "outputs": [
    {
     "name": "stdout",
     "output_type": "stream",
     "text": [
      "[35.20838013]\n"
     ]
    }
   ],
   "source": [
    "def bargain_helper(theta1, theta2, mu1, mu2, cost, listprice):\n",
    "    \"\"\"solve each firm 1s optimization holding theta 2 fixed\"\"\"\n",
    "    outside = outside_simlt(mu2,cost,listprice)\n",
    "    result = minimize(nash_in_nash, theta1, args=(theta2, mu1, mu2, cost, listprice, outside),\n",
    "                      method='Nelder-Mead', options={'disp': False})\n",
    "    return result.x\n",
    "\n",
    "\n",
    "print(bargain_helper(36, 36, .5, .5, 10, 25))"
   ]
  },
  {
   "cell_type": "code",
   "execution_count": 66,
   "metadata": {},
   "outputs": [
    {
     "name": "stdout",
     "output_type": "stream",
     "text": [
      "(array([36.50000158]), array([36.50001496]))\n"
     ]
    }
   ],
   "source": [
    "def simult_bargain(theta1, theta2, mu1, mu2, cost, listprice):\n",
    "    \"\"\"solve the bargaining problems seperately and iterate for a solution\"\"\"       \n",
    "    \n",
    "    #loop variables\n",
    "    diff =  theta1\n",
    "\n",
    "    maxiter = 10\n",
    "    while maxiter >=0 and diff > 10e-7:\n",
    "        #seems as though there is a contraction mapping here, need to think more about why\n",
    "        theta1 = bargain_helper(theta1, theta2, mu1, mu2, cost, listprice)\n",
    "        theta2 = bargain_helper(theta2, theta1, mu2, mu1, cost,  listprice)\n",
    "        \n",
    "        #update loop variables\n",
    "        diff = np.abs(np.max(theta1 - theta2))\n",
    "        maxiter = maxiter-1\n",
    "        \n",
    "    return theta1, theta2\n",
    "\n",
    "\n",
    "print(simult_bargain(20,20,.5,.5,13,30))"
   ]
  },
  {
   "cell_type": "code",
   "execution_count": 6,
   "metadata": {},
   "outputs": [
    {
     "data": {
      "text/plain": [
       "[<matplotlib.lines.Line2D at 0x7fdc2510f160>]"
      ]
     },
     "execution_count": 6,
     "metadata": {},
     "output_type": "execute_result"
    },
    {
     "data": {
      "image/png": "[encoded data removed]",
      "text/plain": [
       "<Figure size 432x288 with 1 Axes>"
      ]
     },
     "metadata": {
      "needs_background": "light"
     },
     "output_type": "display_data"
    }
   ],
   "source": [
    "def seq_obj(theta1, mu1, mu2, cost, listprice):\n",
    "    \"\"\" theta1 is a guess for the first stage \"\"\"\n",
    "    #compute the first stage\n",
    "    #this is not right... need to ensure that you can't amp up theta1 too high\n",
    "    #market shares are not right, no one is buying...\n",
    "    theta2 = bargain_helper(theta1, theta1, mu2, mu1, cost, listprice)\n",
    "    outside2  = outside_seq(theta2, mu2,cost,listprice) #outside option for second stage\n",
    "    return nash_in_nash(theta1, theta2, mu1, mu2, cost, listprice, outside2)\n",
    "\n",
    "plt.plot([i for i in range(20,50)],  [seq_obj(i, .5, .5, 10, 15) for i in range(20,50)])"
   ]
  },
  {
   "cell_type": "code",
   "execution_count": 24,
   "metadata": {},
   "outputs": [
    {
     "name": "stdout",
     "output_type": "stream",
     "text": [
      "(array([17.26864014]), array([29.42366956]))\n"
     ]
    }
   ],
   "source": [
    "def seq_bargain(theta1, mu1, mu2, cost, listprice):\n",
    "    \"\"\"solve the bargaining problems seperately,\n",
    "    then solve for the solution\"\"\"   \n",
    "    #only compute no deal 1x for initial\n",
    "    result = minimize(seq_obj, theta1, args=(mu1, mu2, cost, listprice),\n",
    "                      method='Nelder-Mead', options={'disp': False})\n",
    "    theta1 = result.x\n",
    "    theta2 = bargain_helper(theta1, theta1, mu2, mu1, cost, listprice)\n",
    "    return theta1, theta2\n",
    "\n",
    "\n",
    "print(seq_bargain(18,.5,.5,10,25))"
   ]
  },
  {
   "cell_type": "code",
   "execution_count": 35,
   "metadata": {},
   "outputs": [
    {
     "name": "stdout",
     "output_type": "stream",
     "text": [
      "10.0 30\n",
      "10.75 30\n",
      "11.5 30\n",
      "12.25 30\n",
      "13.0 30\n"
     ]
    },
    {
     "data": {
      "text/html": [
       "<div>\n",
       "<style scoped>\n",
       "    .dataframe tbody tr th:only-of-type {\n",
       "        vertical-align: middle;\n",
       "    }\n",
       "\n",
       "    .dataframe tbody tr th {\n",
       "        vertical-align: top;\n",
       "    }\n",
       "\n",
       "    .dataframe thead th {\n",
       "        text-align: right;\n",
       "    }\n",
       "</style>\n",
       "<table border=\"1\" class=\"dataframe\">\n",
       "  <thead>\n",
       "    <tr style=\"text-align: right;\">\n",
       "      <th></th>\n",
       "      <th>eq_type</th>\n",
       "      <th>distance_cost</th>\n",
       "      <th>mc1</th>\n",
       "      <th>mc2</th>\n",
       "      <th>profit1</th>\n",
       "      <th>profit2</th>\n",
       "      <th>hosp_profit</th>\n",
       "      <th>share1</th>\n",
       "      <th>share2</th>\n",
       "    </tr>\n",
       "  </thead>\n",
       "  <tbody>\n",
       "    <tr>\n",
       "      <th>0</th>\n",
       "      <td>Simultaneous</td>\n",
       "      <td>10.00</td>\n",
       "      <td>15.000000</td>\n",
       "      <td>15.000000</td>\n",
       "      <td>12.656250</td>\n",
       "      <td>12.656250</td>\n",
       "      <td>7.500000</td>\n",
       "      <td>0.500000</td>\n",
       "      <td>0.500000</td>\n",
       "    </tr>\n",
       "    <tr>\n",
       "      <th>1</th>\n",
       "      <td>Sequential</td>\n",
       "      <td>10.00</td>\n",
       "      <td>19.519958</td>\n",
       "      <td>31.450318</td>\n",
       "      <td>10.241461</td>\n",
       "      <td>5.094277</td>\n",
       "      <td>12.149513</td>\n",
       "      <td>0.599420</td>\n",
       "      <td>0.400580</td>\n",
       "    </tr>\n",
       "    <tr>\n",
       "      <th>2</th>\n",
       "      <td>Simultaneous</td>\n",
       "      <td>10.75</td>\n",
       "      <td>15.000000</td>\n",
       "      <td>15.000000</td>\n",
       "      <td>11.773256</td>\n",
       "      <td>11.773256</td>\n",
       "      <td>7.500000</td>\n",
       "      <td>0.500000</td>\n",
       "      <td>0.500000</td>\n",
       "    </tr>\n",
       "    <tr>\n",
       "      <th>3</th>\n",
       "      <td>Sequential</td>\n",
       "      <td>10.75</td>\n",
       "      <td>18.787170</td>\n",
       "      <td>31.024803</td>\n",
       "      <td>9.874984</td>\n",
       "      <td>4.881175</td>\n",
       "      <td>11.872530</td>\n",
       "      <td>0.594865</td>\n",
       "      <td>0.405135</td>\n",
       "    </tr>\n",
       "    <tr>\n",
       "      <th>4</th>\n",
       "      <td>Simultaneous</td>\n",
       "      <td>11.50</td>\n",
       "      <td>15.000000</td>\n",
       "      <td>15.000000</td>\n",
       "      <td>11.005435</td>\n",
       "      <td>11.005435</td>\n",
       "      <td>7.500000</td>\n",
       "      <td>0.500000</td>\n",
       "      <td>0.500000</td>\n",
       "    </tr>\n",
       "    <tr>\n",
       "      <th>5</th>\n",
       "      <td>Sequential</td>\n",
       "      <td>11.50</td>\n",
       "      <td>18.054565</td>\n",
       "      <td>30.586201</td>\n",
       "      <td>9.562062</td>\n",
       "      <td>4.702019</td>\n",
       "      <td>11.591199</td>\n",
       "      <td>0.590809</td>\n",
       "      <td>0.409191</td>\n",
       "    </tr>\n",
       "    <tr>\n",
       "      <th>6</th>\n",
       "      <td>Simultaneous</td>\n",
       "      <td>12.25</td>\n",
       "      <td>15.000000</td>\n",
       "      <td>15.000000</td>\n",
       "      <td>10.331633</td>\n",
       "      <td>10.331633</td>\n",
       "      <td>7.500000</td>\n",
       "      <td>0.500000</td>\n",
       "      <td>0.500000</td>\n",
       "    </tr>\n",
       "    <tr>\n",
       "      <th>7</th>\n",
       "      <td>Sequential</td>\n",
       "      <td>12.25</td>\n",
       "      <td>19.394531</td>\n",
       "      <td>35.657752</td>\n",
       "      <td>9.135415</td>\n",
       "      <td>3.714341</td>\n",
       "      <td>12.863437</td>\n",
       "      <td>0.610634</td>\n",
       "      <td>0.389366</td>\n",
       "    </tr>\n",
       "    <tr>\n",
       "      <th>8</th>\n",
       "      <td>Simultaneous</td>\n",
       "      <td>13.00</td>\n",
       "      <td>15.000000</td>\n",
       "      <td>15.000000</td>\n",
       "      <td>9.735577</td>\n",
       "      <td>9.735577</td>\n",
       "      <td>7.500000</td>\n",
       "      <td>0.500000</td>\n",
       "      <td>0.500000</td>\n",
       "    </tr>\n",
       "    <tr>\n",
       "      <th>9</th>\n",
       "      <td>Sequential</td>\n",
       "      <td>13.00</td>\n",
       "      <td>24.503906</td>\n",
       "      <td>35.295182</td>\n",
       "      <td>8.422960</td>\n",
       "      <td>4.825868</td>\n",
       "      <td>14.576530</td>\n",
       "      <td>0.569175</td>\n",
       "      <td>0.430825</td>\n",
       "    </tr>\n",
       "  </tbody>\n",
       "</table>\n",
       "</div>"
      ],
      "text/plain": [
       "        eq_type  distance_cost        mc1        mc2    profit1    profit2  \\\n",
       "0  Simultaneous          10.00  15.000000  15.000000  12.656250  12.656250   \n",
       "1    Sequential          10.00  19.519958  31.450318  10.241461   5.094277   \n",
       "2  Simultaneous          10.75  15.000000  15.000000  11.773256  11.773256   \n",
       "3    Sequential          10.75  18.787170  31.024803   9.874984   4.881175   \n",
       "4  Simultaneous          11.50  15.000000  15.000000  11.005435  11.005435   \n",
       "5    Sequential          11.50  18.054565  30.586201   9.562062   4.702019   \n",
       "6  Simultaneous          12.25  15.000000  15.000000  10.331633  10.331633   \n",
       "7    Sequential          12.25  19.394531  35.657752   9.135415   3.714341   \n",
       "8  Simultaneous          13.00  15.000000  15.000000   9.735577   9.735577   \n",
       "9    Sequential          13.00  24.503906  35.295182   8.422960   4.825868   \n",
       "\n",
       "   hosp_profit    share1    share2  \n",
       "0     7.500000  0.500000  0.500000  \n",
       "1    12.149513  0.599420  0.400580  \n",
       "2     7.500000  0.500000  0.500000  \n",
       "3    11.872530  0.594865  0.405135  \n",
       "4     7.500000  0.500000  0.500000  \n",
       "5    11.591199  0.590809  0.409191  \n",
       "6     7.500000  0.500000  0.500000  \n",
       "7    12.863437  0.610634  0.389366  \n",
       "8     7.500000  0.500000  0.500000  \n",
       "9    14.576530  0.569175  0.430825  "
      ]
     },
     "execution_count": 35,
     "metadata": {},
     "output_type": "execute_result"
    }
   ],
   "source": [
    "def make_table(arg, steps, params):\n",
    "    min_arg, max_arg, no_step = steps\n",
    "    \n",
    "    cols = ['eq_type','distance_cost','mc1','mc2','profit1','profit2','hosp_profit','share1','share2']\n",
    "    \n",
    "    indep_var = np.linspace(min_arg, max_arg, no_step)\n",
    "    results = []\n",
    "    \n",
    "    for var in indep_var:\n",
    "        param_copy = list(params)\n",
    "        param_copy[arg] = var\n",
    "        mu1,mu2,cost,listprice = param_copy\n",
    "        for eq_type in ['Simultaneous', 'Sequential']:\n",
    "            \n",
    "            mc1,mc2 = 15, 15\n",
    "            \n",
    "            if eq_type == 'Simultaneous':\n",
    "                print(cost,listprice)\n",
    "                mc1,mc2 = simult_bargain(mc1, mc2, mu1, mu2, cost, listprice)\n",
    "            else:\n",
    "                mc1,mc2 = seq_bargain(mc1, mu1, mu2, cost, listprice)\n",
    "            mc1, mc2 = mc1[0],mc2[0]\n",
    "            profit1 = calc_profits(mc1, mc2, mu1, mu2, cost,listprice)\n",
    "            profit2 = calc_profits(mc2, mc1, mu2, mu1, cost,listprice)\n",
    "            hosp_prof = hosp_profits(mc1, mc2, mu1, mu2, cost,listprice)\n",
    "            share1 = calc_t(mc1, mc2, mu1, mu2, cost,listprice)\n",
    "            share2 = 1-share1\n",
    "            results.append([eq_type,cost,mc1,mc2,profit1,profit2,hosp_prof, share1,share2])\n",
    "            \n",
    "        \n",
    "    return pd.DataFrame(data=results, columns=cols)\n",
    "    \n",
    "\n",
    "make_table(2,(10,13,5), (.5,.5,10,30))"
   ]
  },
  {
   "cell_type": "code",
   "execution_count": null,
   "metadata": {},
   "outputs": [],
   "source": []
  }
 ],
 "metadata": {
  "kernelspec": {
   "display_name": "Python 3",
   "language": "python",
   "name": "python3"
  },
  "language_info": {
   "codemirror_mode": {
    "name": "ipython",
    "version": 3
   },
   "file_extension": ".py",
   "mimetype": "text/x-python",
   "name": "python",
   "nbconvert_exporter": "python",
   "pygments_lexer": "ipython3",
   "version": "3.7.3"
  }
 },
 "nbformat": 4,
 "nbformat_minor": 2
}
