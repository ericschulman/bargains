{
 "cells": [
  {
   "cell_type": "code",
   "execution_count": 10,
   "metadata": {},
   "outputs": [],
   "source": [
    "import numpy as np\n",
    "from scipy.optimize import minimize\n",
    "from scipy.optimize import fsolve\n",
    "from matplotlib import pyplot as plt\n",
    "import pandas as pd"
   ]
  },
  {
   "cell_type": "code",
   "execution_count": 11,
   "metadata": {},
   "outputs": [
    {
     "name": "stdout",
     "output_type": "stream",
     "text": [
      "-2.598076211353316\n",
      "----\n",
      "-2.3105284388352954\n"
     ]
    }
   ],
   "source": [
    "def calc_price(theta1, theta2, mu1, mu2, cost):\n",
    "    \"\"\"compute each insurer's price (assumes interior solution)\"\"\"\n",
    "    p1 = (2.*theta1*mu1+theta2*mu2)/3. + cost\n",
    "    p2 = (2.*theta2*mu2+theta1*mu1)/3. + cost\n",
    "    return np.maximum(p1,0), np.maximum(p2,0)\n",
    "  \n",
    "    \n",
    "def calc_t(theta1, theta2, mu1, mu2, cost, listprice):\n",
    "    \"\"\"compute the proportion of people choosing each insurer\n",
    "    assumes interior solution\"\"\"\n",
    "    p1, p2 = calc_price(theta1, theta2, mu1, mu2, cost)\n",
    "    t_hat = .5 + (p2 - p1)/(2.*cost)\n",
    "    return t_hat\n",
    "\n",
    "\n",
    "def calc_eq(theta1, theta2, mu1, mu2, cost, listprice):\n",
    "    \"\"\"compute eq profit for each firm and market shares\n",
    "    Go through each KKT to ensure that we see if the market \n",
    "    is covered or not... \"\"\"\n",
    "\n",
    "    #interior solution\n",
    "    p1, p2 = calc_price(theta1, theta2, mu1, mu2, cost)\n",
    "    t1 = calc_t(theta1, theta2, mu1, mu2, cost, listprice)\n",
    "    if t1 > 1 or t1 < 0:\n",
    "        t1 = -1\n",
    "    #corner solution\n",
    "    p0 = (listprice + mu1*theta1)/2\n",
    "    t0 = (listprice - mu1*theta1)/(2*cost)   \n",
    "    #allow firms not to cover the market...\n",
    "    profits =  [t0*(p0-theta1*mu1),t1*(p1-theta1*mu1), 0]\n",
    "    ind = np.argmax(profits)\n",
    "    \n",
    "    #t1_firm2\n",
    "    t0_firm2 = (listprice - mu2*theta2)/(2*cost)  \n",
    "    \n",
    "    if t0_firm2 + t0 >1:\n",
    "        ind = 1\n",
    "        if t1 < 0:\n",
    "            ind = 2\n",
    "    \n",
    "    #print([t0,t1,0], profits, ind)\n",
    "    return [t0,t1,0], profits, [p0,p1,0], ind\n",
    "\n",
    "\n",
    "def calc_profits(theta1,theta2,mu1,mu2,cost, listprice):\n",
    "    t1, profits1, prices1, index1 = calc_eq(theta1, theta2, mu1, mu2, cost, listprice)\n",
    "    t2, profits2, prices2, index2 = calc_eq(theta2, theta1, mu2, mu1, cost, listprice)\n",
    "    hosp_profit = t1[index1]*theta1*mu1 +  t2[index2]*theta2*mu2\n",
    "    return hosp_profit, profits1[index1], profits2[index2]\n",
    "\n",
    "    \n",
    "def outside_simlt(mu1,cost,listprice):\n",
    "    \"\"\"outside option in simult case\n",
    "    assuming listprice high enough\"\"\"\n",
    "    return (listprice -cost)/2\n",
    "    #return 3*listprice**2/(32*cost)\n",
    "\n",
    "    \n",
    "#arbitrary outside option...\n",
    "def nash_in_nash(theta1, theta2, mu1, mu2, cost, listprice, outside):\n",
    "    hosp_profit, profits1, profits2 = calc_profits(theta1, theta2, mu1, mu2, cost, listprice)\n",
    "    obj = -1*(hosp_profit*profits1)**.5\n",
    "    return obj\n",
    "\n",
    "\n",
    "COST = 3\n",
    "LIST = 9\n",
    "print(nash_in_nash(9, LIST, .5, .5, COST,LIST, outside_simlt(.5,COST,LIST)))\n",
    "print('----')\n",
    "print(nash_in_nash(12, LIST, .5, .5, COST,LIST, outside_simlt(.5,COST,LIST)))"
   ]
  },
  {
   "cell_type": "code",
   "execution_count": 12,
   "metadata": {},
   "outputs": [
    {
     "data": {
      "text/plain": [
       "[<matplotlib.lines.Line2D at 0x7f3f0daa65c0>]"
      ]
     },
     "execution_count": 12,
     "metadata": {},
     "output_type": "execute_result"
    },
    {
     "data": {
      "image/png": "[encoded data removed]",
      "text/plain": [
       "<Figure size 432x288 with 1 Axes>"
      ]
     },
     "metadata": {
      "needs_background": "light"
     },
     "output_type": "display_data"
    }
   ],
   "source": [
    "COST = 3\n",
    "LIST = 9\n",
    "\n",
    "plt.plot([i for i in np.linspace(COST,LIST,num=10)], \n",
    "         [nash_in_nash(i, LIST, .5, .5, COST,LIST, outside_simlt(.5,COST,LIST)) \n",
    "                                                          for i in np.linspace(COST,LIST,num=10)])"
   ]
  },
  {
   "cell_type": "code",
   "execution_count": 13,
   "metadata": {},
   "outputs": [
    {
     "name": "stdout",
     "output_type": "stream",
     "text": [
      "[4.5]\n"
     ]
    }
   ],
   "source": [
    "def bargain_helper(theta1, theta2, mu1, mu2, cost, listprice):\n",
    "    \"\"\"solve each firm 1s optimization holding theta 2 fixed\"\"\"\n",
    "    outside = outside_simlt(mu2,cost,listprice)\n",
    "    result = minimize(nash_in_nash, theta1, args=(theta2, mu1, mu2, cost, listprice, outside),\n",
    "                      method='Nelder-Mead', options={'disp': False})\n",
    "    return result.x\n",
    "\n",
    "COST =3\n",
    "LIST = 8\n",
    "print(bargain_helper(4.5, 4.5, .5, .5, COST,LIST))"
   ]
  },
  {
   "cell_type": "code",
   "execution_count": 14,
   "metadata": {},
   "outputs": [
    {
     "name": "stdout",
     "output_type": "stream",
     "text": [
      "(array([4.50001084]), array([4.50001214]))\n"
     ]
    }
   ],
   "source": [
    "def simult_bargain(theta1, theta2, mu1, mu2, cost, listprice):\n",
    "    \"\"\"solve the bargaining problems seperately and iterate for a solution\"\"\"       \n",
    "    \n",
    "    #loop variables\n",
    "    diff =  theta1\n",
    "\n",
    "    maxiter = 10\n",
    "    while maxiter >=0 and diff > 10e-7:\n",
    "        #seems as though there is a contraction mapping here, need to think more about why\n",
    "        theta1 = bargain_helper(theta1, theta2, mu1, mu2, cost, listprice)\n",
    "        theta2 = bargain_helper(theta2, theta1, mu2, mu1, cost,  listprice)\n",
    "        \n",
    "        #update loop variables\n",
    "        diff = np.abs(np.max(theta1 - theta2))\n",
    "        maxiter = maxiter-1\n",
    "        \n",
    "    return theta1, theta2\n",
    "\n",
    "print(simult_bargain(2,2,.5,.5,3,10))"
   ]
  },
  {
   "cell_type": "code",
   "execution_count": 15,
   "metadata": {
    "scrolled": false
   },
   "outputs": [
    {
     "data": {
      "text/plain": [
       "[<matplotlib.lines.Line2D at 0x7f3f0da8a6a0>]"
      ]
     },
     "execution_count": 15,
     "metadata": {},
     "output_type": "execute_result"
    },
    {
     "data": {
      "image/png": "[encoded data removed]",
      "text/plain": [
       "<Figure size 432x288 with 1 Axes>"
      ]
     },
     "metadata": {
      "needs_background": "light"
     },
     "output_type": "display_data"
    }
   ],
   "source": [
    "def outside_seq(theta1,mu1,cost,listprice):\n",
    "    \"\"\"go through kkt to find a solution\"\"\"\n",
    "    #three solutions to firms optimization problem\n",
    "    p0, p1, p2 =  listprice - cost, (listprice + (mu1*theta1))/2, listprice\n",
    "    t0,t1,t2 = 1, (listprice - mu1*theta1)/(2*cost) , 0\n",
    "    #double check t1 is a valid solution\n",
    "    if t1 > 1 or t1 < 0:\n",
    "        t1 = -1\n",
    "    #find the max\n",
    "    ind = np.argmax([p0*t0, p1*t1, p2*t2])\n",
    "    print([t0,t1,t2], ind)\n",
    "    return mu1*theta1*([t0,t1,t2][ind])\n",
    "\n",
    "\n",
    "def outside_seq(theta1,mu1,cost,listprice):\n",
    "    \"\"\"assume that we amp up list price high enough\n",
    "    for a corner solution\"\"\"\n",
    "    return mu1*theta1\n",
    "\n",
    "\n",
    "def bargain_helper_seq(theta1, mu1, mu2, cost, listprice):\n",
    "    \"\"\"solve each firm 1s optimization holding theta 2 fixed\"\"\"\n",
    "    outside = outside_seq(theta1,mu1,cost,listprice)\n",
    "    result = minimize(nash_in_nash, 10., args=(theta1, mu2, mu1, cost, listprice, outside),\n",
    "                      method='Nelder-Mead', options={'disp': False})\n",
    "    return result.x\n",
    "\n",
    "\n",
    "def seq_obj(theta1, mu1, mu2, cost, listprice):\n",
    "    \"\"\" theta1 is a guess for the first stage \"\"\"\n",
    "    \n",
    "    theta2 = bargain_helper_seq(theta1, mu2, mu1, cost, listprice)\n",
    "    outside1 = outside_simlt(mu1,cost,listprice)\n",
    "\n",
    "    return nash_in_nash(theta1, theta2, mu1, mu2, cost, listprice, outside1)\n",
    "\n",
    "\n",
    "COST = 3\n",
    "LIST = 10\n",
    "plt.plot([i for i in np.linspace(COST+3,LIST +3,num=10)],  \n",
    "         [seq_obj(i, .5, .5, COST , LIST) for i in np.linspace(COST+3,LIST +3,num=10)])\n",
    "\n",
    "#for i in np.linspace(COST,LIST,num=10):\n",
    "#    print('---')\n",
    "#    print(i)\n",
    "#    print( calc_eq(i, bargain_helper_seq(i, .5, .5, COST,LIST),  .5, .5, COST,LIST))\n",
    "#    print(calc_profits(i,  bargain_helper_seq(i, .5, .5, COST,LIST),  .5, .5, COST,LIST))"
   ]
  },
  {
   "cell_type": "code",
   "execution_count": 16,
   "metadata": {},
   "outputs": [
    {
     "name": "stdout",
     "output_type": "stream",
     "text": [
      "(array([8.53173828]), array([5.670242]))\n"
     ]
    }
   ],
   "source": [
    "def seq_bargain(theta1, mu1, mu2, cost, listprice):\n",
    "    \"\"\"solve the bargaining problems seperately,\n",
    "    then solve for the solution\"\"\"   \n",
    "    #only compute no deal 1x for initial\n",
    "    result = minimize(seq_obj, theta1, args=(mu1, mu2, cost, listprice),\n",
    "                      method='Nelder-Mead', options={'disp': False})\n",
    "    theta1 = result.x\n",
    "    theta2 = bargain_helper(theta1, theta1, mu2, mu1, cost, listprice)\n",
    "    return theta1, theta2\n",
    "\n",
    "\n",
    "print(seq_bargain(5,.5,.5,3,11))"
   ]
  },
  {
   "cell_type": "code",
   "execution_count": 26,
   "metadata": {},
   "outputs": [
    {
     "data": {
      "text/html": [
       "<div>\n",
       "<style scoped>\n",
       "    .dataframe tbody tr th:only-of-type {\n",
       "        vertical-align: middle;\n",
       "    }\n",
       "\n",
       "    .dataframe tbody tr th {\n",
       "        vertical-align: top;\n",
       "    }\n",
       "\n",
       "    .dataframe thead th {\n",
       "        text-align: right;\n",
       "    }\n",
       "</style>\n",
       "<table border=\"1\" class=\"dataframe\">\n",
       "  <thead>\n",
       "    <tr style=\"text-align: right;\">\n",
       "      <th></th>\n",
       "      <th>eq_type</th>\n",
       "      <th>listprice</th>\n",
       "      <th>distance_cost</th>\n",
       "      <th>mc1</th>\n",
       "      <th>mc2</th>\n",
       "      <th>profit1</th>\n",
       "      <th>profit2</th>\n",
       "      <th>hosp_profit</th>\n",
       "      <th>share1</th>\n",
       "      <th>share2</th>\n",
       "    </tr>\n",
       "  </thead>\n",
       "  <tbody>\n",
       "    <tr>\n",
       "      <th>0</th>\n",
       "      <td>Simultaneous</td>\n",
       "      <td>20</td>\n",
       "      <td>3.00</td>\n",
       "      <td>4.500016</td>\n",
       "      <td>4.500020</td>\n",
       "      <td>1.500001</td>\n",
       "      <td>1.499999</td>\n",
       "      <td>2.250009</td>\n",
       "      <td>0.500000</td>\n",
       "      <td>0.500000</td>\n",
       "    </tr>\n",
       "    <tr>\n",
       "      <th>1</th>\n",
       "      <td>Sequential</td>\n",
       "      <td>20</td>\n",
       "      <td>3.00</td>\n",
       "      <td>8.531067</td>\n",
       "      <td>5.670004</td>\n",
       "      <td>1.061053</td>\n",
       "      <td>2.014740</td>\n",
       "      <td>3.436578</td>\n",
       "      <td>0.420526</td>\n",
       "      <td>0.579474</td>\n",
       "    </tr>\n",
       "    <tr>\n",
       "      <th>2</th>\n",
       "      <td>Simultaneous</td>\n",
       "      <td>20</td>\n",
       "      <td>3.75</td>\n",
       "      <td>5.625035</td>\n",
       "      <td>5.625036</td>\n",
       "      <td>1.875000</td>\n",
       "      <td>1.875000</td>\n",
       "      <td>2.812518</td>\n",
       "      <td>0.500000</td>\n",
       "      <td>0.500000</td>\n",
       "    </tr>\n",
       "    <tr>\n",
       "      <th>3</th>\n",
       "      <td>Sequential</td>\n",
       "      <td>20</td>\n",
       "      <td>3.75</td>\n",
       "      <td>10.687500</td>\n",
       "      <td>7.096124</td>\n",
       "      <td>1.324208</td>\n",
       "      <td>2.521333</td>\n",
       "      <td>4.302595</td>\n",
       "      <td>0.420192</td>\n",
       "      <td>0.579808</td>\n",
       "    </tr>\n",
       "    <tr>\n",
       "      <th>4</th>\n",
       "      <td>Simultaneous</td>\n",
       "      <td>20</td>\n",
       "      <td>4.50</td>\n",
       "      <td>6.749993</td>\n",
       "      <td>6.750012</td>\n",
       "      <td>2.250003</td>\n",
       "      <td>2.249997</td>\n",
       "      <td>3.375001</td>\n",
       "      <td>0.500000</td>\n",
       "      <td>0.500000</td>\n",
       "    </tr>\n",
       "    <tr>\n",
       "      <th>5</th>\n",
       "      <td>Sequential</td>\n",
       "      <td>20</td>\n",
       "      <td>4.50</td>\n",
       "      <td>12.843750</td>\n",
       "      <td>8.522154</td>\n",
       "      <td>1.587377</td>\n",
       "      <td>3.027909</td>\n",
       "      <td>5.168548</td>\n",
       "      <td>0.419970</td>\n",
       "      <td>0.580030</td>\n",
       "    </tr>\n",
       "    <tr>\n",
       "      <th>6</th>\n",
       "      <td>Simultaneous</td>\n",
       "      <td>20</td>\n",
       "      <td>5.25</td>\n",
       "      <td>7.874991</td>\n",
       "      <td>7.875030</td>\n",
       "      <td>2.625007</td>\n",
       "      <td>2.624993</td>\n",
       "      <td>3.937505</td>\n",
       "      <td>0.500001</td>\n",
       "      <td>0.499999</td>\n",
       "    </tr>\n",
       "    <tr>\n",
       "      <th>7</th>\n",
       "      <td>Sequential</td>\n",
       "      <td>20</td>\n",
       "      <td>5.25</td>\n",
       "      <td>14.929504</td>\n",
       "      <td>9.922598</td>\n",
       "      <td>1.856836</td>\n",
       "      <td>3.525805</td>\n",
       "      <td>6.014065</td>\n",
       "      <td>0.420525</td>\n",
       "      <td>0.579475</td>\n",
       "    </tr>\n",
       "    <tr>\n",
       "      <th>8</th>\n",
       "      <td>Simultaneous</td>\n",
       "      <td>20</td>\n",
       "      <td>6.00</td>\n",
       "      <td>8.999980</td>\n",
       "      <td>9.000004</td>\n",
       "      <td>3.000004</td>\n",
       "      <td>2.999996</td>\n",
       "      <td>4.499996</td>\n",
       "      <td>0.500000</td>\n",
       "      <td>0.500000</td>\n",
       "    </tr>\n",
       "    <tr>\n",
       "      <th>9</th>\n",
       "      <td>Sequential</td>\n",
       "      <td>20</td>\n",
       "      <td>6.00</td>\n",
       "      <td>17.115051</td>\n",
       "      <td>11.359248</td>\n",
       "      <td>2.117388</td>\n",
       "      <td>4.035989</td>\n",
       "      <td>6.888511</td>\n",
       "      <td>0.420058</td>\n",
       "      <td>0.579942</td>\n",
       "    </tr>\n",
       "  </tbody>\n",
       "</table>\n",
       "</div>"
      ],
      "text/plain": [
       "        eq_type  listprice  distance_cost        mc1        mc2   profit1  \\\n",
       "0  Simultaneous         20           3.00   4.500016   4.500020  1.500001   \n",
       "1    Sequential         20           3.00   8.531067   5.670004  1.061053   \n",
       "2  Simultaneous         20           3.75   5.625035   5.625036  1.875000   \n",
       "3    Sequential         20           3.75  10.687500   7.096124  1.324208   \n",
       "4  Simultaneous         20           4.50   6.749993   6.750012  2.250003   \n",
       "5    Sequential         20           4.50  12.843750   8.522154  1.587377   \n",
       "6  Simultaneous         20           5.25   7.874991   7.875030  2.625007   \n",
       "7    Sequential         20           5.25  14.929504   9.922598  1.856836   \n",
       "8  Simultaneous         20           6.00   8.999980   9.000004  3.000004   \n",
       "9    Sequential         20           6.00  17.115051  11.359248  2.117388   \n",
       "\n",
       "    profit2  hosp_profit    share1    share2  \n",
       "0  1.499999     2.250009  0.500000  0.500000  \n",
       "1  2.014740     3.436578  0.420526  0.579474  \n",
       "2  1.875000     2.812518  0.500000  0.500000  \n",
       "3  2.521333     4.302595  0.420192  0.579808  \n",
       "4  2.249997     3.375001  0.500000  0.500000  \n",
       "5  3.027909     5.168548  0.419970  0.580030  \n",
       "6  2.624993     3.937505  0.500001  0.499999  \n",
       "7  3.525805     6.014065  0.420525  0.579475  \n",
       "8  2.999996     4.499996  0.500000  0.500000  \n",
       "9  4.035989     6.888511  0.420058  0.579942  "
      ]
     },
     "execution_count": 26,
     "metadata": {},
     "output_type": "execute_result"
    }
   ],
   "source": [
    "def make_table(arg, steps, params):\n",
    "    min_arg, max_arg, no_step = steps\n",
    "    \n",
    "    cols = ['eq_type','listprice','distance_cost','mc1','mc2','profit1','profit2','hosp_profit','share1','share2']\n",
    "    \n",
    "    indep_var = np.linspace(min_arg, max_arg, no_step)\n",
    "    results = []\n",
    "    \n",
    "    for var in indep_var:\n",
    "        param_copy = list(params)\n",
    "        param_copy[arg] = var\n",
    "        mu1,mu2,cost,listprice = param_copy\n",
    "        for eq_type in ['Simultaneous', 'Sequential']:\n",
    "            \n",
    "            mc1,mc2 = 15, 15\n",
    "            \n",
    "            if eq_type == 'Simultaneous':\n",
    "                mc1,mc2 = simult_bargain(mc1, mc2, mu1, mu2, cost, listprice)\n",
    "            else:\n",
    "                mc1,mc2 = seq_bargain(mc1, mu1, mu2, cost, listprice)\n",
    "            mc1, mc2 = mc1[0],mc2[0]\n",
    "            \n",
    "            share1, profit1, prices1, index1 = calc_eq(mc1, mc2, mu1, mu2, cost, listprice)\n",
    "            share2, profit2, prices2, index2 = calc_eq(mc2, mc1, mu1, mu2, cost, listprice)\n",
    "            \n",
    "            share1, profit1, prices1 = share1[index1], profit1[index1], prices1[index1]\n",
    "            share2, profit2, prices2 = share2[index2], profit2[index2], prices2[index2]\n",
    "            \n",
    "            hosp_prof = share1*mc1*mu1 + share2*mc2*mu2\n",
    "            \n",
    "            results.append([eq_type,listprice,cost,mc1,mc2,profit1,profit2,hosp_prof, share1,share2])\n",
    "            \n",
    "        \n",
    "    return pd.DataFrame(data=results, columns=cols)\n",
    "    \n",
    "\n",
    "make_table(2,(3,6,5), (.5,.5,3,20))"
   ]
  },
  {
   "cell_type": "code",
   "execution_count": 27,
   "metadata": {},
   "outputs": [],
   "source": [
    "table1 = make_table(2,(3,6,5), (.5,.5,3,20))\n",
    "table2 = make_table(3,(9,14,5), (.5,.5,3,10))\n",
    "\n",
    "table1.to_csv('distance_cost_table.csv',float_format='%.3f',index=False)\n",
    "table2.to_csv('listprice_table.csv',float_format='%.3f',index=False)"
   ]
  },
  {
   "cell_type": "code",
   "execution_count": null,
   "metadata": {},
   "outputs": [],
   "source": []
  }
 ],
 "metadata": {
  "kernelspec": {
   "display_name": "Python 3",
   "language": "python",
   "name": "python3"
  },
  "language_info": {
   "codemirror_mode": {
    "name": "ipython",
    "version": 3
   },
   "file_extension": ".py",
   "mimetype": "text/x-python",
   "name": "python",
   "nbconvert_exporter": "python",
   "pygments_lexer": "ipython3",
   "version": "3.7.3"
  }
 },
 "nbformat": 4,
 "nbformat_minor": 2
}
