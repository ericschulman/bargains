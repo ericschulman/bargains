{
 "cells": [
  {
   "cell_type": "code",
   "execution_count": 5,
   "metadata": {},
   "outputs": [],
   "source": [
    "import numpy as np\n",
    "from scipy.optimize import minimize\n",
    "from scipy.optimize import fsolve\n",
    "from matplotlib import pyplot as plt\n",
    "import pandas as pd"
   ]
  },
  {
   "cell_type": "code",
   "execution_count": 6,
   "metadata": {},
   "outputs": [
    {
     "name": "stdout",
     "output_type": "stream",
     "text": [
      "-0.0\n"
     ]
    }
   ],
   "source": [
    "def calc_price(theta1, theta2, mu1, mu2, cost, wtp):\n",
    "    \"\"\"compute each insurer's price (assumes interior solution)\"\"\"\n",
    "    p1 = (2.*theta1*mu1+theta2*mu2)/3. + cost\n",
    "    p2 = (2.*theta2*mu2+theta1*mu1)/3. + cost\n",
    "    return p1, p2\n",
    "  \n",
    "    \n",
    "def calc_t(theta1, theta2, mu1, mu2, cost, wtp):\n",
    "    \"\"\"compute the proportion of people choosing each insurer\n",
    "    assumes interior solution\"\"\"\n",
    "    p1, p2 = calc_price(theta1, theta2, mu1, mu2, cost, wtp)\n",
    "    t_hat = .5 + (p2 - p1)/(2.*cost)\n",
    "    return t_hat\n",
    "\n",
    "\n",
    "def calc_profits(theta1,theta2,mu1,mu2,cost, wtp):\n",
    "    t= calc_t(theta1, theta2, mu1, mu2, cost, wtp)\n",
    "    p1,p2 = calc_price(theta1, theta2, mu1, mu2, cost, wtp)\n",
    "    profits1, profits2 = t*(p1-mu1*theta1), (1-t)*(p2-mu2*theta2)\n",
    "    hosp_profit = t*theta1*mu1 +  (1-t)*theta2*mu2\n",
    "    return hosp_profit, profits1, profits2\n",
    "\n",
    "    \n",
    "def outside_simlt(mu,cost,wtp):\n",
    "    \"\"\"outside option in simult case\n",
    "    assuming listprice high enough\"\"\"\n",
    "    return 3.*wtp**2/(32.*cost)\n",
    "    \n",
    "\n",
    "#arbitrary outside option...\n",
    "def nash_in_nash(theta1, theta2, mu1, mu2, cost, wtp, outside):\n",
    "    hosp_profit, profits1, profits2 = calc_profits(theta1, theta2, mu1, mu2, cost,  wtp)\n",
    "    obj = -1*(max(hosp_profit-outside,0)*profits1)**.5\n",
    "    return obj\n",
    "\n",
    "\n",
    "COST = 10\n",
    "WTP = 25\n",
    "\n",
    "\n",
    "print(nash_in_nash(COST,COST, .5, .5, COST, WTP, outside_simlt(.5,COST,WTP)))"
   ]
  },
  {
   "cell_type": "code",
   "execution_count": 7,
   "metadata": {},
   "outputs": [
    {
     "data": {
      "text/plain": [
       "[<matplotlib.lines.Line2D at 0x7f1b4a703be0>]"
      ]
     },
     "execution_count": 7,
     "metadata": {},
     "output_type": "execute_result"
    },
    {
     "data": {
      "image/png": "[encoded data removed]",
      "text/plain": [
       "<Figure size 432x288 with 1 Axes>"
      ]
     },
     "metadata": {
      "needs_background": "light"
     },
     "output_type": "display_data"
    }
   ],
   "source": [
    "COST = 10\n",
    "WTP = 25\n",
    "MU = 1\n",
    "\n",
    "plt.plot([i for i in np.linspace(COST,WTP,num=7)], \n",
    "         [-1*nash_in_nash(i, .75*WTP, MU, MU, COST,WTP, outside_simlt(.5,COST,WTP)) \n",
    "                                                          for i in np.linspace(COST,WTP,num=7)])"
   ]
  },
  {
   "cell_type": "code",
   "execution_count": 8,
   "metadata": {},
   "outputs": [
    {
     "name": "stdout",
     "output_type": "stream",
     "text": [
      "[16.]\n"
     ]
    }
   ],
   "source": [
    "def bargain_helper(theta1, theta2, mu1, mu2, cost, wtp):\n",
    "    \"\"\"solve each firm 1s optimization holding theta 2 fixed\"\"\"\n",
    "    outside = outside_simlt(mu2, cost,wtp)\n",
    "    result = minimize(nash_in_nash, theta1, args=(theta2, mu1, mu2, cost, wtp, outside),\n",
    "                      method='Nelder-Mead', options={'disp': False})\n",
    "    return result.x\n",
    "\n",
    "COST = 5\n",
    "WTP  = 25\n",
    "print(bargain_helper(16, 16, .5, .5, COST,WTP))"
   ]
  },
  {
   "cell_type": "code",
   "execution_count": 13,
   "metadata": {
    "scrolled": false
   },
   "outputs": [
    {
     "name": "stdout",
     "output_type": "stream",
     "text": [
      "(array([19.08483823]), array([19.0848053]))\n"
     ]
    }
   ],
   "source": [
    "def simult_bargain(theta1, theta2, mu1, mu2, cost, listprice):\n",
    "    \"\"\"solve the bargaining problems seperately and iterate for a solution\"\"\"       \n",
    "    \n",
    "    #loop variables\n",
    "    diff =  theta1\n",
    "\n",
    "    maxiter = 10\n",
    "    while maxiter >=0 and diff > 10e-7:\n",
    "        #seems as though there is a contraction mapping here, need to think more about why\n",
    "        theta1 = bargain_helper(theta1, theta2, mu1, mu2, cost, listprice)\n",
    "        theta2 = bargain_helper(theta2, theta1, mu2, mu1, cost,  listprice)\n",
    "        \n",
    "        #update loop variables\n",
    "        diff = np.abs(np.max(theta1 - theta2))\n",
    "        maxiter = maxiter-1\n",
    "        \n",
    "    return theta1, theta2\n",
    "\n",
    "COST = 10\n",
    "WTP  = 25\n",
    "print(simult_bargain(13,13,.7,.7,COST,WTP))"
   ]
  },
  {
   "cell_type": "code",
   "execution_count": 14,
   "metadata": {},
   "outputs": [
    {
     "data": {
      "text/plain": [
       "(19.345, 19.345)"
      ]
     },
     "execution_count": 14,
     "metadata": {},
     "output_type": "execute_result"
    }
   ],
   "source": [
    "calc_price(13.35, 13.35, .7, .7, 10, 25)"
   ]
  },
  {
   "cell_type": "code",
   "execution_count": 11,
   "metadata": {
    "scrolled": false
   },
   "outputs": [
    {
     "ename": "NameError",
     "evalue": "name 'LIST' is not defined",
     "output_type": "error",
     "traceback": [
      "\u001b[0;31m---------------------------------------------------------------------------\u001b[0m",
      "\u001b[0;31mNameError\u001b[0m                                 Traceback (most recent call last)",
      "\u001b[0;32m<ipython-input-11-c2fd10d0d3c4>\u001b[0m in \u001b[0;36m<module>\u001b[0;34m\u001b[0m\n\u001b[1;32m     38\u001b[0m \u001b[0mCOST\u001b[0m \u001b[0;34m=\u001b[0m \u001b[0;36m3\u001b[0m\u001b[0;34m\u001b[0m\u001b[0;34m\u001b[0m\u001b[0m\n\u001b[1;32m     39\u001b[0m \u001b[0mWTP\u001b[0m \u001b[0;34m=\u001b[0m \u001b[0;36m10\u001b[0m\u001b[0;34m\u001b[0m\u001b[0;34m\u001b[0m\u001b[0m\n\u001b[0;32m---> 40\u001b[0;31m plt.plot([i for i in np.linspace(COST+3,LIST +3,num=10)],  \n\u001b[0m\u001b[1;32m     41\u001b[0m          [seq_obj(i, .5, .5, COST , LIST) for i in np.linspace(COST+3,LIST +3,num=10)])\n\u001b[1;32m     42\u001b[0m \u001b[0;34m\u001b[0m\u001b[0m\n",
      "\u001b[0;31mNameError\u001b[0m: name 'LIST' is not defined"
     ]
    }
   ],
   "source": [
    "def outside_seq(theta1,mu1,cost,listprice):\n",
    "    \"\"\"go through kkt to find a solution\"\"\"\n",
    "    #three solutions to firms optimization problem\n",
    "    p0, p1, p2 =  listprice - cost, (listprice + (mu1*theta1))/2, listprice\n",
    "    t0,t1,t2 = 1, (listprice - mu1*theta1)/(2*cost) , 0\n",
    "    #double check t1 is a valid solution\n",
    "    if t1 > 1 or t1 < 0:\n",
    "        t1 = -1\n",
    "    #find the max\n",
    "    ind = np.argmax([p0*t0, p1*t1, p2*t2])\n",
    "    print([t0,t1,t2], ind)\n",
    "    return mu1*theta1*([t0,t1,t2][ind])\n",
    "\n",
    "\n",
    "def outside_seq(theta1,mu1,cost,listprice):\n",
    "    \"\"\"assume that we amp up list price high enough\n",
    "    for a corner solution\"\"\"\n",
    "    return mu1*theta1\n",
    "\n",
    "\n",
    "def bargain_helper_seq(theta1, mu1, mu2, cost, listprice):\n",
    "    \"\"\"solve each firm 1s optimization holding theta 2 fixed\"\"\"\n",
    "    outside = outside_seq(theta1,mu1,cost,listprice)\n",
    "    result = minimize(nash_in_nash, 10., args=(theta1, mu2, mu1, cost, listprice, outside),\n",
    "                      method='Nelder-Mead', options={'disp': False})\n",
    "    return result.x\n",
    "\n",
    "\n",
    "def seq_obj(theta1, mu1, mu2, cost, listprice):\n",
    "    \"\"\" theta1 is a guess for the first stage \"\"\"\n",
    "    \n",
    "    theta2 = bargain_helper_seq(theta1, mu2, mu1, cost, listprice)\n",
    "    outside1 = outside_simlt(cost,listprice)\n",
    "\n",
    "    return nash_in_nash(theta1, theta2, mu1, mu2, cost, listprice, outside1)\n",
    "\n",
    "\n",
    "COST = 3\n",
    "WTP = 10\n",
    "plt.plot([i for i in np.linspace(COST+3,LIST +3,num=10)],  \n",
    "         [seq_obj(i, .5, .5, COST , LIST) for i in np.linspace(COST+3,LIST +3,num=10)])\n",
    "\n",
    "#for i in np.linspace(COST,LIST,num=10):\n",
    "#    print('---')\n",
    "#    print(i)\n",
    "#    print( calc_eq(i, bargain_helper_seq(i, .5, .5, COST,LIST),  .5, .5, COST,LIST))\n",
    "#    print(calc_profits(i,  bargain_helper_seq(i, .5, .5, COST,LIST),  .5, .5, COST,LIST))"
   ]
  },
  {
   "cell_type": "code",
   "execution_count": 16,
   "metadata": {},
   "outputs": [
    {
     "name": "stdout",
     "output_type": "stream",
     "text": [
      "(array([8.53173828]), array([5.670242]))\n"
     ]
    }
   ],
   "source": [
    "def seq_bargain(theta1, mu1, mu2, cost, listprice):\n",
    "    \"\"\"solve the bargaining problems seperately,\n",
    "    then solve for the solution\"\"\"   \n",
    "    #only compute no deal 1x for initial\n",
    "    result = minimize(seq_obj, theta1, args=(mu1, mu2, cost, listprice),\n",
    "                      method='Nelder-Mead', options={'disp': False})\n",
    "    theta1 = result.x\n",
    "    theta2 = bargain_helper(theta1, theta1, mu2, mu1, cost, listprice)\n",
    "    return theta1, theta2\n",
    "\n",
    "\n",
    "print(seq_bargain(5,.5,.5,3,11))"
   ]
  },
  {
   "cell_type": "code",
   "execution_count": 26,
   "metadata": {},
   "outputs": [
    {
     "data": {
      "text/html": [
       "<div>\n",
       "<style scoped>\n",
       "    .dataframe tbody tr th:only-of-type {\n",
       "        vertical-align: middle;\n",
       "    }\n",
       "\n",
       "    .dataframe tbody tr th {\n",
       "        vertical-align: top;\n",
       "    }\n",
       "\n",
       "    .dataframe thead th {\n",
       "        text-align: right;\n",
       "    }\n",
       "</style>\n",
       "<table border=\"1\" class=\"dataframe\">\n",
       "  <thead>\n",
       "    <tr style=\"text-align: right;\">\n",
       "      <th></th>\n",
       "      <th>eq_type</th>\n",
       "      <th>listprice</th>\n",
       "      <th>distance_cost</th>\n",
       "      <th>mc1</th>\n",
       "      <th>mc2</th>\n",
       "      <th>profit1</th>\n",
       "      <th>profit2</th>\n",
       "      <th>hosp_profit</th>\n",
       "      <th>share1</th>\n",
       "      <th>share2</th>\n",
       "    </tr>\n",
       "  </thead>\n",
       "  <tbody>\n",
       "    <tr>\n",
       "      <th>0</th>\n",
       "      <td>Simultaneous</td>\n",
       "      <td>20</td>\n",
       "      <td>3.00</td>\n",
       "      <td>4.500016</td>\n",
       "      <td>4.500020</td>\n",
       "      <td>1.500001</td>\n",
       "      <td>1.499999</td>\n",
       "      <td>2.250009</td>\n",
       "      <td>0.500000</td>\n",
       "      <td>0.500000</td>\n",
       "    </tr>\n",
       "    <tr>\n",
       "      <th>1</th>\n",
       "      <td>Sequential</td>\n",
       "      <td>20</td>\n",
       "      <td>3.00</td>\n",
       "      <td>8.531067</td>\n",
       "      <td>5.670004</td>\n",
       "      <td>1.061053</td>\n",
       "      <td>2.014740</td>\n",
       "      <td>3.436578</td>\n",
       "      <td>0.420526</td>\n",
       "      <td>0.579474</td>\n",
       "    </tr>\n",
       "    <tr>\n",
       "      <th>2</th>\n",
       "      <td>Simultaneous</td>\n",
       "      <td>20</td>\n",
       "      <td>3.75</td>\n",
       "      <td>5.625035</td>\n",
       "      <td>5.625036</td>\n",
       "      <td>1.875000</td>\n",
       "      <td>1.875000</td>\n",
       "      <td>2.812518</td>\n",
       "      <td>0.500000</td>\n",
       "      <td>0.500000</td>\n",
       "    </tr>\n",
       "    <tr>\n",
       "      <th>3</th>\n",
       "      <td>Sequential</td>\n",
       "      <td>20</td>\n",
       "      <td>3.75</td>\n",
       "      <td>10.687500</td>\n",
       "      <td>7.096124</td>\n",
       "      <td>1.324208</td>\n",
       "      <td>2.521333</td>\n",
       "      <td>4.302595</td>\n",
       "      <td>0.420192</td>\n",
       "      <td>0.579808</td>\n",
       "    </tr>\n",
       "    <tr>\n",
       "      <th>4</th>\n",
       "      <td>Simultaneous</td>\n",
       "      <td>20</td>\n",
       "      <td>4.50</td>\n",
       "      <td>6.749993</td>\n",
       "      <td>6.750012</td>\n",
       "      <td>2.250003</td>\n",
       "      <td>2.249997</td>\n",
       "      <td>3.375001</td>\n",
       "      <td>0.500000</td>\n",
       "      <td>0.500000</td>\n",
       "    </tr>\n",
       "    <tr>\n",
       "      <th>5</th>\n",
       "      <td>Sequential</td>\n",
       "      <td>20</td>\n",
       "      <td>4.50</td>\n",
       "      <td>12.843750</td>\n",
       "      <td>8.522154</td>\n",
       "      <td>1.587377</td>\n",
       "      <td>3.027909</td>\n",
       "      <td>5.168548</td>\n",
       "      <td>0.419970</td>\n",
       "      <td>0.580030</td>\n",
       "    </tr>\n",
       "    <tr>\n",
       "      <th>6</th>\n",
       "      <td>Simultaneous</td>\n",
       "      <td>20</td>\n",
       "      <td>5.25</td>\n",
       "      <td>7.874991</td>\n",
       "      <td>7.875030</td>\n",
       "      <td>2.625007</td>\n",
       "      <td>2.624993</td>\n",
       "      <td>3.937505</td>\n",
       "      <td>0.500001</td>\n",
       "      <td>0.499999</td>\n",
       "    </tr>\n",
       "    <tr>\n",
       "      <th>7</th>\n",
       "      <td>Sequential</td>\n",
       "      <td>20</td>\n",
       "      <td>5.25</td>\n",
       "      <td>14.929504</td>\n",
       "      <td>9.922598</td>\n",
       "      <td>1.856836</td>\n",
       "      <td>3.525805</td>\n",
       "      <td>6.014065</td>\n",
       "      <td>0.420525</td>\n",
       "      <td>0.579475</td>\n",
       "    </tr>\n",
       "    <tr>\n",
       "      <th>8</th>\n",
       "      <td>Simultaneous</td>\n",
       "      <td>20</td>\n",
       "      <td>6.00</td>\n",
       "      <td>8.999980</td>\n",
       "      <td>9.000004</td>\n",
       "      <td>3.000004</td>\n",
       "      <td>2.999996</td>\n",
       "      <td>4.499996</td>\n",
       "      <td>0.500000</td>\n",
       "      <td>0.500000</td>\n",
       "    </tr>\n",
       "    <tr>\n",
       "      <th>9</th>\n",
       "      <td>Sequential</td>\n",
       "      <td>20</td>\n",
       "      <td>6.00</td>\n",
       "      <td>17.115051</td>\n",
       "      <td>11.359248</td>\n",
       "      <td>2.117388</td>\n",
       "      <td>4.035989</td>\n",
       "      <td>6.888511</td>\n",
       "      <td>0.420058</td>\n",
       "      <td>0.579942</td>\n",
       "    </tr>\n",
       "  </tbody>\n",
       "</table>\n",
       "</div>"
      ],
      "text/plain": [
       "        eq_type  listprice  distance_cost        mc1        mc2   profit1  \\\n",
       "0  Simultaneous         20           3.00   4.500016   4.500020  1.500001   \n",
       "1    Sequential         20           3.00   8.531067   5.670004  1.061053   \n",
       "2  Simultaneous         20           3.75   5.625035   5.625036  1.875000   \n",
       "3    Sequential         20           3.75  10.687500   7.096124  1.324208   \n",
       "4  Simultaneous         20           4.50   6.749993   6.750012  2.250003   \n",
       "5    Sequential         20           4.50  12.843750   8.522154  1.587377   \n",
       "6  Simultaneous         20           5.25   7.874991   7.875030  2.625007   \n",
       "7    Sequential         20           5.25  14.929504   9.922598  1.856836   \n",
       "8  Simultaneous         20           6.00   8.999980   9.000004  3.000004   \n",
       "9    Sequential         20           6.00  17.115051  11.359248  2.117388   \n",
       "\n",
       "    profit2  hosp_profit    share1    share2  \n",
       "0  1.499999     2.250009  0.500000  0.500000  \n",
       "1  2.014740     3.436578  0.420526  0.579474  \n",
       "2  1.875000     2.812518  0.500000  0.500000  \n",
       "3  2.521333     4.302595  0.420192  0.579808  \n",
       "4  2.249997     3.375001  0.500000  0.500000  \n",
       "5  3.027909     5.168548  0.419970  0.580030  \n",
       "6  2.624993     3.937505  0.500001  0.499999  \n",
       "7  3.525805     6.014065  0.420525  0.579475  \n",
       "8  2.999996     4.499996  0.500000  0.500000  \n",
       "9  4.035989     6.888511  0.420058  0.579942  "
      ]
     },
     "execution_count": 26,
     "metadata": {},
     "output_type": "execute_result"
    }
   ],
   "source": [
    "def make_table(arg, steps, params):\n",
    "    min_arg, max_arg, no_step = steps\n",
    "    \n",
    "    cols = ['eq_type','listprice','distance_cost','mc1','mc2','profit1','profit2','hosp_profit','share1','share2']\n",
    "    \n",
    "    indep_var = np.linspace(min_arg, max_arg, no_step)\n",
    "    results = []\n",
    "    \n",
    "    for var in indep_var:\n",
    "        param_copy = list(params)\n",
    "        param_copy[arg] = var\n",
    "        mu1,mu2,cost,listprice = param_copy\n",
    "        for eq_type in ['Simultaneous', 'Sequential']:\n",
    "            \n",
    "            mc1,mc2 = 15, 15\n",
    "            \n",
    "            if eq_type == 'Simultaneous':\n",
    "                mc1,mc2 = simult_bargain(mc1, mc2, mu1, mu2, cost, listprice)\n",
    "            else:\n",
    "                mc1,mc2 = seq_bargain(mc1, mu1, mu2, cost, listprice)\n",
    "            mc1, mc2 = mc1[0],mc2[0]\n",
    "            \n",
    "            share1, profit1, prices1, index1 = calc_eq(mc1, mc2, mu1, mu2, cost, listprice)\n",
    "            share2, profit2, prices2, index2 = calc_eq(mc2, mc1, mu1, mu2, cost, listprice)\n",
    "            \n",
    "            share1, profit1, prices1 = share1[index1], profit1[index1], prices1[index1]\n",
    "            share2, profit2, prices2 = share2[index2], profit2[index2], prices2[index2]\n",
    "            \n",
    "            hosp_prof = share1*mc1*mu1 + share2*mc2*mu2\n",
    "            \n",
    "            results.append([eq_type,listprice,cost,mc1,mc2,profit1,profit2,hosp_prof, share1,share2])\n",
    "            \n",
    "        \n",
    "    return pd.DataFrame(data=results, columns=cols)\n",
    "    \n",
    "\n",
    "make_table(2,(3,6,5), (.5,.5,3,20))"
   ]
  },
  {
   "cell_type": "code",
   "execution_count": 27,
   "metadata": {},
   "outputs": [],
   "source": [
    "table1 = make_table(2,(3,6,5), (.5,.5,3,20))\n",
    "table2 = make_table(3,(9,14,5), (.5,.5,3,10))\n",
    "\n",
    "table1.to_csv('distance_cost_table.csv',float_format='%.3f',index=False)\n",
    "table2.to_csv('listprice_table.csv',float_format='%.3f',index=False)"
   ]
  },
  {
   "cell_type": "code",
   "execution_count": null,
   "metadata": {},
   "outputs": [],
   "source": []
  }
 ],
 "metadata": {
  "kernelspec": {
   "display_name": "Python 3",
   "language": "python",
   "name": "python3"
  },
  "language_info": {
   "codemirror_mode": {
    "name": "ipython",
    "version": 3
   },
   "file_extension": ".py",
   "mimetype": "text/x-python",
   "name": "python",
   "nbconvert_exporter": "python",
   "pygments_lexer": "ipython3",
   "version": "3.7.3"
  }
 },
 "nbformat": 4,
 "nbformat_minor": 2
}
