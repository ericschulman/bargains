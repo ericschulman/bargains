{
 "cells": [
  {
   "cell_type": "code",
   "execution_count": 1,
   "metadata": {},
   "outputs": [],
   "source": [
    "import numpy as np\n",
    "from scipy.optimize import minimize\n",
    "from scipy.optimize import fsolve\n",
    "from matplotlib import pyplot as plt\n",
    "import pandas as pd"
   ]
  },
  {
   "cell_type": "code",
   "execution_count": 2,
   "metadata": {},
   "outputs": [
    {
     "data": {
      "text/plain": [
       "(0, 0, 0)"
      ]
     },
     "execution_count": 2,
     "metadata": {},
     "output_type": "execute_result"
    }
   ],
   "source": [
    "def calc_price(phi1, phi2, cost, wtp):\n",
    "    \"\"\"compute each insurer's price (assumes interior solution)\"\"\"\n",
    "    phi1, phi2 = phi1, phi2\n",
    "    p1 = (2*phi1+phi2)/3. + cost\n",
    "    p2 = (2*phi2+phi1)/3. + cost\n",
    "    if phi1 <= 0 or phi2 <= 0:\n",
    "        return 0,0\n",
    "    \n",
    "    return p1, p2\n",
    "  \n",
    "    \n",
    "def calc_s(phi1, phi2, cost, wtp):\n",
    "    \"\"\"compute the proportion of people choosing each insurer\n",
    "    assumes interior solution\"\"\"\n",
    "    p1, p2 = calc_price(phi1, phi2, cost, wtp)\n",
    "    s_hat = .5 + (p2 - p1)/(2.*cost)\n",
    "    return s_hat\n",
    "\n",
    "\n",
    "def calc_profits(phi1,phi2,cost, wtp, mc):\n",
    "    phi1, phi2 = phi1, phi2\n",
    "    s= calc_s(phi1, phi2, cost, wtp)\n",
    "    p1,p2 = calc_price(phi1, phi2, cost, wtp)\n",
    "    profits1, profits2 = s*(p1-phi1), (1-s)*(p2-phi2)\n",
    "    mc1,mc2 = mc\n",
    "    hosp_profit = s*(phi1-mc1) +  (1-s)*(phi2-mc2)\n",
    "    \n",
    "    if phi1 <= 0 or phi2 <= 0:\n",
    "        return 0,0,0\n",
    "    \n",
    "    return hosp_profit, profits1, profits2\n",
    "\n",
    "    \n",
    "def outside_simlt(phi1, phi2, cost, wtp,  mc, active=False):\n",
    "    \"\"\"outside option in simult case\n",
    "    assuming listprice high enough\"\"\"\n",
    "    mc1,mc2 = mc\n",
    "    \n",
    "    if active:\n",
    "        return (wtp-cost)/2 - mc2 #outside cost is other insurer?\n",
    "\n",
    "    \n",
    "    s_hat = calc_s(phi1, phi2, cost, wtp) # s_hat with no recapture\n",
    "    p1,p2 = calc_price(phi1, phi2, cost, wtp)\n",
    "    s_hat  = np.clip((cost + p2 - wtp)/cost,0,1) #s_hat with recapture\n",
    "    \n",
    "    \n",
    "    return (1-s_hat)*(phi2 -mc2)\n",
    "\n",
    "\n",
    "calc_profits(5,0 ,5, 26, [0,0])"
   ]
  },
  {
   "cell_type": "code",
   "execution_count": 3,
   "metadata": {
    "scrolled": false
   },
   "outputs": [
    {
     "data": {
      "text/plain": [
       "[<matplotlib.lines.Line2D at 0x7f4d7a5f02d0>]"
      ]
     },
     "execution_count": 3,
     "metadata": {},
     "output_type": "execute_result"
    },
    {
     "data": {
      "image/png": "[encoded data removed]",
      "text/plain": [
       "<Figure size 432x288 with 1 Axes>"
      ]
     },
     "metadata": {
      "needs_background": "light"
     },
     "output_type": "display_data"
    }
   ],
   "source": [
    "#arbitrary outside option...\n",
    "def nash_in_nash(phi1, phi2, cost, wtp, mc, beta=.5,outside=None):\n",
    "    if outside == None:\n",
    "        outside = outside_simlt(phi1, phi2,cost, wtp , mc, active=True)\n",
    "\n",
    "    hosp_profit, profits1, profits2 = calc_profits(phi1, phi2,  cost,  wtp, mc)\n",
    "    obj = -1*(np.log(max(hosp_profit-outside,1e-4))*(1-beta) \n",
    "              + np.log(profits1)*beta)\n",
    "    return obj\n",
    "\n",
    "\n",
    "def bargain_helper_seq(phi1, cost, wtp, mc,beta=.5):\n",
    "    \n",
    "    \"\"\" solve firm 1s optimization holding theta 2 fixed \"\"\"\n",
    "    outside = outside_simlt(phi1, None, cost, wtp, mc, active=True)\n",
    "    result = minimize( nash_in_nash, 15., args=(phi1, cost, wtp, mc[::-1], beta, outside),\n",
    "                      method='Nelder-Mead', options={'disp': False} )\n",
    "    return result.x\n",
    "\n",
    "\n",
    "def seq_obj(phi1, cost, wtp, mc, betas=np.array([.5,.5])):\n",
    "    \"\"\" theta1 is a guess for the first stage \"\"\"\n",
    "    phi2 = bargain_helper_seq(phi1, cost, wtp, mc,betas[1])\n",
    "    return nash_in_nash( phi1, phi2, cost, wtp, mc, betas[0], phi2 )\n",
    "\n",
    "\n",
    "COST = 5\n",
    "WTP = 25\n",
    "MC = np.array([0,0])\n",
    "\n",
    "\n",
    "plt.plot([i for i in np.linspace(COST+3,WTP +10,num=20)],  \n",
    "         [seq_obj(i, 13.5 , WTP,MC) for i in np.linspace(COST+3,WTP +10,num=20)])"
   ]
  },
  {
   "cell_type": "code",
   "execution_count": 4,
   "metadata": {},
   "outputs": [
    {
     "name": "stdout",
     "output_type": "stream",
     "text": [
      "(array([19.37493896]), array([15.62493896]))\n"
     ]
    }
   ],
   "source": [
    "def seq_bargain(phi1, cost, wtp, mc, betas=[.5,.5]):\n",
    "    \"\"\"solve the bargaining problems seperately,\n",
    "    then solve for the solution\"\"\"   \n",
    "    #only compute no deal 1x for initial\n",
    "    result = minimize(seq_obj, phi1, args=(cost, wtp, mc, betas),\n",
    "                      method='Nelder-Mead', options={'disp': False})\n",
    "    \n",
    "    phi1 = result.x\n",
    "    phi2 = bargain_helper_seq(phi1, cost, wtp, mc ,beta=betas[1])\n",
    "    return phi1, phi2\n",
    "\n",
    "print(seq_bargain(30, COST, WTP, MC))"
   ]
  },
  {
   "cell_type": "code",
   "execution_count": 23,
   "metadata": {},
   "outputs": [
    {
     "name": "stderr",
     "output_type": "stream",
     "text": [
      "/home/erichschulman/anaconda3/lib/python3.7/site-packages/ipykernel_launcher.py:8: RuntimeWarning: divide by zero encountered in log\n",
      "  \n"
     ]
    },
    {
     "name": "stdout",
     "output_type": "stream",
     "text": [
      "26.81927490234375 22.02738153076172 7.90374755859375\n",
      "--\n",
      "19.33392333984375 16.943511291503906 15.545654296875\n",
      "--\n",
      "[[5.21757537 1.39544295]\n",
      " [1.39544295 0.57696647]]\n",
      "--\n",
      "[[6.16682615 1.47579942]\n",
      " [1.47579942 0.57873833]]\n",
      "--\n",
      "[[6.9876336  1.57316697]\n",
      " [1.57316697 0.59710895]]\n",
      "--\n",
      "[[5.10396331 1.40952468]\n",
      " [1.40952468 0.58912766]]\n",
      "--\n",
      "[[5.0800886  1.39940859]\n",
      " [1.39940859 0.58504597]]\n"
     ]
    }
   ],
   "source": [
    "#generate a bunch of runs with passive and compute costs\n",
    "\n",
    "def compute_cov(nobs=1000):\n",
    "    mcs = np.random.uniform(low=0.0, high=2.0, size=(2,nobs))\n",
    "    phis = []\n",
    "    for i in range(nobs):\n",
    "        phi = seq_bargain(30,COST,WTP,mcs[:,i]) \n",
    "        phis.append(np.array(phi).flatten())\n",
    "\n",
    "    phis = np.array(phis)\n",
    "    return np.cov(phis,rowvar=False),phis\n",
    "\n",
    "matrix, phis = compute_cov()\n",
    "print(phis[:,0].max(),phis[:,0].mean(),phis[:,0].min())\n",
    "print('--')\n",
    "print(phis[:,1].max(),phis[:,1].mean(),phis[:,1].min())\n",
    "print('--')\n",
    "print(matrix)\n",
    "print('--')\n",
    "print(np.cov(phis[0:500,:],rowvar=False))\n",
    "print('--')\n",
    "print(np.cov(phis[100:600,:],rowvar=False))\n",
    "print('--')\n",
    "print(np.cov(phis[200:700,:],rowvar=False))\n",
    "print('--')\n",
    "print(np.cov(phis[300:800,:],rowvar=False))\n"
   ]
  },
  {
   "cell_type": "code",
   "execution_count": 25,
   "metadata": {},
   "outputs": [
    {
     "name": "stdout",
     "output_type": "stream",
     "text": [
      "--\n",
      "[[2.27937658 1.1257962 ]\n",
      " [1.1257962  0.5567058 ]]\n",
      "--\n",
      "[[2.28733813 1.13074673]\n",
      " [1.13074673 0.55970341]]\n",
      "--\n",
      "[[2.31259933 1.14564545]\n",
      " [1.14564545 0.56826461]]\n",
      "--\n",
      "[[2.29680471 1.13737375]\n",
      " [1.13737375 0.56394255]]\n"
     ]
    }
   ],
   "source": [
    "phis_clean = phis[phis[:,0]>=17]\n",
    "print('--')\n",
    "print(np.cov(phis_clean[0:500,:],rowvar=False))\n",
    "print('--')\n",
    "print(np.cov(phis_clean[100:600,:],rowvar=False))\n",
    "print('--')\n",
    "print(np.cov(phis_clean[200:700,:],rowvar=False))\n",
    "print('--')\n",
    "print(np.cov(phis_clean[300:800,:],rowvar=False))"
   ]
  },
  {
   "cell_type": "code",
   "execution_count": 20,
   "metadata": {},
   "outputs": [
    {
     "name": "stdout",
     "output_type": "stream",
     "text": [
      "22.09185791015625 20.642409210205077 19.4033203125\n",
      "--\n",
      "16.871978759765625 16.190327728271484 15.6375732421875\n",
      "--\n",
      "[[0.3084886  0.14180409]\n",
      " [0.14180409 0.06523711]]\n",
      "--\n",
      "[[0.31501404 0.14469805]\n",
      " [0.14469805 0.06651712]]\n",
      "--\n",
      "[[0.30718524 0.14115472]\n",
      " [0.14115472 0.06491315]]\n",
      "--\n",
      "[[0.30222429 0.13883515]\n",
      " [0.13883515 0.06383065]]\n"
     ]
    }
   ],
   "source": [
    "#generate a bunch of runs with passive and compute costs\n",
    "\n",
    "def compute_cov(nobs=1000):\n",
    "    mcs = np.random.uniform(low=0.0, high=1.0, size=(2,nobs))\n",
    "    phis = []\n",
    "    for i in range(nobs):\n",
    "        phi = seq_bargain(30,COST,WTP,mcs[:,i]) \n",
    "        phis.append(np.array(phi).flatten())\n",
    "\n",
    "    phis = np.array(phis)\n",
    "    return np.cov(phis,rowvar=False),phis\n",
    "\n",
    "matrix, phis = compute_cov()\n",
    "print(phis[:,0].max(),phis[:,0].mean(),phis[:,0].min())\n",
    "print('--')\n",
    "print(phis[:,1].max(),phis[:,1].mean(),phis[:,1].min())\n",
    "print('--')\n",
    "print(matrix)\n",
    "print('--')\n",
    "print(np.cov(phis[0:500,:],rowvar=False))\n",
    "print('--')\n",
    "print(np.cov(phis[100:600,:],rowvar=False))\n",
    "print('--')\n",
    "print(np.cov(phis[200:700,:],rowvar=False))"
   ]
  },
  {
   "cell_type": "code",
   "execution_count": 21,
   "metadata": {},
   "outputs": [
    {
     "name": "stdout",
     "output_type": "stream",
     "text": [
      "20.64166259765625 19.999356536865236 19.40606689453125\n",
      "--\n",
      "16.1868896484375 15.898076202392579 15.63739013671875\n",
      "--\n",
      "[[0.06802161 0.03036552]\n",
      " [0.03036552 0.01358276]]\n",
      "--\n",
      "[[0.06313698 0.02816318]\n",
      " [0.02816318 0.01258969]]\n",
      "--\n",
      "[[0.06496691 0.02898664]\n",
      " [0.02898664 0.01296109]]\n",
      "--\n",
      "[[0.06746094 0.03013963]\n",
      " [0.03013963 0.01349317]]\n"
     ]
    }
   ],
   "source": [
    "#generate a bunch of runs with passive and compute costs\n",
    "\n",
    "def compute_cov(nobs=1000):\n",
    "    mcs = np.random.uniform(low=0.0, high=.5, size=(2,nobs))\n",
    "    phis = []\n",
    "    for i in range(nobs):\n",
    "        phi = seq_bargain(30,COST,WTP,mcs[:,i]) \n",
    "        phis.append(np.array(phi).flatten())\n",
    "\n",
    "    phis = np.array(phis)\n",
    "    return np.cov(phis,rowvar=False),phis\n",
    "\n",
    "matrix, phis = compute_cov()\n",
    "print(phis[:,0].max(),phis[:,0].mean(),phis[:,0].min())\n",
    "print('--')\n",
    "print(phis[:,1].max(),phis[:,1].mean(),phis[:,1].min())\n",
    "print('--')\n",
    "print(matrix)\n",
    "print('--')\n",
    "print(np.cov(phis[0:500,:],rowvar=False))\n",
    "print('--')\n",
    "print(np.cov(phis[100:600,:],rowvar=False))\n",
    "print('--')\n",
    "print(np.cov(phis[200:700,:],rowvar=False))"
   ]
  },
  {
   "cell_type": "code",
   "execution_count": 22,
   "metadata": {},
   "outputs": [
    {
     "name": "stdout",
     "output_type": "stream",
     "text": [
      "(array([0.50002166, 1.37489155]), array([0.50001309, 0.6249348 ]))\n"
     ]
    }
   ],
   "source": [
    "#just make sure it works for stuff i know is right\n",
    "\n",
    "def compute_solution(nobs=20):\n",
    "    #mcs = np.random.uniform(low=0.0, high=2.0, size=(2,nobs))\n",
    "    phis = []\n",
    "    vs = np.random.uniform(low=26,high=26.5,size=(nobs))\n",
    "    lambdas = np.random.uniform(low=5,high=6,size=(nobs))\n",
    "    x = np.concatenate(([vs],[lambdas])) #,mcs\n",
    "    for i in range(nobs):\n",
    "        phi = seq_bargain(30,lambdas[i],vs[i],np.array([0,0])) \n",
    "        phis.append(np.array(phi).flatten())\n",
    "    phis = np.array(phis)\n",
    "    xx = x.dot(x.transpose())\n",
    "    xy1 = x.dot(phis[:,0])\n",
    "    xy2 = x.dot(phis[:,1])\n",
    "    return np.linalg.inv(xx).dot(xy1),np.linalg.inv(xx).dot(xy2)\n",
    "    \n",
    "print(compute_solution(nobs=10))"
   ]
  },
  {
   "cell_type": "code",
   "execution_count": 10,
   "metadata": {},
   "outputs": [
    {
     "name": "stdout",
     "output_type": "stream",
     "text": [
      "(array([0.492462  , 1.39257746, 1.47424895, 1.34760879]), array([0.49547075, 0.63557212, 0.68457163, 0.60859616]))\n"
     ]
    }
   ],
   "source": [
    "def compute_solution(nobs=20):\n",
    "    \n",
    "    #set up x variables to solve the model\n",
    "    phis = []\n",
    "    vs = np.random.uniform(low=26,high=26.5,size=(nobs))\n",
    "    lambdas = np.random.uniform(low=5,high=6,size=(nobs))\n",
    "    mcs = np.random.uniform(low=0.0, high=1.0, size=(2,nobs))\n",
    "    x = np.concatenate(([vs],[lambdas],mcs))\n",
    "    \n",
    "    #generate a few solutions...\n",
    "    for i in range(nobs):\n",
    "        phi = seq_bargain(35,lambdas[i],vs[i],mcs[:,i])\n",
    "        phis.append(np.array(phi).flatten())\n",
    "        \n",
    "    #do regression stuff to solve\n",
    "    phis = np.array(phis)\n",
    "    xx = x.dot(x.transpose())\n",
    "    xy1 = x.dot(phis[:,0])\n",
    "    xy2 = x.dot(phis[:,1])\n",
    "    return np.linalg.inv(xx).dot(xy1),np.linalg.inv(xx).dot(xy2)\n",
    "\n",
    "#coeffs are v, lambda, c1, c2\n",
    "print(compute_solution(nobs=10))  \n",
    "\n",
    "#maybe do it 10 times and take the average?"
   ]
  },
  {
   "cell_type": "code",
   "execution_count": null,
   "metadata": {},
   "outputs": [],
   "source": []
  },
  {
   "cell_type": "code",
   "execution_count": null,
   "metadata": {},
   "outputs": [],
   "source": []
  }
 ],
 "metadata": {
  "kernelspec": {
   "display_name": "Python 3",
   "language": "python",
   "name": "python3"
  },
  "language_info": {
   "codemirror_mode": {
    "name": "ipython",
    "version": 3
   },
   "file_extension": ".py",
   "mimetype": "text/x-python",
   "name": "python",
   "nbconvert_exporter": "python",
   "pygments_lexer": "ipython3",
   "version": "3.7.4"
  }
 },
 "nbformat": 4,
 "nbformat_minor": 2
}
