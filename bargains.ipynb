{
 "cells": [
  {
   "cell_type": "code",
   "execution_count": 1,
   "metadata": {},
   "outputs": [],
   "source": [
    "from sympy import *\n",
    "from matplotlib import pyplot as plt\n",
    "import pandas as pd"
   ]
  },
  {
   "cell_type": "code",
   "execution_count": 2,
   "metadata": {},
   "outputs": [
    {
     "name": "stdout",
     "output_type": "stream",
     "text": [
      "[(5, 1, 0.2, 0.5, 0.5, 0.5, 5, 5, 0.5, 0.5), (5, 1, 0.2, 0.5, 0.5, 0.5, -17.3251658604378, -20.4569590023983, 0.000964968459323691, 2.08882706309967), (5, 1, 0.2, 0.5, 0.5, 0.5, -5.89861737276086, -6.03141467996201, 0.456713960088500, 0.545245498222597), (5, 1, 0.2, 0.5, 0.5, 0.5, 0.982779904770486, 0.951725824054472, 0.489702215090724, 0.510404935568067), (5, 1, 0.2, 0.5, 0.5, 0.5, 4.08829018210590, 1.03250900499431, 0.000172863317775248, 2.03736031472550), (5, 1, 0.2, 0.5, 0.5, 0.5, -7.40550001749375, 4.01020326285304, 11.5451389481667, 3.93467009460220), (5, 1, 0.2, 0.5, 0.5, 0.5, 2.65194077812066, 5.68337825916700, 2.02101322709837, 5.49064008077185e-5)]\n",
      "[(10, 1, 0.2, 0.5, 0.5, 0.5, 10, 10, 0.5, 0.5), (10, 1, 0.2, 0.5, 0.5, 0.5, -17.2458209579898, -22.8703039557566, 0.382661722531488, 4.13231705437599), (10, 1, 0.2, 0.5, 0.5, 0.5, 6.41708027323220, 1.41365327195421, 0.222984430524984, 3.55860243137698), (10, 1, 0.2, 0.5, 0.5, 0.5, -14.5228042566003, 7.95806827461992, 36.0708258306831, 21.0835774765362), (10, 1, 0.2, 0.5, 0.5, 0.5, 7.37727100933008, 10.3826073714764, 2.00355915680648, 1.58204227536268e-6)]\n"
     ]
    }
   ],
   "source": [
    "def seq(t1=Symbol('t_1'),\n",
    "           t2=Symbol('t_2'),\n",
    "           l=Symbol('l'),\n",
    "           q=Symbol('q'),\n",
    "           m1=Symbol('m_1'),\n",
    "           m2=Symbol('m_2'),\n",
    "           b1=Symbol('b_1'),\n",
    "           b2=Symbol('b_2'), v=False, inter=True,corner=True):\n",
    "    \n",
    "    #profits\n",
    "    pi1 = .5*( (t2-t1)/3 +q)*(1 + (t2-t1)/(3*q) )\n",
    "    pi2 = .5*( (t1-t2)/3 +q)*(1 + (t1-t2)/(3*q) )\n",
    "\n",
    "    #use SPE/backward induction to solve game\n",
    "    v2 = (pi2 - pi2.subs(t2,l) )**(b2) * (m1*t1 +m2*t2)**(1-b2)\n",
    "    v2_foc = diff(v2,t2)\n",
    "    \n",
    "    solutions = []\n",
    "    \n",
    "    #initialize no bargain, list price both\n",
    "    if corner:\n",
    "        solutions.append( (l,q,m1,m2,b1,b2,l,l,.5*q,.5*q) )\n",
    "    \n",
    "    #solve for t1 as a function of t2\n",
    "    if inter:\n",
    "        h1_list = solve(v2_foc,t2,force=True)\n",
    "        if v: print 'h1_list: %s\\n'%h1_list\n",
    "    \n",
    "        for h1 in h1_list:\n",
    "        \n",
    "            #susbitute h1 for t2, then substitute l into the second term for t1\n",
    "            h1 = simplify(h1)\n",
    "            pi1_h = pi1.subs(t2,h1)\n",
    "            pi1_l = pi1_h.subs(t1,l)\n",
    "            v1 = (pi1.subs(t2,h1) - pi1_l ) * (m1*t1 + m2*h1)\n",
    "            v1_foc = diff(v1,t1)\n",
    "            if v: print 'solving t1_foc ...'\n",
    "        \n",
    "            t1_sol = solve(v1_foc,t1,rational=False,force=True)\n",
    "            t1_sol = [t1_cand for t1_cand in t1_sol if t1_cand.is_real]\n",
    "       \n",
    "            if v: print 't1_sol: %s\\n'%t1_sol\n",
    "            for t1_param in t1_sol: \n",
    "                t2_param = h1.subs(t1,t1_param) \n",
    "                pi1_param = pi1.subs({t1:t1_param, t2:t2_param})\n",
    "                pi2_param = pi2.subs({t1:t1_param, t2:t2_param})\n",
    "                solutions.append((l,q,m1,m2,b1,b2,t1_param,t2_param,pi1_param,pi2_param))\n",
    "        \n",
    "        return solutions\n",
    "\n",
    "test_seq1 = seq(l = 5, q = 1, m1 = .2, m2 = .5, b1 = .5, b2 = .5, v=False)\n",
    "print test_seq1\n",
    "test_seq2 = seq(l = 10, q = 1, m1 = .2, m2 = .5, b1 = .5, b2 = .5, v=False)\n",
    "print test_seq2"
   ]
  },
  {
   "cell_type": "code",
   "execution_count": 23,
   "metadata": {},
   "outputs": [
    {
     "name": "stdout",
     "output_type": "stream",
     "text": [
      "[(5.0, 1, 0.5, 0.5, 0.5, 0.5, -1.00000000000000, 5.0, 4.50000000000000, 0.500000000000000), (5.0, 1, 0.5, 0.5, 0.5, 0.5, 5.0, -1.00000000000000, 0.500000000000000, 4.50000000000000)]\n"
     ]
    }
   ],
   "source": [
    "def inter_simult(t1,t2,v1_foc,v2_foc,\n",
    "                 l,q,m1,m2,b1,b2,pi1,pi2,v):\n",
    "    solutions = [(l,q,m1,m2,b1,b2,l,l,.5*q,.5*q)]\n",
    "    #solve for t2 as a function of t1\n",
    "    if v: print 'solving v2_foc... \\n'\n",
    "    t2_sol = solve(v2_foc,t2)\n",
    "    if v: print 't2_sol: %s \\n'%t2_sol \n",
    "    for t2_param in t2_sol:\n",
    "        #substitute back into foc\n",
    "        v1_foc1 = v1_foc.subs(t2,t2_param)  \n",
    "        if v: print 'solving v1_foc... \\n'\n",
    "        t1_param = solve(v1_foc1,t1)        \n",
    "        t1_param = [t1_cand for t1_cand in t1_param if t1_cand.is_real]\n",
    "        if v: print 't2_param: %s, t1_param: %s \\n'%(t2_param, t1_param)  \n",
    "        #sovle for t2\n",
    "        t2_param = [t2_param.subs(t1, t1_cand) for t1_cand in t1_param]\n",
    "        for i in range(len(t1_param)): \n",
    "            pi1_param = pi1.subs({t1:t1_param[i], t2:t2_param[i]})\n",
    "            pi2_param = pi2.subs({t1:t1_param[i], t2:t2_param[i]})\n",
    "            solutions.append((l,q,m1,m2,b1,b2,t1_param[i],t2_param[i],pi1_param,pi2_param))   \n",
    "    return solutions\n",
    "\n",
    "\n",
    "def corner_simult(t1,t2,v1_foc,v2_foc,\n",
    "                  l,q,m1,m2,b1,b2,pi1,pi2,v):\n",
    "    solutions = []\n",
    "    \n",
    "    #case 1: t2 = l, t1 interior (good one)\n",
    "    v1_foc1 = v1_foc.subs(t2,l) \n",
    "    if v: print 'solving foc 1 in corner case... \\n'\n",
    "    t1_sol = solve(v1_foc1,t1)        \n",
    "    t1_sol = [t_cand for t_cand in t1_sol if t_cand.is_real]\n",
    "    if v: print 't1_sol in corner: %s \\n'%(t1_sol)  \n",
    "    #add solutions to list\n",
    "    for t1_param in t1_sol:\n",
    "        pi1_param1 = S(.5)*( (l-t1_param)/S(3) +q) *(1 + (l-t1_param)/(S(3)*q) )\n",
    "        pi2_param1 = S(.5)*( (t1_param-l)/S(3) +q) *(1 + (t1_param-l)/(S(3)*q) )\n",
    "        solutions.append((l,q,m1,m2,b1,b2,t1_param,l,pi1_param1,pi2_param1))\n",
    "\n",
    "    #case 2: t1 = l, t2 interior (broken one)\n",
    "    v2_foc2 = v2_foc.subs(t1,l) \n",
    "    if v: print 'solving foc 2 in corner case... \\n'\n",
    "    t2_sol = solve(v2_foc2,t2)        \n",
    "    t2_sol = [t_cand for t_cand in t2_sol if t_cand.is_real]\n",
    "    if v: print 't2_sol in corner: %s \\n'%(t2_sol)  \n",
    "    #add solutions to list\n",
    "    for t2_param in t2_sol:\n",
    "        pi1_param2 = S(.5)*( (t2_param-l)/S(3) +q) *(1 + (t2_param-l)/(S(3)*q) )\n",
    "        pi2_param2 = S(.5)*( (l-t2_param)/S(3) +q) *(1 + (l-t2_param)/(S(3)*q) )\n",
    "        solutions.append((l,q,m1,m2,b1,b2,l,t2_param, pi1_param2,pi2_param2))\n",
    "    \n",
    "    return solutions\n",
    "    \n",
    "\n",
    "def simult(t1=Symbol('t_1'),\n",
    "           t2=Symbol('t_2'),\n",
    "           l=Symbol('l'),\n",
    "           q=Symbol('q'),\n",
    "           m1=Symbol('m_1'),\n",
    "           m2=Symbol('m_2'),\n",
    "           b1=Symbol('b_1'),\n",
    "           b2=Symbol('b_2'), v=False, inter=True,corner=True):\n",
    "    \n",
    "    #profits\n",
    "    pi1 = S(.5)*( (t2-t1)/S(3) +q)*(S(1) + (t2-t1)/(S(3)*q) )\n",
    "    pi2 = S(.5)*( (t1-t2)/S(3) +q)*(S(1) + (t1-t2)/(S(3)*q) )\n",
    "    #nash bargaining objectives\n",
    "    v1 = (pi1 - pi1.subs(t1,l) )**(b1) * (m1*t1 +m2*t2)**(S(1)-b1)\n",
    "    v2 = (pi2 - pi2.subs(t2,l) )**(b2) * (m1*t1 +m2*t2)**(S(1)-b2)\n",
    "    #simultaneous bargaining\n",
    "    v1_foc = diff(v1,t1)\n",
    "    v2_foc = diff(v2,t2)\n",
    "    #initialize no bargain, list price both\n",
    "    solutions = []\n",
    "    #other less important cases:\n",
    "    if corner:\n",
    "        corner_solutions = corner_simult(t1,t2, v1_foc, v2_foc,\n",
    "                                     l,q,m1,m2,b1,b2,pi1,pi2,v)\n",
    "        for sol in  corner_solutions:\n",
    "            solutions.append(sol)\n",
    "    #interior cases:\n",
    "    if inter:\n",
    "        int_solutions = inter_simult(t1,t2,v1_foc,v2_foc,\n",
    "                                 l,q,m1,m2,b1,b2,pi1,pi2,v)\n",
    "        for sol in int_solutions:\n",
    "            solutions.append(sol)\n",
    "    return solutions\n",
    "\n",
    "test_sim1 = simult(l = 6.2, q = 1, m1 = .5, m2 = .5, b1 = .5, b2 = .5, v=False, inter=True, corner=True)\n",
    "#print test_sim1\n",
    "\n",
    "test_sim2 = simult(l = 5.0, q =1 , m1 = .5, m2 = .5, b1 = .5, b2 = .5, v=False, inter=True, corner=True)\n",
    "#print test_sim2\n",
    "print find_eq(test_sim2)\n",
    "\n",
    "test_sim3 = simult(l = 5.4, q =1 , m1 = .5, m2 = .5, b1 = .5, b2 = .5, v=False, inter=True, corner=True)\n",
    "#print test_sim3\n",
    "#print find_eq(test_sim3)\n",
    "\n",
    "test_sim4 = simult(l = 1, q =1 , m1 = 0.0, m2 = .5, b1 = .5, b2 = .5, v=False, inter=True, corner=True)\n",
    "#print test_sim3\n",
    "#print find_eq(test_sim4)"
   ]
  },
  {
   "cell_type": "code",
   "execution_count": 27,
   "metadata": {},
   "outputs": [
    {
     "name": "stdout",
     "output_type": "stream",
     "text": [
      "pi1_0: 6.18464439180459, pi2_0: 1.15064445333169, v1_0: 3.71246826117746, v2_0: 0, t1_0: -1.35099990770935, t2_0: 6.2, \n",
      "\n",
      "pi1: 6.18464439180459, pi2: 1.15064445333169, v1: 3.71246826117746, v2: 0 , t1: -1.35099990770935, t2:6.2 \n",
      "\n",
      "pi1: 0.00449141066454633, pi2: 2.19404690469300, v1: 1.97125871449389*I, v2: 0 , t1: 9.48433324104268, t2:6.2 \n",
      "\n",
      "pi1: 1.15064445333169, pi2: 6.18464439180459, v1: 0, v2: 3.71246826117746 , t1: 6.2, t2:-1.35099990770935 \n",
      "\n",
      "pi1: 2.19404690469300, pi2: 0.00449141066454633, v1: 0, v2: 1.97125871449389*I , t1: 6.2, t2:9.48433324104268 \n",
      "\n",
      "pi1: 0.5, pi2: 0.5, v1: 0, v2: 0 , t1: 6.2, t2:6.2 \n",
      "\n",
      "pi1: 0.500000000000000, pi2: 0.500000000000000, v1: -4.38380812293794, v2: -4.38380812293794 , t1: -5.36904651573303, t2:-5.36904651573303 \n",
      "\n",
      "pi1: 0.500000000000000, pi2: 0.500000000000000, v1: -0.188572730257330, v2: -0.188572730257330 , t1: -0.230953484266974, t2:-0.230953484266974 \n",
      "\n",
      "pi1: 0.118686629641123, pi2: 3.09310596295147, v1: 1.04864898716643*I, v2: 2.36934548591346 , t1: 4.07081449998276, t2:-0.390814499982760 \n",
      "\n",
      "pi1: 3.09310596295147, pi2: 0.118686629641123, v1: 2.36934548591346, v2: 1.04864898716643*I , t1: -0.390814499982760, t2:4.07081449998276 \n",
      "\n",
      "pi1_0: 0.00449141066454633, pi2_0: 2.19404690469300, v1_0: 1.97125871449389*I, v2_0: 0, t1_0: 9.48433324104268, t2_0: 6.2, \n",
      "\n",
      "pi1: 6.18464439180459, pi2: 1.15064445333169, v1: 3.71246826117746, v2: 0 , t1: -1.35099990770935, t2:6.2 \n",
      "\n",
      "pi1: 0.00449141066454633, pi2: 2.19404690469300, v1: 1.97125871449389*I, v2: 0 , t1: 9.48433324104268, t2:6.2 \n",
      "\n",
      "pi1: 1.15064445333169, pi2: 6.18464439180459, v1: 0, v2: 3.71246826117746 , t1: 6.2, t2:-1.35099990770935 \n",
      "\n",
      "pi1: 2.19404690469300, pi2: 0.00449141066454633, v1: 0, v2: 1.97125871449389*I , t1: 6.2, t2:9.48433324104268 \n",
      "\n",
      "pi1: 0.5, pi2: 0.5, v1: 0, v2: 0 , t1: 6.2, t2:6.2 \n",
      "\n",
      "pi1: 0.500000000000000, pi2: 0.500000000000000, v1: -4.38380812293794, v2: -4.38380812293794 , t1: -5.36904651573303, t2:-5.36904651573303 \n",
      "\n",
      "pi1: 0.500000000000000, pi2: 0.500000000000000, v1: -0.188572730257330, v2: -0.188572730257330 , t1: -0.230953484266974, t2:-0.230953484266974 \n",
      "\n",
      "pi1: 0.118686629641123, pi2: 3.09310596295147, v1: 1.04864898716643*I, v2: 2.36934548591346 , t1: 4.07081449998276, t2:-0.390814499982760 \n",
      "\n",
      "pi1: 3.09310596295147, pi2: 0.118686629641123, v1: 2.36934548591346, v2: 1.04864898716643*I , t1: -0.390814499982760, t2:4.07081449998276 \n",
      "\n",
      "pi1_0: 1.15064445333169, pi2_0: 6.18464439180459, v1_0: 0, v2_0: 3.71246826117746, t1_0: 6.2, t2_0: -1.35099990770935, \n",
      "\n",
      "pi1: 6.18464439180459, pi2: 1.15064445333169, v1: 3.71246826117746, v2: 0 , t1: -1.35099990770935, t2:6.2 \n",
      "\n",
      "pi1: 0.00449141066454633, pi2: 2.19404690469300, v1: 1.97125871449389*I, v2: 0 , t1: 9.48433324104268, t2:6.2 \n",
      "\n",
      "pi1: 1.15064445333169, pi2: 6.18464439180459, v1: 0, v2: 3.71246826117746 , t1: 6.2, t2:-1.35099990770935 \n",
      "\n",
      "pi1: 2.19404690469300, pi2: 0.00449141066454633, v1: 0, v2: 1.97125871449389*I , t1: 6.2, t2:9.48433324104268 \n",
      "\n",
      "pi1: 0.5, pi2: 0.5, v1: 0, v2: 0 , t1: 6.2, t2:6.2 \n",
      "\n",
      "pi1: 0.500000000000000, pi2: 0.500000000000000, v1: -4.38380812293794, v2: -4.38380812293794 , t1: -5.36904651573303, t2:-5.36904651573303 \n",
      "\n",
      "pi1: 0.500000000000000, pi2: 0.500000000000000, v1: -0.188572730257330, v2: -0.188572730257330 , t1: -0.230953484266974, t2:-0.230953484266974 \n",
      "\n",
      "pi1: 0.118686629641123, pi2: 3.09310596295147, v1: 1.04864898716643*I, v2: 2.36934548591346 , t1: 4.07081449998276, t2:-0.390814499982760 \n",
      "\n",
      "pi1: 3.09310596295147, pi2: 0.118686629641123, v1: 2.36934548591346, v2: 1.04864898716643*I , t1: -0.390814499982760, t2:4.07081449998276 \n",
      "\n",
      "pi1_0: 2.19404690469300, pi2_0: 0.00449141066454633, v1_0: 0, v2_0: 1.97125871449389*I, t1_0: 6.2, t2_0: 9.48433324104268, \n",
      "\n",
      "pi1: 6.18464439180459, pi2: 1.15064445333169, v1: 3.71246826117746, v2: 0 , t1: -1.35099990770935, t2:6.2 \n",
      "\n",
      "pi1: 0.00449141066454633, pi2: 2.19404690469300, v1: 1.97125871449389*I, v2: 0 , t1: 9.48433324104268, t2:6.2 \n",
      "\n",
      "pi1: 1.15064445333169, pi2: 6.18464439180459, v1: 0, v2: 3.71246826117746 , t1: 6.2, t2:-1.35099990770935 \n",
      "\n",
      "pi1: 2.19404690469300, pi2: 0.00449141066454633, v1: 0, v2: 1.97125871449389*I , t1: 6.2, t2:9.48433324104268 \n",
      "\n",
      "pi1: 0.5, pi2: 0.5, v1: 0, v2: 0 , t1: 6.2, t2:6.2 \n",
      "\n",
      "pi1: 0.500000000000000, pi2: 0.500000000000000, v1: -4.38380812293794, v2: -4.38380812293794 , t1: -5.36904651573303, t2:-5.36904651573303 \n",
      "\n",
      "pi1: 0.500000000000000, pi2: 0.500000000000000, v1: -0.188572730257330, v2: -0.188572730257330 , t1: -0.230953484266974, t2:-0.230953484266974 \n",
      "\n",
      "pi1: 0.118686629641123, pi2: 3.09310596295147, v1: 1.04864898716643*I, v2: 2.36934548591346 , t1: 4.07081449998276, t2:-0.390814499982760 \n",
      "\n",
      "pi1: 3.09310596295147, pi2: 0.118686629641123, v1: 2.36934548591346, v2: 1.04864898716643*I , t1: -0.390814499982760, t2:4.07081449998276 \n",
      "\n",
      "pi1_0: 0.5, pi2_0: 0.5, v1_0: 0, v2_0: 0, t1_0: 6.2, t2_0: 6.2, \n",
      "\n",
      "pi1: 6.18464439180459, pi2: 1.15064445333169, v1: 3.71246826117746, v2: 0 , t1: -1.35099990770935, t2:6.2 \n",
      "\n",
      "pi1: 0.00449141066454633, pi2: 2.19404690469300, v1: 1.97125871449389*I, v2: 0 , t1: 9.48433324104268, t2:6.2 \n",
      "\n",
      "pi1: 1.15064445333169, pi2: 6.18464439180459, v1: 0, v2: 3.71246826117746 , t1: 6.2, t2:-1.35099990770935 \n",
      "\n",
      "pi1: 2.19404690469300, pi2: 0.00449141066454633, v1: 0, v2: 1.97125871449389*I , t1: 6.2, t2:9.48433324104268 \n",
      "\n",
      "pi1: 0.5, pi2: 0.5, v1: 0, v2: 0 , t1: 6.2, t2:6.2 \n",
      "\n",
      "pi1: 0.500000000000000, pi2: 0.500000000000000, v1: -4.38380812293794, v2: -4.38380812293794 , t1: -5.36904651573303, t2:-5.36904651573303 \n",
      "\n",
      "pi1: 0.500000000000000, pi2: 0.500000000000000, v1: -0.188572730257330, v2: -0.188572730257330 , t1: -0.230953484266974, t2:-0.230953484266974 \n",
      "\n",
      "pi1: 0.118686629641123, pi2: 3.09310596295147, v1: 1.04864898716643*I, v2: 2.36934548591346 , t1: 4.07081449998276, t2:-0.390814499982760 \n",
      "\n",
      "pi1: 3.09310596295147, pi2: 0.118686629641123, v1: 2.36934548591346, v2: 1.04864898716643*I , t1: -0.390814499982760, t2:4.07081449998276 \n",
      "\n",
      "pi1_0: 0.500000000000000, pi2_0: 0.500000000000000, v1_0: -4.38380812293794, v2_0: -4.38380812293794, t1_0: -5.36904651573303, t2_0: -5.36904651573303, \n",
      "\n",
      "pi1: 6.18464439180459, pi2: 1.15064445333169, v1: 3.71246826117746, v2: 0 , t1: -1.35099990770935, t2:6.2 \n",
      "\n",
      "pi1: 0.00449141066454633, pi2: 2.19404690469300, v1: 1.97125871449389*I, v2: 0 , t1: 9.48433324104268, t2:6.2 \n",
      "\n",
      "pi1: 1.15064445333169, pi2: 6.18464439180459, v1: 0, v2: 3.71246826117746 , t1: 6.2, t2:-1.35099990770935 \n",
      "\n",
      "pi1: 2.19404690469300, pi2: 0.00449141066454633, v1: 0, v2: 1.97125871449389*I , t1: 6.2, t2:9.48433324104268 \n",
      "\n",
      "pi1: 0.5, pi2: 0.5, v1: 0, v2: 0 , t1: 6.2, t2:6.2 \n",
      "\n",
      "pi1: 0.500000000000000, pi2: 0.500000000000000, v1: -4.38380812293794, v2: -4.38380812293794 , t1: -5.36904651573303, t2:-5.36904651573303 \n",
      "\n",
      "pi1: 0.500000000000000, pi2: 0.500000000000000, v1: -0.188572730257330, v2: -0.188572730257330 , t1: -0.230953484266974, t2:-0.230953484266974 \n",
      "\n",
      "pi1: 0.118686629641123, pi2: 3.09310596295147, v1: 1.04864898716643*I, v2: 2.36934548591346 , t1: 4.07081449998276, t2:-0.390814499982760 \n",
      "\n",
      "pi1: 3.09310596295147, pi2: 0.118686629641123, v1: 2.36934548591346, v2: 1.04864898716643*I , t1: -0.390814499982760, t2:4.07081449998276 \n",
      "\n",
      "pi1_0: 0.500000000000000, pi2_0: 0.500000000000000, v1_0: -0.188572730257330, v2_0: -0.188572730257330, t1_0: -0.230953484266974, t2_0: -0.230953484266974, \n",
      "\n",
      "pi1: 6.18464439180459, pi2: 1.15064445333169, v1: 3.71246826117746, v2: 0 , t1: -1.35099990770935, t2:6.2 \n",
      "\n",
      "pi1: 0.00449141066454633, pi2: 2.19404690469300, v1: 1.97125871449389*I, v2: 0 , t1: 9.48433324104268, t2:6.2 \n",
      "\n",
      "pi1: 1.15064445333169, pi2: 6.18464439180459, v1: 0, v2: 3.71246826117746 , t1: 6.2, t2:-1.35099990770935 \n",
      "\n",
      "pi1: 2.19404690469300, pi2: 0.00449141066454633, v1: 0, v2: 1.97125871449389*I , t1: 6.2, t2:9.48433324104268 \n",
      "\n",
      "pi1: 0.5, pi2: 0.5, v1: 0, v2: 0 , t1: 6.2, t2:6.2 \n",
      "\n",
      "pi1: 0.500000000000000, pi2: 0.500000000000000, v1: -4.38380812293794, v2: -4.38380812293794 , t1: -5.36904651573303, t2:-5.36904651573303 \n",
      "\n",
      "pi1: 0.500000000000000, pi2: 0.500000000000000, v1: -0.188572730257330, v2: -0.188572730257330 , t1: -0.230953484266974, t2:-0.230953484266974 \n",
      "\n",
      "pi1: 0.118686629641123, pi2: 3.09310596295147, v1: 1.04864898716643*I, v2: 2.36934548591346 , t1: 4.07081449998276, t2:-0.390814499982760 \n",
      "\n",
      "pi1: 3.09310596295147, pi2: 0.118686629641123, v1: 2.36934548591346, v2: 1.04864898716643*I , t1: -0.390814499982760, t2:4.07081449998276 \n",
      "\n",
      "pi1_0: 0.118686629641123, pi2_0: 3.09310596295147, v1_0: 1.04864898716643*I, v2_0: 2.36934548591346, t1_0: 4.07081449998276, t2_0: -0.390814499982760, \n",
      "\n",
      "pi1: 6.18464439180459, pi2: 1.15064445333169, v1: 3.71246826117746, v2: 0 , t1: -1.35099990770935, t2:6.2 \n",
      "\n",
      "pi1: 0.00449141066454633, pi2: 2.19404690469300, v1: 1.97125871449389*I, v2: 0 , t1: 9.48433324104268, t2:6.2 \n",
      "\n",
      "pi1: 1.15064445333169, pi2: 6.18464439180459, v1: 0, v2: 3.71246826117746 , t1: 6.2, t2:-1.35099990770935 \n",
      "\n",
      "pi1: 2.19404690469300, pi2: 0.00449141066454633, v1: 0, v2: 1.97125871449389*I , t1: 6.2, t2:9.48433324104268 \n",
      "\n",
      "pi1: 0.5, pi2: 0.5, v1: 0, v2: 0 , t1: 6.2, t2:6.2 \n",
      "\n",
      "pi1: 0.500000000000000, pi2: 0.500000000000000, v1: -4.38380812293794, v2: -4.38380812293794 , t1: -5.36904651573303, t2:-5.36904651573303 \n",
      "\n",
      "pi1: 0.500000000000000, pi2: 0.500000000000000, v1: -0.188572730257330, v2: -0.188572730257330 , t1: -0.230953484266974, t2:-0.230953484266974 \n",
      "\n",
      "pi1: 0.118686629641123, pi2: 3.09310596295147, v1: 1.04864898716643*I, v2: 2.36934548591346 , t1: 4.07081449998276, t2:-0.390814499982760 \n",
      "\n",
      "pi1: 3.09310596295147, pi2: 0.118686629641123, v1: 2.36934548591346, v2: 1.04864898716643*I , t1: -0.390814499982760, t2:4.07081449998276 \n",
      "\n",
      "pi1_0: 3.09310596295147, pi2_0: 0.118686629641123, v1_0: 2.36934548591346, v2_0: 1.04864898716643*I, t1_0: -0.390814499982760, t2_0: 4.07081449998276, \n",
      "\n",
      "pi1: 6.18464439180459, pi2: 1.15064445333169, v1: 3.71246826117746, v2: 0 , t1: -1.35099990770935, t2:6.2 \n",
      "\n",
      "pi1: 0.00449141066454633, pi2: 2.19404690469300, v1: 1.97125871449389*I, v2: 0 , t1: 9.48433324104268, t2:6.2 \n",
      "\n",
      "pi1: 1.15064445333169, pi2: 6.18464439180459, v1: 0, v2: 3.71246826117746 , t1: 6.2, t2:-1.35099990770935 \n",
      "\n",
      "pi1: 2.19404690469300, pi2: 0.00449141066454633, v1: 0, v2: 1.97125871449389*I , t1: 6.2, t2:9.48433324104268 \n",
      "\n",
      "pi1: 0.5, pi2: 0.5, v1: 0, v2: 0 , t1: 6.2, t2:6.2 \n",
      "\n",
      "pi1: 0.500000000000000, pi2: 0.500000000000000, v1: -4.38380812293794, v2: -4.38380812293794 , t1: -5.36904651573303, t2:-5.36904651573303 \n",
      "\n",
      "pi1: 0.500000000000000, pi2: 0.500000000000000, v1: -0.188572730257330, v2: -0.188572730257330 , t1: -0.230953484266974, t2:-0.230953484266974 \n",
      "\n",
      "pi1: 0.118686629641123, pi2: 3.09310596295147, v1: 1.04864898716643*I, v2: 2.36934548591346 , t1: 4.07081449998276, t2:-0.390814499982760 \n",
      "\n",
      "pi1: 3.09310596295147, pi2: 0.118686629641123, v1: 2.36934548591346, v2: 1.04864898716643*I , t1: -0.390814499982760, t2:4.07081449998276 \n",
      "\n",
      "[(6.2, 1, 0.5, 0.5, 0.5, 0.5, -1.35099990770935, 6.2, 6.18464439180459, 1.15064445333169), (6.2, 1, 0.5, 0.5, 0.5, 0.5, 6.2, -1.35099990770935, 1.15064445333169, 6.18464439180459)]\n"
     ]
    }
   ],
   "source": [
    "#still in progress, need to compare nash bargaining objectives to each other. \n",
    "#make sure to check that they are not equal. maximum will not be strictly less than its self?\n",
    "\n",
    "def find_eq(candidates,v=False):\n",
    "    solutions = []\n",
    "    if len(candidates) == 1:\n",
    "        return candidates\n",
    "    for sol_0 in candidates:\n",
    "        l_0,q_0,m1_0,m2_0,b1_0,b2_0,t1_0,t2_0,pi1_0,pi2_0 = sol_0\n",
    "        \n",
    "        pi1_l0 = S(.5)*( (t2_0-l_0)/S(3) +q_0)*(1 + (t2_0-l_0)/(S(3)*q_0) )\n",
    "        pi2_l0 = S(.5)*( (t1_0-l_0)/S(3) +q_0)*(1 + (t1_0-l_0)/(S(3)*q_0) )\n",
    "\n",
    "        v1_0 = (pi1_0 - pi1_l0)**(b1_0) * (m1_0*t1_0 +m2_0*t2_0)**(1-b1_0)\n",
    "        v2_0 = (pi2_0 - pi2_l0)**(b2_0) * (m1_0*t1_0 +m2_0*t2_0)**(1-b2_0)\n",
    "        if v: print 'pi1_0: %s, pi2_0: %s, v1_0: %s, v2_0: %s, t1_0: %s, t2_0: %s, \\n'%(pi1_0,pi2_0,v1_0,v2_0,t1_0,t2_0)\n",
    "        nash = True\n",
    "        for sol in candidates:\n",
    "            l,q,m1,m2,b1,b2,t1,t2,pi1,pi2 = sol  \n",
    "            pi1_l = S(.5)*( (t2-l)/S(3) +q) *(1 + (t2-l)/(S(3)*q) )\n",
    "            pi2_l = S(.5)*( (t1-l)/S(3) +q) *(1 + (t1-l)/(S(3)*q) )\n",
    "                \n",
    "            #nash bargaining objectives - non candidate\n",
    "            v1 = (pi1 - pi1_l )**(b1) * (m1*t1 +m2*t2)**(1-b1)\n",
    "            v2 = (pi2 - pi2_l )**(b2) * (m1*t1 +m2*t2)**(1-b2)\n",
    "            v0_real =  v1_0.is_real and v2_0.is_real\n",
    "            v_real =  v2.is_real and v1.is_real\n",
    "            if v: print 'pi1: %s, pi2: %s, v1: %s, v2: %s , t1: %s, t2:%s \\n'%(pi1, pi2, v1,v2,t1,t2)\n",
    "            nash = nash and v0_real and (not v_real or v1 < v1_0 or v2 <v2_0 or (v1 == v1_0 and v2 == v2_0))\n",
    "        if nash: \n",
    "            solutions.append(sol_0)\n",
    "    return solutions\n",
    "\n",
    "print find_eq(test_sim1,v=True)"
   ]
  },
  {
   "cell_type": "code",
   "execution_count": 10,
   "metadata": {},
   "outputs": [],
   "source": [
    "def l_plotter(game, ranger, scaler, args, v=False):\n",
    "    q0, m10, m20, b10, b20 = args\n",
    "    result = []\n",
    "    for l in ranger: \n",
    "        l = l/scaler\n",
    "        solutions = game(l = l ,q = q0, m1 = m10, m2 = m20, b1 = b10, b2 = b20)\n",
    "        solutions = find_eq(solutions)\n",
    "        if v: print 'solutions: %s \\n'%solutions\n",
    "        for sol in solutions:\n",
    "            result.append(sol) \n",
    "    result = pd.DataFrame(result, columns=['l','lambda','mu_1','mu_2','beta_1','beta_2','theta_1','theta_2','pi_1','pi_2']) \n",
    "    return result\n",
    "\n",
    "\n",
    "def q_plotter(game, ranger, scaler, args,v=False): \n",
    "    l0, m10, m20, b10, b20  = args \n",
    "    result = [] \n",
    "    for q in ranger: \n",
    "        q = q/scaler \n",
    "        solutions = game(l = l0 ,q = q, m1 = m10, m2 = m20, b1 = b10, b2 = b20)\n",
    "        solutions = find_eq(solutions)\n",
    "        if v: print 'solutions: %s \\n'%solutions\n",
    "        for sol in solutions:\n",
    "            result.append(sol) \n",
    "    result = pd.DataFrame(result, columns=['l','lambda','mu_1','mu_2','beta_1','beta_2','theta_1','theta_2','pi_1','pi_2'])\n",
    "    return result\n",
    "\n",
    "\n",
    "def m_plotter(game, ranger, scaler, args,v=False): \n",
    "    q0, l0, m20, b10, b20  = args \n",
    "    result = [] \n",
    "    for m in ranger:\n",
    "        m = m/scaler \n",
    "        if v: print 'l: %s, q: %s, m1: %s, m2: %s, b1: %s, b2: %s \\n'%(l0 ,q0, m, m20,  b10, b20)\n",
    "        solutions = game(l = l0 ,q = q0, m1 = m, m2 = m20, b1 = b10, b2 = b20)\n",
    "        if v: print '(unfiltered) solutions: %s \\n'%solutions\n",
    "        solutions = find_eq(solutions)\n",
    "        if v: print 'solutions: %s \\n'%solutions\n",
    "        for sol in solutions:\n",
    "            result.append(sol) \n",
    "    result = pd.DataFrame(result, columns=['l','lambda','mu_1','mu_2','beta_1','beta_2','theta_1','theta_2','pi_1','pi_2'])\n",
    "    return result"
   ]
  },
  {
   "cell_type": "code",
   "execution_count": 11,
   "metadata": {},
   "outputs": [],
   "source": [
    "def quick_plot(frame,ptype,fname):\n",
    "    #plot pi\n",
    "    fig = plt.figure()\n",
    "    fig.suptitle('pi  vs %s'%ptype)\n",
    "    plt.ylabel('pi(%s)'%ptype)\n",
    "    plt.xlabel(ptype)\n",
    "    plt.plot(frame[ptype] ,frame['pi_1'], 'ro')\n",
    "    plt.plot(frame[ptype] ,frame['pi_2'], 'bo')\n",
    "    fig.savefig('plots/%s_pi_%s'%(fname,ptype))\n",
    "    \n",
    "    #plot theta\n",
    "    fig = plt.figure()\n",
    "    fig.suptitle('theta  vs %s'%ptype)\n",
    "    plt.ylabel('theta(%s)'%ptype)\n",
    "    plt.xlabel(ptype)\n",
    "    plt.plot(frame[ptype] ,frame['theta_1'], 'ro')\n",
    "    plt.plot(frame[ptype] ,frame['theta_2'], 'bo')\n",
    "    fig.savefig('plots/%s_theta_%s'%(fname,ptype))"
   ]
  },
  {
   "cell_type": "code",
   "execution_count": 30,
   "metadata": {
    "scrolled": false
   },
   "outputs": [
    {
     "name": "stdout",
     "output_type": "stream",
     "text": [
      "      l  lambda  mu_1  mu_2  beta_1  beta_2              theta_1  \\\n",
      "0   1.0       1   0.5   0.5     0.5     0.5  -0.0703675169759929   \n",
      "1   1.0       1   0.5   0.5     0.5     0.5                    1   \n",
      "2   1.0       1   0.5   0.5     0.5     0.5    0.306623862918075   \n",
      "3   1.5       1   0.5   0.5     0.5     0.5   -0.145751311064591   \n",
      "4   1.5       1   0.5   0.5     0.5     0.5                  1.5   \n",
      "5   1.5       1   0.5   0.5     0.5     0.5    0.437253933193776   \n",
      "6   2.0       1   0.5   0.5     0.5     0.5   -0.239265962360449   \n",
      "7   2.0       1   0.5   0.5     0.5     0.5                    2   \n",
      "8   2.0       1   0.5   0.5     0.5     0.5    0.549834435270750   \n",
      "9   2.5       1   0.5   0.5     0.5     0.5   -0.346464004723152   \n",
      "10  2.5       1   0.5   0.5     0.5     0.5                  2.5   \n",
      "11  2.5       1   0.5   0.5     0.5     0.5    0.641428428542850   \n",
      "12  3.0       1   0.5   0.5     0.5     0.5   -0.464101615137755   \n",
      "13  3.0       1   0.5   0.5     0.5     0.5                    3   \n",
      "14  3.0       1   0.5   0.5     0.5     0.5    0.708203932499369   \n",
      "15  3.5       1   0.5   0.5     0.5     0.5   -0.589809223194882   \n",
      "16  3.5       1   0.5   0.5     0.5     0.5                  3.5   \n",
      "17  3.5       1   0.5   0.5     0.5     0.5    0.744997998398398   \n",
      "18  4.0       1   0.5   0.5     0.5     0.5   -0.721841686865480   \n",
      "19  4.0       1   0.5   0.5     0.5     0.5                    4   \n",
      "20  4.0       1   0.5   0.5     0.5     0.5    0.744562646538029   \n",
      "21  4.5       1   0.5   0.5     0.5     0.5   -0.858898943540674   \n",
      "22  4.5       1   0.5   0.5     0.5     0.5                  4.5   \n",
      "23  4.5       1   0.5   0.5     0.5     0.5    0.696152422706632   \n",
      "24  5.0       1   0.5   0.5     0.5     0.5    -1.00000000000000   \n",
      "25  5.0       1   0.5   0.5     0.5     0.5                    5   \n",
      "26  5.5       1   0.5   0.5     0.5     0.5    -1.14439484102269   \n",
      "27  5.5       1   0.5   0.5     0.5     0.5                  5.5   \n",
      "28  5.5       1   0.5   0.5     0.5     0.5    0.372983346207417   \n",
      "29  6.0       1   0.5   0.5     0.5     0.5    -1.29150262212918   \n",
      "30  6.0       1   0.5   0.5     0.5     0.5                    6   \n",
      "31  6.5       1   0.5   0.5     0.5     0.5    -1.44086794708691   \n",
      "32  6.5       1   0.5   0.5     0.5     0.5                  6.5   \n",
      "\n",
      "                theta_2                 pi_1                 pi_2  \n",
      "0                     1    0.920438429069628    0.206860084418966  \n",
      "1   -0.0703675169759929    0.206860084418966    0.920438429069628  \n",
      "2     0.306623862918075    0.500000000000000    0.500000000000000  \n",
      "3                   1.5     1.19905584690324    0.101888306193515  \n",
      "4    -0.145751311064591    0.101888306193515     1.19905584690324  \n",
      "5     0.437253933193769    0.499999999999998    0.500000000000002  \n",
      "6                     2     1.52499487913049   0.0321509042235207  \n",
      "7    -0.239265962360449   0.0321509042235207     1.52499487913049  \n",
      "8     0.549834435270750    0.500000000000000    0.500000000000000  \n",
      "9                   2.5     1.89895229769575  0.00130962788031401  \n",
      "10   -0.346464004723152  0.00130962788031401     1.89895229769575  \n",
      "11    0.641428428542850    0.500000000000000    0.500000000000000  \n",
      "12                    3     2.32136720504592   0.0119661282874151  \n",
      "13   -0.464101615137755   0.0119661282874151     2.32136720504592  \n",
      "14    0.708203932499369    0.500000000000000    0.500000000000000  \n",
      "15                  3.5     2.79252193451662   0.0659824523867018  \n",
      "16   -0.589809223194882   0.0659824523867018     2.79252193451662  \n",
      "17    0.744997998398399    0.500000000000000    0.500000000000000  \n",
      "18                    4     3.31260216872297    0.164707710812653  \n",
      "19   -0.721841686865480    0.164707710812653     3.31260216872297  \n",
      "20    0.744562646538029    0.500000000000000    0.500000000000000  \n",
      "21                  4.5     3.88173286379586    0.309133568102072  \n",
      "22   -0.858898943540674    0.309133568102072     3.88173286379586  \n",
      "23    0.696152422706632    0.500000000000000    0.500000000000000  \n",
      "24                    5     4.50000000000000    0.500000000000000  \n",
      "25    -1.00000000000000    0.500000000000000     4.50000000000000  \n",
      "26                  5.5     5.16746399164140    0.737867430959601  \n",
      "27    -1.14439484102269    0.737867430959601     5.16746399164140  \n",
      "28    0.372983346207417    0.500000000000000    0.500000000000000  \n",
      "29                    6     5.88416812340510     1.02316637531898  \n",
      "30    -1.29150262212918     1.02316637531898     5.88416812340510  \n",
      "31                  6.5     6.65014396864409     1.35623200391949  \n",
      "32    -1.44086794708691     1.35623200391949     6.65014396864409  \n"
     ]
    }
   ],
   "source": [
    "arg0 =  (1, .5,.5,.5,.5)\n",
    "simult1_l =  l_plotter(simult,range(10,70,5),10.0, arg0, v=False)\n",
    "\n",
    "print simult1_l"
   ]
  },
  {
   "cell_type": "code",
   "execution_count": 31,
   "metadata": {},
   "outputs": [
    {
     "data": {
      "image/png": "[encoded data removed]",
      "text/plain": [
       "<Figure size 432x288 with 1 Axes>"
      ]
     },
     "metadata": {},
     "output_type": "display_data"
    },
    {
     "data": {
      "image/png": "[encoded data removed]",
      "text/plain": [
       "<Figure size 432x288 with 1 Axes>"
      ]
     },
     "metadata": {},
     "output_type": "display_data"
    }
   ],
   "source": [
    "simult1_l.to_csv('sheets/simult1_l.csv', sep=',')\n",
    "quick_plot(simult1_l,'l','simult1')"
   ]
  },
  {
   "cell_type": "code",
   "execution_count": 32,
   "metadata": {},
   "outputs": [
    {
     "name": "stdout",
     "output_type": "stream",
     "text": [
      "      l  lambda  mu_1  mu_2  beta_1  beta_2             theta_1  \\\n",
      "0   4.6       1   0.5   0.5     0.5     0.5  -0.886822521133540   \n",
      "1   4.6       1   0.5   0.5     0.5     0.5                 4.6   \n",
      "2   4.6       1   0.5   0.5     0.5     0.5   0.679370039680118   \n",
      "3   4.8       1   0.5   0.5     0.5     0.5  -0.943126676640219   \n",
      "4   4.8       1   0.5   0.5     0.5     0.5                 4.8   \n",
      "5   4.8       1   0.5   0.5     0.5     0.5   0.637354648979130   \n",
      "6   5.0       1   0.5   0.5     0.5     0.5   -1.00000000000000   \n",
      "7   5.0       1   0.5   0.5     0.5     0.5                   5   \n",
      "8   5.2       1   0.5   0.5     0.5     0.5   -1.05739845952578   \n",
      "9   5.2       1   0.5   0.5     0.5     0.5                 5.2   \n",
      "10  5.2       1   0.5   0.5     0.5     0.5   0.512771730569565   \n",
      "11  5.4       1   0.5   0.5     0.5     0.5   -1.11528229097780   \n",
      "12  5.4       1   0.5   0.5     0.5     0.5                 5.4   \n",
      "13  5.4       1   0.5   0.5     0.5     0.5   0.424922359499621   \n",
      "14  5.6       1   0.5   0.5     0.5     0.5   -1.17361551238288   \n",
      "15  5.6       1   0.5   0.5     0.5     0.5                 5.6   \n",
      "16  5.6       1   0.5   0.5     0.5     0.5   0.314835124201342   \n",
      "17  5.8       1   0.5   0.5     0.5     0.5   -1.23236550074947   \n",
      "18  5.8       1   0.5   0.5     0.5     0.5                 5.8   \n",
      "19  5.8       1   0.5   0.5     0.5     0.5   0.176388603226826   \n",
      "20  6.0       1   0.5   0.5     0.5     0.5   -1.29150262212918   \n",
      "21  6.0       1   0.5   0.5     0.5     0.5                   6   \n",
      "22  6.2       1   0.5   0.5     0.5     0.5   -1.35099990770935   \n",
      "23  6.2       1   0.5   0.5     0.5     0.5                 6.2   \n",
      "\n",
      "               theta_2               pi_1               pi_2  \n",
      "0                  4.6   4.00145313917886  0.343571458423165  \n",
      "1   -0.886822521133540  0.343571458423165   4.00145313917886  \n",
      "2    0.679370039680117  0.500000000000000  0.500000000000000  \n",
      "3                  4.8   4.24679244909877  0.418041331338623  \n",
      "4   -0.943126676640219  0.418041331338623   4.24679244909877  \n",
      "5    0.637354648979130  0.500000000000000  0.500000000000000  \n",
      "6                    5   4.50000000000000  0.500000000000000  \n",
      "7    -1.00000000000000  0.500000000000000   4.50000000000000  \n",
      "8                  5.2   4.76107923546835  0.589480262451163  \n",
      "9    -1.05739845952578  0.589480262451163   4.76107923546835  \n",
      "10   0.512771730569565  0.500000000000000  0.500000000000000  \n",
      "11                 5.4   5.03003317094421  0.686511643625675  \n",
      "12   -1.11528229097780  0.686511643625675   5.03003317094421  \n",
      "13   0.424922359499621  0.500000000000000  0.500000000000000  \n",
      "14                 5.6   5.30686445466063  0.791120779738706  \n",
      "15   -1.17361551238288  0.791120779738706   5.30686445466063  \n",
      "16   0.314835124201342  0.500000000000000  0.500000000000000  \n",
      "17                 5.8   5.59157541892379  0.903331751757474  \n",
      "18   -1.23236550074947  0.903331751757474   5.59157541892379  \n",
      "19   0.176388603226826  0.500000000000000  0.500000000000000  \n",
      "20                   6   5.88416812340510   1.02316637531898  \n",
      "21   -1.29150262212918   1.02316637531898   5.88416812340510  \n",
      "22                 6.2   6.18464439180459   1.15064445333169  \n",
      "23   -1.35099990770935   1.15064445333169   6.18464439180459  \n"
     ]
    }
   ],
   "source": [
    "arg0 =  (1, .5,.5,.5,.5)\n",
    "simult2_l =  l_plotter(simult,range(46,64,2),10.0, arg0, v=False)\n",
    "\n",
    "print simult2_l"
   ]
  },
  {
   "cell_type": "code",
   "execution_count": 33,
   "metadata": {
    "scrolled": false
   },
   "outputs": [
    {
     "data": {
      "image/png": "[encoded data removed]",
      "text/plain": [
       "<Figure size 432x288 with 1 Axes>"
      ]
     },
     "metadata": {},
     "output_type": "display_data"
    },
    {
     "data": {
      "image/png": "[encoded data removed]",
      "text/plain": [
       "<Figure size 432x288 with 1 Axes>"
      ]
     },
     "metadata": {},
     "output_type": "display_data"
    }
   ],
   "source": [
    "simult2_l.to_csv('sheets/simult2_l.csv', sep=',')\n",
    "quick_plot(simult2_l,'l','simult2')"
   ]
  },
  {
   "cell_type": "code",
   "execution_count": 44,
   "metadata": {},
   "outputs": [
    {
     "name": "stdout",
     "output_type": "stream",
     "text": [
      "    l  lambda  mu_1  mu_2  beta_1  beta_2              theta_1  \\\n",
      "0   1     1.0   0.5   0.5     0.5     0.5  -0.0703675169759929   \n",
      "1   1     1.0   0.5   0.5     0.5     0.5                    1   \n",
      "2   1     1.0   0.5   0.5     0.5     0.5    0.306623862918075   \n",
      "3   1     1.5   0.5   0.5     0.5     0.5  -0.0496305216974065   \n",
      "4   1     1.5   0.5   0.5     0.5     0.5                    1   \n",
      "5   1     1.5   0.5   0.5     0.5     0.5    0.316005617976297   \n",
      "6   1     2.0   0.5   0.5     0.5     0.5  -0.0382923495346671   \n",
      "7   1     2.0   0.5   0.5     0.5     0.5                    1   \n",
      "8   1     2.0   0.5   0.5     0.5     0.5    0.320508075688773   \n",
      "9   1     2.5   0.5   0.5     0.5     0.5  -0.0311589798103604   \n",
      "10  1     2.5   0.5   0.5     0.5     0.5                    1   \n",
      "11  1     2.5   0.5   0.5     0.5     0.5    0.323152842795195   \n",
      "12  1     3.0   0.5   0.5     0.5     0.5  -0.0262613427796377   \n",
      "13  1     3.0   0.5   0.5     0.5     0.5                    1   \n",
      "14  1     3.0   0.5   0.5     0.5     0.5    0.324893162176366   \n",
      "15  1     3.5   0.5   0.5     0.5     0.5  -0.0226921635713036   \n",
      "16  1     3.5   0.5   0.5     0.5     0.5                    1   \n",
      "17  1     3.5   0.5   0.5     0.5     0.5    0.326125283596704   \n",
      "18  1     4.0   0.5   0.5     0.5     0.5  -0.0199760574277785   \n",
      "19  1     4.0   0.5   0.5     0.5     0.5                    1   \n",
      "20  1     4.0   0.5   0.5     0.5     0.5    0.327043465311387   \n",
      "21  1     4.5   0.5   0.5     0.5     0.5  -0.0178400927370251   \n",
      "22  1     4.5   0.5   0.5     0.5     0.5                    1   \n",
      "23  1     4.5   0.5   0.5     0.5     0.5    0.327754142055261   \n",
      "24  1     5.0   0.5   0.5     0.5     0.5  -0.0161164641733492   \n",
      "25  1     5.0   0.5   0.5     0.5     0.5                    1   \n",
      "26  1     5.0   0.5   0.5     0.5     0.5    0.328320518603003   \n",
      "27  1     5.5   0.5   0.5     0.5     0.5  -0.0146963536994679   \n",
      "28  1     5.5   0.5   0.5     0.5     0.5                    1   \n",
      "29  1     5.5   0.5   0.5     0.5     0.5    0.328782495573244   \n",
      "30  1     6.0   0.5   0.5     0.5     0.5  -0.0135061183014228   \n",
      "31  1     6.0   0.5   0.5     0.5     0.5                    1   \n",
      "32  1     6.0   0.5   0.5     0.5     0.5    0.329166503893533   \n",
      "33  1     6.5   0.5   0.5     0.5     0.5  -0.0124941461117352   \n",
      "34  1     6.5   0.5   0.5     0.5     0.5                    1   \n",
      "35  1     6.5   0.5   0.5     0.5     0.5    0.329490746504071   \n",
      "\n",
      "                theta_2               pi_1               pi_2  \n",
      "0                     1  0.920438429069628  0.206860084418966  \n",
      "1   -0.0703675169759929  0.206860084418966  0.920438429069628  \n",
      "2     0.306623862918075  0.500000000000000  0.500000000000000  \n",
      "3                     1   1.14068144175390  0.440927760622300  \n",
      "4   -0.0496305216974065  0.440927760622300   1.14068144175390  \n",
      "5     0.316005617976297  0.750000000000000  0.750000000000000  \n",
      "6                     1   1.37604331104217  0.683848411352395  \n",
      "7   -0.0382923495346671  0.683848411352395   1.37604331104217  \n",
      "8     0.320508075688773   1.00000000000000   1.00000000000000  \n",
      "9                     1   1.61734830086220  0.929908980988625  \n",
      "10  -0.0311589798103604  0.929908980988625   1.61734830086220  \n",
      "11    0.323152842795195   1.25000000000000   1.25000000000000  \n",
      "12                    1   1.86159104655032   1.17741681803056  \n",
      "13  -0.0262613427796377   1.17741681803056   1.86159104655032  \n",
      "14    0.324893162176367   1.50000000000000   1.50000000000000  \n",
      "15                    1   2.10749896343536   1.42570418772116  \n",
      "16  -0.0226921635713036   1.42570418772116   2.10749896343536  \n",
      "17    0.326125283596705   1.75000000000000   1.75000000000000  \n",
      "18                    1   2.35444134077767   1.67445730249249  \n",
      "19  -0.0199760574277785   1.67445730249249   2.35444134077767  \n",
      "20    0.327043465311387   2.00000000000000   2.00000000000000  \n",
      "21                    1   2.60207013528744   1.92351007346276  \n",
      "22  -0.0178400927370251   1.92351007346276   2.60207013528744  \n",
      "23    0.327754142055262   2.25000000000000   2.25000000000000  \n",
      "24                    1   2.85017762882183   2.17276665270626  \n",
      "25  -0.0161164641733492   2.17276665270626   2.85017762882183  \n",
      "26    0.328320518603004   2.50000000000000   2.50000000000000  \n",
      "27                    1   3.09863220567973   2.42216796988009  \n",
      "28  -0.0146963536994679   2.42216796988009   3.09863220567973  \n",
      "29    0.328782495573245   2.75000000000000   2.75000000000000  \n",
      "30                    1   3.34734643435820   2.67167568882392  \n",
      "31  -0.0135061183014228   2.67167568882392   3.34734643435820  \n",
      "32    0.329166503893534   3.00000000000000   3.00000000000000  \n",
      "33                    1   3.59625996661768   2.92126386920985  \n",
      "34  -0.0124941461117352   2.92126386920985   3.59625996661768  \n",
      "35    0.329490746504071   3.25000000000000   3.25000000000000  \n"
     ]
    }
   ],
   "source": [
    "arg0 =  (1, .5,.5,.5,.5)\n",
    "simult1_q =  q_plotter(simult,range(10,70,5),10.0, arg0)\n",
    "\n",
    "print simult1_q"
   ]
  },
  {
   "cell_type": "code",
   "execution_count": 45,
   "metadata": {},
   "outputs": [
    {
     "data": {
      "image/png": "[encoded data removed]",
      "text/plain": [
       "<Figure size 432x288 with 1 Axes>"
      ]
     },
     "metadata": {},
     "output_type": "display_data"
    },
    {
     "data": {
      "image/png": "[encoded data removed]",
      "text/plain": [
       "<Figure size 432x288 with 1 Axes>"
      ]
     },
     "metadata": {},
     "output_type": "display_data"
    }
   ],
   "source": [
    "simult1_q.to_csv('sheets/simult1_lambda.csv', sep=',')\n",
    "quick_plot(simult1_q,'lambda','simult1')"
   ]
  },
  {
   "cell_type": "code",
   "execution_count": 36,
   "metadata": {},
   "outputs": [
    {
     "name": "stdout",
     "output_type": "stream",
     "text": [
      "    l  lambda  mu_1  mu_2  beta_1  beta_2              theta_1  \\\n",
      "0   1       1   0.1   0.5     0.5     0.5    -2.46410161513775   \n",
      "1   1       1   0.1   0.5     0.5     0.5                    1   \n",
      "2   1       1   0.2   0.5     0.5     0.5   -0.940552829515540   \n",
      "3   1       1   0.2   0.5     0.5     0.5                    1   \n",
      "4   1       1   0.3   0.5     0.5     0.5   -0.451680576593510   \n",
      "5   1       1   0.3   0.5     0.5     0.5                    1   \n",
      "6   1       1   0.4   0.5     0.5     0.5   -0.212214450449026   \n",
      "7   1       1   0.4   0.5     0.5     0.5                    1   \n",
      "8   1       1   0.5   0.5     0.5     0.5  -0.0703675169759929   \n",
      "9   1       1   0.5   0.5     0.5     0.5                    1   \n",
      "10  1       1   0.5   0.5     0.5     0.5    0.306623862918075   \n",
      "11  1       1   0.6   0.5     0.5     0.5   0.0233701271062479   \n",
      "12  1       1   0.6   0.5     0.5     0.5                    1   \n",
      "13  1       1   0.7   0.5     0.5     0.5   0.0898992080364429   \n",
      "14  1       1   0.7   0.5     0.5     0.5                    1   \n",
      "15  1       1   0.8   0.5     0.5     0.5    0.139554320337246   \n",
      "16  1       1   0.8   0.5     0.5     0.5                    1   \n",
      "17  1       1   0.9   0.5     0.5     0.5    0.178027880671672   \n",
      "18  1       1   0.9   0.5     0.5     0.5                    1   \n",
      "\n",
      "                theta_2               pi_1                pi_2  \n",
      "0                     1   2.32136720504592  0.0119661282874151  \n",
      "1     0.372894254867991  0.312812619154751   0.730883115909424  \n",
      "2                     1   1.35605901451300  0.0623571281693072  \n",
      "3     0.263727395926773  0.284692317948300   0.775540720663785  \n",
      "4                     1   1.10096999755666   0.133182946494323  \n",
      "5     0.153419790280337  0.257623155176167   0.822009961655943  \n",
      "6                     1  0.985708365365089   0.177565398399071  \n",
      "7    0.0420347754896808  0.231661445794955   0.870304928801835  \n",
      "8                     1  0.920438429069628   0.206860084418966  \n",
      "9   -0.0703675169759929  0.206860084418966   0.920438429069628  \n",
      "10    0.306623862918075  0.500000000000000   0.500000000000000  \n",
      "11                    1  0.878532508110610   0.227445926181442  \n",
      "12   -0.183730126598547  0.183268680723652   0.972422098456016  \n",
      "13                    1  0.849382677961891   0.242648816652853  \n",
      "14   -0.297999199359359  0.160933706965632    1.02626650653854  \n",
      "15                    1  0.827946713645935   0.254316260537432  \n",
      "16   -0.413123900637904  0.139898653040370    1.08198125346564  \n",
      "17                    1  0.811526160051282   0.263544747165730  \n",
      "18   -0.529056311190905  0.120204185313739    1.13957505944101  \n"
     ]
    }
   ],
   "source": [
    "arg0 =  (1,1,.5,.5,.5)\n",
    "\n",
    "simult1_m =  m_plotter(simult,range(1,10,1),10.0, arg0, v=False)\n",
    "\n",
    "print simult1_m"
   ]
  },
  {
   "cell_type": "code",
   "execution_count": 37,
   "metadata": {},
   "outputs": [
    {
     "data": {
      "image/png": "[encoded data removed]",
      "text/plain": [
       "<Figure size 432x288 with 1 Axes>"
      ]
     },
     "metadata": {},
     "output_type": "display_data"
    },
    {
     "data": {
      "image/png": "[encoded data removed]",
      "text/plain": [
       "<Figure size 432x288 with 1 Axes>"
      ]
     },
     "metadata": {},
     "output_type": "display_data"
    }
   ],
   "source": [
    "simult1_m.to_csv('sheets/simult1_mu.csv', sep=',')\n",
    "quick_plot(simult1_m,'mu_1','simult1')"
   ]
  },
  {
   "cell_type": "code",
   "execution_count": 44,
   "metadata": {},
   "outputs": [
    {
     "name": "stdout",
     "output_type": "stream",
     "text": [
      "     l  lambda  mu_1  mu_2  beta_1  beta_2               theta_1  \\\n",
      "0  1.0       1   0.5   0.5     0.5     0.5    -0.147145085939096   \n",
      "1  1.5       1   0.5   0.5     0.5     0.5    -0.303681583792988   \n",
      "2  2.0       1   0.5   0.5     0.5     0.5    -0.359215633855141   \n",
      "3  2.5       1   0.5   0.5     0.5     0.5    -0.208499119565499   \n",
      "4  3.0       1   0.5   0.5     0.5     0.5  -0.00767298650952219   \n",
      "5  3.5       1   0.5   0.5     0.5     0.5     0.164467717556068   \n",
      "6  4.0       1   0.5   0.5     0.5     0.5     0.274604201843384   \n",
      "7  4.5       1   0.5   0.5     0.5     0.5     0.286299647846891   \n",
      "\n",
      "             theta_2               pi_1               pi_2  \n",
      "0  0.551742350534693  0.760098237094646  0.294173279445454  \n",
      "1  0.843719132692198  0.955607372394546  0.190673561404422  \n",
      "2   1.03452905142967   1.07249957552603  0.143336452002822  \n",
      "3   1.05320543701854   1.00900698486718  0.167870613811149  \n",
      "4   1.00254779931311  0.893437263946880  0.219956740065129  \n",
      "5  0.928394744341327  0.787063703498029  0.277779018974523  \n",
      "6  0.836523557160442  0.704848305210127  0.330235401665422  \n",
      "7  0.713700352153109  0.652615310437709  0.367681507566897  \n"
     ]
    }
   ],
   "source": [
    "arg0 =  (1, .5,.5,.5,.5)\n",
    "seq1_l =  l_plotter(seq,range(10,70,5),10.0, arg0)\n",
    "\n",
    "print seq1_l"
   ]
  },
  {
   "cell_type": "code",
   "execution_count": 45,
   "metadata": {},
   "outputs": [
    {
     "data": {
      "image/png": "[encoded data removed]",
      "text/plain": [
       "<Figure size 432x288 with 1 Axes>"
      ]
     },
     "metadata": {},
     "output_type": "display_data"
    },
    {
     "data": {
      "image/png": "[encoded data removed]",
      "text/plain": [
       "<Figure size 432x288 with 1 Axes>"
      ]
     },
     "metadata": {},
     "output_type": "display_data"
    }
   ],
   "source": [
    "seq1_l.to_csv('sheets/seq1_l.csv', sep=',')\n",
    "quick_plot(seq1_l,'l','seq1')"
   ]
  },
  {
   "cell_type": "code",
   "execution_count": 46,
   "metadata": {},
   "outputs": [
    {
     "name": "stdout",
     "output_type": "stream",
     "text": [
      "   l  lambda  mu_1  mu_2  beta_1  beta_2              theta_1  \\\n",
      "0  1     1.0   0.5   0.5     0.5     0.5   -0.147145085939096   \n",
      "1  1     1.5   0.5   0.5     0.5     0.5  -0.0982007977889851   \n",
      "2  1     2.0   0.5   0.5     0.5     0.5  -0.0730407292674440   \n",
      "3  1     2.5   0.5   0.5     0.5     0.5  -0.0580104823845639   \n",
      "4  1     3.0   0.5   0.5     0.5     0.5  -0.0480677795584796   \n",
      "5  1     3.5   0.5   0.5     0.5     0.5  -0.0410175465106055   \n",
      "6  1     4.0   0.5   0.5     0.5     0.5  -0.0357629749259386   \n",
      "7  1     4.5   0.5   0.5     0.5     0.5  -0.0316976969554445   \n",
      "\n",
      "             theta_2               pi_1               pi_2  \n",
      "0  0.551742350534693  0.760098237094646  0.294173279445454  \n",
      "1  0.535128048882948  0.975965372150896  0.553746141036274  \n",
      "2  0.526125823816034   1.20969442209266  0.810250053370339  \n",
      "3  0.520707601908623   1.45034857523302   1.06453651903756  \n",
      "4  0.517122937508138   1.69431247136773   1.31751865998998  \n",
      "5  0.514585146804239   1.94010080813382   1.56969901259059  \n",
      "6  0.512697384572503   2.18699801935977   1.82135777969415  \n",
      "7  0.511239650277037   2.43461838689255   2.07266015540423  \n"
     ]
    }
   ],
   "source": [
    "arg0 =  (1, .5,.5,.5,.5)\n",
    "seq1_q =  q_plotter(seq,range(10,50,5),10.0, arg0)\n",
    "\n",
    "print seq1_q"
   ]
  },
  {
   "cell_type": "code",
   "execution_count": 47,
   "metadata": {},
   "outputs": [
    {
     "data": {
      "image/png": "[encoded data removed]",
      "text/plain": [
       "<Figure size 432x288 with 1 Axes>"
      ]
     },
     "metadata": {},
     "output_type": "display_data"
    },
    {
     "data": {
      "image/png": "[encoded data removed]",
      "text/plain": [
       "<Figure size 432x288 with 1 Axes>"
      ]
     },
     "metadata": {},
     "output_type": "display_data"
    }
   ],
   "source": [
    "seq1_q.to_csv('sheets/seq1_lambda.csv', sep=',')\n",
    "quick_plot(seq1_q,'lambda','seq1')"
   ]
  },
  {
   "cell_type": "code",
   "execution_count": 48,
   "metadata": {},
   "outputs": [
    {
     "name": "stdout",
     "output_type": "stream",
     "text": [
      "   l  lambda  mu_1  mu_2  beta_1  beta_2              theta_1  \\\n",
      "0  1       1   0.0   0.5     0.5     0.5    -1.75600605693336   \n",
      "1  1       1   0.1   0.5     0.5     0.5    -1.58958798717453   \n",
      "2  1       1   0.2   0.5     0.5     0.5   -0.983282193446326   \n",
      "3  1       1   0.3   0.5     0.5     0.5   -0.523221520527885   \n",
      "4  1       1   0.4   0.5     0.5     0.5   -0.286797175242155   \n",
      "5  1       1   0.5   0.5     0.5     0.5   -0.147145085939096   \n",
      "6  1       1   0.6   0.5     0.5     0.5  -0.0563052106391731   \n",
      "7  1       1   0.7   0.5     0.5     0.5  0.00657996685665731   \n",
      "8  1       1   0.8   0.5     0.5     0.5   0.0519405652404193   \n",
      "9  1       1   0.9   0.5     0.5     0.5   0.0855520048409346   \n",
      "\n",
      "             theta_2               pi_1                pi_2  \n",
      "0  0.391389666972949   1.47198237436050  0.0403852250896252  \n",
      "1  0.611779703671495   1.50301254752094  0.0354340869569231  \n",
      "2  0.677210259201363   1.20667721673256  0.0996822483007668  \n",
      "3  0.639261554462250  0.962570297198852   0.187581580538762  \n",
      "4  0.595393936231855  0.837300434778212   0.249173027128871  \n",
      "5  0.551742350534693  0.760098237094646   0.294173279445454  \n",
      "6  0.509031210519341  0.706201322002189   0.329310374563180  \n",
      "7  0.467472223344216  0.665431956167530   0.358170451842491  \n",
      "8  0.427196516822570  0.632908485482818   0.382737851094718  \n",
      "9  0.388324336111670  0.606016948455974   0.404168727608817  \n"
     ]
    }
   ],
   "source": [
    "arg0 =  (1,1,.5,.5,.5)\n",
    "seq1_m =  m_plotter(seq,range(0,10,1),10.0, arg0)\n",
    "\n",
    "print seq1_m"
   ]
  },
  {
   "cell_type": "code",
   "execution_count": 49,
   "metadata": {},
   "outputs": [
    {
     "data": {
      "image/png": "[encoded data removed]",
      "text/plain": [
       "<Figure size 432x288 with 1 Axes>"
      ]
     },
     "metadata": {},
     "output_type": "display_data"
    },
    {
     "data": {
      "image/png": "[encoded data removed]",
      "text/plain": [
       "<Figure size 432x288 with 1 Axes>"
      ]
     },
     "metadata": {},
     "output_type": "display_data"
    }
   ],
   "source": [
    "seq1_m.to_csv('sheets/seq1_mu.csv', sep=',')\n",
    "quick_plot(seq1_m,'mu_1','seq1')"
   ]
  },
  {
   "cell_type": "code",
   "execution_count": null,
   "metadata": {},
   "outputs": [],
   "source": []
  }
 ],
 "metadata": {
  "kernelspec": {
   "display_name": "Python 2",
   "language": "python",
   "name": "python2"
  },
  "language_info": {
   "codemirror_mode": {
    "name": "ipython",
    "version": 2
   },
   "file_extension": ".py",
   "mimetype": "text/x-python",
   "name": "python",
   "nbconvert_exporter": "python",
   "pygments_lexer": "ipython2",
   "version": "2.7.15"
  }
 },
 "nbformat": 4,
 "nbformat_minor": 2
}
