{
 "cells": [
  {
   "cell_type": "code",
   "execution_count": 2,
   "metadata": {},
   "outputs": [],
   "source": [
    "from sympy import *\n",
    "from matplotlib import pyplot as plt\n",
    "import pandas as pd"
   ]
  },
  {
   "cell_type": "code",
   "execution_count": 25,
   "metadata": {},
   "outputs": [
    {
     "name": "stdout",
     "output_type": "stream",
     "text": [
      "p1: 1.09 , p2: 1.32, diff: 0.23\n",
      "p1: 1.28666666667 , p2: 1.64333333333, diff: 0.356666666667\n"
     ]
    }
   ],
   "source": [
    "def calc_prices():\n",
    "    #need to implement with arguments and stuff\n",
    "    for t1,t2 in [(-.14,.55),(-.07,1)]:\n",
    "        p1 = (2*t1 + t2) / 3 + 1\n",
    "        p2 = (2*t2 + t1) / 3 + 1\n",
    "        print 'p1: %s , p2: %s, diff: %s'%(p1,p2, p2-p1)\n",
    "\n",
    "        \n",
    "calc_prices()"
   ]
  },
  {
   "cell_type": "code",
   "execution_count": 26,
   "metadata": {},
   "outputs": [],
   "source": [
    "#still in progress, need to compare nash bargaining objectives to each other. \n",
    "#make sure to check that they are not equal. maximum will not be strictly less than its self?\n",
    "\n",
    "def find_eq(candidates,simult=True,v=False):\n",
    "    solutions = []\n",
    "    if len(candidates) == 1:\n",
    "        return candidates\n",
    "    for sol_0 in candidates:\n",
    "        l_0,q_0,m1_0,m2_0,b1_0,b2_0,t1_0,t2_0,pi1_0,pi2_0 = sol_0\n",
    "        \n",
    "        pi1_l0 = S(.5)*( (t2_0-l_0)/S(3) +q_0)*(1 + (t2_0-l_0)/(S(3)*q_0) )\n",
    "        pi2_l0 = S(.5)*( (t1_0-l_0)/S(3) +q_0)*(1 + (t1_0-l_0)/(S(3)*q_0) )\n",
    "\n",
    "        v1_0 = (pi1_0 - pi1_l0)**(b1_0) * (m1_0*t1_0 +m2_0*t2_0)**(1-b1_0)\n",
    "        v2_0 = (pi2_0 - pi2_l0)**(b2_0) * (m1_0*t1_0 +m2_0*t2_0)**(1-b2_0)\n",
    "        if v: print 'pi1_l0: %s, pi2_l0: %s, pi1_0: %s, pi2_0: %s, v1_0: %s, v2_0: %s, t1_0: %s, t2_0: %s, \\n'%(\n",
    "            pi1_l0,pi2_l0,pi1_0,pi2_0,v1_0,v2_0,t1_0,t2_0)\n",
    "        nash = True\n",
    "        for sol in candidates:\n",
    "            l,q,m1,m2,b1,b2,t1,t2,pi1,pi2 = sol  \n",
    "            pi1_l = S(.5)*( (t2-l)/S(3) +q) *(1 + (t2-l)/(S(3)*q) )\n",
    "            pi2_l = S(.5)*( (t1-l)/S(3) +q) *(1 + (t1-l)/(S(3)*q) )\n",
    "                \n",
    "            #nash bargaining objectives - non candidate\n",
    "            v1 = (pi1 - pi1_l )**(b1) * (m1*t1 +m2*t2)**(1-b1)\n",
    "            v2 = (pi2 - pi2_l )**(b2) * (m1*t1 +m2*t2)**(1-b2)\n",
    "            v0_real =  v1_0.is_real and v2_0.is_real\n",
    "            v_real =  v2.is_real and v1.is_real\n",
    "            if v: print 'pi1: %s, pi2: %s, v1: %s, v2: %s , t1: %s, t2:%s \\n'%(pi1, pi2, v1,v2,t1,t2)\n",
    "            \n",
    "            #solution depends on type of problem?\n",
    "            if simult:\n",
    "                nash = nash and v0_real and (not v_real or v1 < v1_0 or v2 <v2_0 or (v1 == v1_0 and v2 == v2_0))  \n",
    "            else:\n",
    "                nash = nash and v0_real and (not v_real or v1 < v1_0 or (v1 == v1_0 and v2 <= v2_0))\n",
    "        if nash: \n",
    "            solutions.append(sol_0)\n",
    "    return solutions"
   ]
  },
  {
   "cell_type": "code",
   "execution_count": 27,
   "metadata": {},
   "outputs": [
    {
     "name": "stdout",
     "output_type": "stream",
     "text": [
      "[(1, 1, 0.5, 0.5, 0.5, 0.5, -0.147145085939096, 0.551742350534693, 0.760098237094646, 0.294173279445454)]\n",
      "[(1, 1, 0.5, 0.5, 0.5, 0.5, -0.0703675169759928, 1, 0.920438429069628, 0.206860084418966)]\n"
     ]
    }
   ],
   "source": [
    "def inter_seq(t1,t2,h1_list,v2_foc,\n",
    "                 l,q,m1,m2,b1,b2,pi1,pi2,v):\n",
    "    solutions = []\n",
    "    \n",
    "    for h1 in h1_list:\n",
    "        #susbitute h1 for t2, then substitute l into the second term for t1\n",
    "        h1 = simplify(h1)\n",
    "        pi1_h = pi1.subs(t2,h1)\n",
    "        pi1_l = pi1_h.subs(t1,l)\n",
    "        v1 = (pi1.subs(t2,h1) - pi1_l ) * (m1*t1 + m2*h1)\n",
    "        v1_foc = diff(v1,t1)\n",
    "        \n",
    "        if v: print 'solving t1_foc ...'\n",
    "        t1_sol = solve(v1_foc,t1,rational=False,force=True)\n",
    "        t1_sol = [t1_cand for t1_cand in t1_sol if t1_cand.is_real]\n",
    "        if v: print 't1_sol: %s\\n'%t1_sol\n",
    "        \n",
    "        for t1_param in t1_sol:\n",
    "            t2_param = h1.subs(t1,t1_param) \n",
    "            pi1_param = pi1.subs({t1:t1_param, t2:t2_param})\n",
    "            pi2_param = pi2.subs({t1:t1_param, t2:t2_param})\n",
    "            solutions.append((l,q,m1,m2,b1,b2,t1_param,t2_param,pi1_param,pi2_param))\n",
    "    return solutions\n",
    "\n",
    "\n",
    "def corner_seq(t1,t2, h1_list,v2_foc,\n",
    "                  l,q,m1,m2,b1,b2,pi1,pi2,v):\n",
    "    solutions = [(l,q,m1,m2,b1,b2,l,l,.5*q,.5*q)]\n",
    "    #case 1: t1 = l\n",
    "    for h1 in h1_list:\n",
    "        t2_param = h1.subs(t1,l)\n",
    "        pi1_param2 = S(.5)*( (t2_param-l)/S(3) +q) *(1 + (t2_param-l)/(S(3)*q) )\n",
    "        pi2_param2 = S(.5)*( (l-t2_param)/S(3) +q) *(1 + (l-t2_param)/(S(3)*q) )\n",
    "        solutions.append((l,q,m1,m2,b1,b2,l,t2_param,pi1_param2,pi2_param2))\n",
    "    \n",
    "    #case 2: h1 = t2 = l:\n",
    "    pi1_h = pi1.subs(t2,l)\n",
    "    pi1_l = pi1_h.subs(t1,l)\n",
    "    v1 = (pi1.subs(t2,l) - pi1_l ) * (m1*t1 + m2*l)\n",
    "    v1_foc = diff(v1,t1)\n",
    "    \n",
    "    if v: print 'solving t1_foc ...'\n",
    "    t1_sol = solve(v1_foc,t1,rational=False,force=True)\n",
    "    t1_sol = [t1_cand for t1_cand in t1_sol if t1_cand.is_real]\n",
    "    if v: print 't1_sol: %s\\n'%t1_sol\n",
    "    \n",
    "    for t1_param in t1_sol:\n",
    "        pi1_param1 = S(.5)*( (l-t1_param)/S(3) +q) *(1 + (l-t1_param)/(S(3)*q) )\n",
    "        pi2_param1 = S(.5)*( (t1_param-l)/S(3) +q) *(1 + (t1_param-l)/(S(3)*q) )\n",
    "        solutions.append((l,q,m1,m2,b1,b2,t1_param,l,pi1_param1,pi2_param1))\n",
    "        \n",
    "    return solutions\n",
    "    \n",
    "    \n",
    "def seq(t1=Symbol('t_1'),\n",
    "           t2=Symbol('t_2'),\n",
    "           l=Symbol('l'),\n",
    "           q=Symbol('q'),\n",
    "           m1=Symbol('m_1'),\n",
    "           m2=Symbol('m_2'),\n",
    "           b1=Symbol('b_1'),\n",
    "           b2=Symbol('b_2'), v=False, inter=True,corner=True):   \n",
    "    #profits\n",
    "    pi1 = .5*( (t2-t1)/3 +q)*(1 + (t2-t1)/(3*q) )\n",
    "    pi2 = .5*( (t1-t2)/3 +q)*(1 + (t1-t2)/(3*q) )\n",
    "\n",
    "    #use SPE/backward induction to solve game\n",
    "    v2 = (pi2 - pi2.subs(t2,l) )**(b2) * (m1*t1 +m2*t2)**(1-b2)\n",
    "    v2_foc = diff(v2,t2)\n",
    "    \n",
    "    h1_list = solve(v2_foc,t2,force=True)\n",
    "    if v: print 'h1_list: %s\\n'%h1_list\n",
    "    \n",
    "    solutions = []\n",
    "    #edge cases\n",
    "    if corner:\n",
    "        corner_solutions = corner_seq(t1,t2, h1_list, v2_foc,\n",
    "                                     l,q,m1,m2,b1,b2,pi1,pi2,v)\n",
    "        for sol in  corner_solutions:\n",
    "            solutions.append(sol)\n",
    "    #interior cases:\n",
    "    if inter:\n",
    "        int_solutions = inter_seq(t1,t2, h1_list, v2_foc,\n",
    "                                 l,q,m1,m2,b1,b2,pi1,pi2,v)\n",
    "        for sol in int_solutions:\n",
    "            solutions.append(sol)        \n",
    "    return solutions\n",
    "\n",
    "test_seq1 = seq(l = 1, q = 1, m1 = .5, m2 = .5, b1 = .5, b2 = .5, v=False,inter=True,corner=False)\n",
    "test_seq2 = seq(l = 1, q = 1, m1 = .5, m2 = .5, b1 = .5, b2 = .5, v=False,inter=False,corner=True)\n",
    "print find_eq(test_seq1,simult=False)\n",
    "print find_eq(test_seq2,simult=False)\n",
    "#print find_eq(test_seq1+test_seq2,simult=False)"
   ]
  },
  {
   "cell_type": "code",
   "execution_count": 12,
   "metadata": {},
   "outputs": [
    {
     "name": "stdout",
     "output_type": "stream",
     "text": [
      "[(6.2, 1, 0.5, 0.5, 0.5, 0.5, 6.2, 6.2, 0.5, 0.5), (6.2, 1, 0.5, 0.5, 0.5, 0.5, -1.35099990770935, 6.2, 6.18464439180459, 1.15064445333169), (6.2, 1, 0.5, 0.5, 0.5, 0.5, 9.48433324104268, 6.2, 0.00449141066454633, 2.19404690469300), (6.2, 1, 0.5, 0.5, 0.5, 0.5, 6.2, -1.35099990770935, 1.15064445333169, 6.18464439180459), (6.2, 1, 0.5, 0.5, 0.5, 0.5, 6.2, 9.48433324104268, 2.19404690469300, 0.00449141066454633), (6.2, 1, 0.5, 0.5, 0.5, 0.5, -5.36904651573303, -5.36904651573303, 0.500000000000000, 0.500000000000000), (6.2, 1, 0.5, 0.5, 0.5, 0.5, -0.230953484266974, -0.230953484266974, 0.500000000000000, 0.500000000000000), (6.2, 1, 0.5, 0.5, 0.5, 0.5, 4.07081449998276, -0.390814499982760, 0.118686629641123, 3.09310596295147), (6.2, 1, 0.5, 0.5, 0.5, 0.5, -0.390814499982760, 4.07081449998276, 3.09310596295147, 0.118686629641123)]\n"
     ]
    }
   ],
   "source": [
    "def inter_simult(t1,t2,v1_foc,v2_foc,\n",
    "                 l,q,m1,m2,b1,b2,pi1,pi2,v):\n",
    "    solutions = []\n",
    "    #solve for t2 as a function of t1\n",
    "    if v: print 'interior solving v2_foc... \\n'\n",
    "    t2_sol = solve(v2_foc,t2)\n",
    "    if v: print 'interior t2_sol: %s \\n'%t2_sol \n",
    "    for t2_param in t2_sol:\n",
    "        #substitute back into foc\n",
    "        v1_foc1 = v1_foc.subs(t2,t2_param)  \n",
    "        if v: print 'interior solving v1_foc... \\n'\n",
    "        t1_param = solve(v1_foc1,t1)        \n",
    "        t1_param = [t1_cand for t1_cand in t1_param if t1_cand.is_real]\n",
    "        if v: print 'interior t2_param: %s, t1_param: %s \\n'%(t2_param, t1_param)  \n",
    "        #sovle for t2\n",
    "        t2_param = [t2_param.subs(t1, t1_cand) for t1_cand in t1_param]\n",
    "        for i in range(len(t1_param)): \n",
    "            pi1_param = pi1.subs({t1:t1_param[i], t2:t2_param[i]})\n",
    "            pi2_param = pi2.subs({t1:t1_param[i], t2:t2_param[i]})\n",
    "            solutions.append((l,q,m1,m2,b1,b2,t1_param[i],t2_param[i],pi1_param,pi2_param))   \n",
    "    return solutions\n",
    "\n",
    "\n",
    "def corner_simult(t1,t2,v1_foc,v2_foc,\n",
    "                  l,q,m1,m2,b1,b2,pi1,pi2,v):\n",
    "    solutions = [(l,q,m1,m2,b1,b2,l,l,.5*q,.5*q)]\n",
    "    \n",
    "    #case 1: t2 = l, t1 interior (good one)\n",
    "    v1_foc1 = v1_foc.subs(t2,l) \n",
    "    if v: print 'solving foc 1 in corner case... \\n'\n",
    "    t1_sol = solve(v1_foc1,t1)        \n",
    "    t1_sol = [t_cand for t_cand in t1_sol if t_cand.is_real]\n",
    "    if v: print 't1_sol in corner: %s \\n'%(t1_sol)  \n",
    "    #add solutions to list\n",
    "    for t1_param in t1_sol:\n",
    "        pi1_param1 = S(.5)*( (l-t1_param)/S(3) +q) *(1 + (l-t1_param)/(S(3)*q) )\n",
    "        pi2_param1 = S(.5)*( (t1_param-l)/S(3) +q) *(1 + (t1_param-l)/(S(3)*q) )\n",
    "        solutions.append((l,q,m1,m2,b1,b2,t1_param,l,pi1_param1,pi2_param1))\n",
    "\n",
    "    #case 2: t1 = l, t2 interior (broken one)\n",
    "    v2_foc2 = v2_foc.subs(t1,l) \n",
    "    if v: print 'solving foc 2 in corner case... \\n'\n",
    "    t2_sol = solve(v2_foc2,t2)        \n",
    "    t2_sol = [t_cand for t_cand in t2_sol if t_cand.is_real]\n",
    "    if v: print 't2_sol in corner: %s \\n'%(t2_sol)  \n",
    "    #add solutions to list\n",
    "    for t2_param in t2_sol:\n",
    "        pi1_param2 = S(.5)*( (t2_param-l)/S(3) +q) *(1 + (t2_param-l)/(S(3)*q) )\n",
    "        pi2_param2 = S(.5)*( (l-t2_param)/S(3) +q) *(1 + (l-t2_param)/(S(3)*q) )\n",
    "        solutions.append((l,q,m1,m2,b1,b2,l,t2_param, pi1_param2,pi2_param2))\n",
    "    \n",
    "    return solutions\n",
    "\n",
    "\n",
    "def simult(t1=Symbol('t_1'),\n",
    "           t2=Symbol('t_2'),\n",
    "           l=Symbol('l'),\n",
    "           q=Symbol('q'),\n",
    "           m1=Symbol('m_1'),\n",
    "           m2=Symbol('m_2'),\n",
    "           b1=Symbol('b_1'),\n",
    "           b2=Symbol('b_2'), v=False, inter=True,corner=True):\n",
    "    \n",
    "    #profits\n",
    "    pi1 = S(.5)*( (t2-t1)/S(3) +q)*(S(1) + (t2-t1)/(S(3)*q) )\n",
    "    pi2 = S(.5)*( (t1-t2)/S(3) +q)*(S(1) + (t1-t2)/(S(3)*q) )\n",
    "    #nash bargaining objectives\n",
    "    v1 = (pi1 - pi1.subs(t1,l) )**(b1) * (m1*t1 +m2*t2)**(S(1)-b1)\n",
    "    v2 = (pi2 - pi2.subs(t2,l) )**(b2) * (m1*t1 +m2*t2)**(S(1)-b2)\n",
    "    #simultaneous bargaining\n",
    "    v1_foc = diff(v1,t1)\n",
    "    v2_foc = diff(v2,t2)\n",
    "    #initialize no bargain, list price both\n",
    "    solutions = []\n",
    "    #other less important cases:\n",
    "    if corner:\n",
    "        corner_solutions = corner_simult(t1,t2, v1_foc, v2_foc,\n",
    "                                     l,q,m1,m2,b1,b2,pi1,pi2,v)\n",
    "        for sol in  corner_solutions:\n",
    "            solutions.append(sol)\n",
    "    #interior cases:\n",
    "    if inter:\n",
    "        int_solutions = inter_simult(t1,t2,v1_foc,v2_foc,\n",
    "                                 l,q,m1,m2,b1,b2,pi1,pi2,v)\n",
    "        for sol in int_solutions:\n",
    "            solutions.append(sol)\n",
    "    return solutions\n",
    "\n",
    "test_sim1 = simult(l = 6.2, q = 1, m1 = .5, m2 = .5, b1 = .5, b2 = .5, v=False, inter=True, corner=True)\n",
    "print test_sim1"
   ]
  },
  {
   "cell_type": "code",
   "execution_count": 29,
   "metadata": {},
   "outputs": [],
   "source": [
    "def l_plotter(game, ranger, scaler, args, corner=True, simult=True, v=False):\n",
    "    q0, m10, m20, b10, b20 = args\n",
    "    result = []\n",
    "    for l in ranger: \n",
    "        l = l/scaler\n",
    "        solutions = game(l = l ,q = q0, m1 = m10, m2 = m20, b1 = b10, b2 = b20, corner= corner)\n",
    "        solutions = find_eq(solutions, simult = simult)\n",
    "        if v: print 'solutions: %s \\n'%solutions\n",
    "        for sol in solutions:\n",
    "            result.append(sol) \n",
    "    result = pd.DataFrame(result, columns=['l','lambda','mu_1','mu_2','beta_1','beta_2','theta_1','theta_2','pi_1','pi_2']) \n",
    "    return result\n",
    "\n",
    "\n",
    "def q_plotter(game, ranger, scaler, args, corner=True, simult=True, v=False): \n",
    "    l0, m10, m20, b10, b20  = args \n",
    "    result = [] \n",
    "    for q in ranger: \n",
    "        q = q/scaler \n",
    "        solutions = game(l = l0 ,q = q, m1 = m10, m2 = m20, b1 = b10, b2 = b20,  corner= corner)\n",
    "        solutions = find_eq(solutions , simult = simult)\n",
    "        if v: print 'solutions: %s \\n'%solutions\n",
    "        for sol in solutions:\n",
    "            result.append(sol) \n",
    "    result = pd.DataFrame(result, columns=['l','lambda','mu_1','mu_2','beta_1','beta_2','theta_1','theta_2','pi_1','pi_2'])\n",
    "    return result\n",
    "\n",
    "\n",
    "def m_plotter(game, ranger, scaler, args, corner=True, simult=True, v=False): \n",
    "    q0, l0, m20, b10, b20  = args \n",
    "    result = [] \n",
    "    for m in ranger:\n",
    "        m = m/scaler \n",
    "        if v: print 'l: %s, q: %s, m1: %s, m2: %s, b1: %s, b2: %s \\n'%(l0 ,q0, m, m20,  b10, b20)\n",
    "        solutions = game(l = l0 ,q = q0, m1 = m, m2 = m20, b1 = b10, b2 = b20, corner= corner)\n",
    "        if v: print '(unfiltered) solutions: %s \\n'%solutions\n",
    "        solutions = find_eq(solutions , simult = simult)\n",
    "        if v: print 'solutions: %s \\n'%solutions\n",
    "        for sol in solutions:\n",
    "            result.append(sol) \n",
    "    result = pd.DataFrame(result, columns=['l','lambda','mu_1','mu_2','beta_1','beta_2','theta_1','theta_2','pi_1','pi_2'])\n",
    "    return result"
   ]
  },
  {
   "cell_type": "code",
   "execution_count": 14,
   "metadata": {},
   "outputs": [],
   "source": [
    "def quick_plot(frame,ptype,fname):\n",
    "    #plot pi\n",
    "    fig = plt.figure()\n",
    "    fig.suptitle('pi  vs %s'%ptype)\n",
    "    plt.ylabel('pi(%s)'%ptype)\n",
    "    plt.xlabel(ptype)\n",
    "    plt.plot(frame[ptype] ,frame['pi_1'], 'ro')\n",
    "    plt.plot(frame[ptype] ,frame['pi_2'], 'bo')\n",
    "    fig.savefig('plots/%s_pi_%s'%(fname,ptype))\n",
    "    \n",
    "    #plot theta\n",
    "    fig = plt.figure()\n",
    "    fig.suptitle('theta  vs %s'%ptype)\n",
    "    plt.ylabel('theta(%s)'%ptype)\n",
    "    plt.xlabel(ptype)\n",
    "    plt.plot(frame[ptype] ,frame['theta_1'], 'ro')\n",
    "    plt.plot(frame[ptype] ,frame['theta_2'], 'bo')\n",
    "    fig.savefig('plots/%s_theta_%s'%(fname,ptype))"
   ]
  },
  {
   "cell_type": "code",
   "execution_count": 30,
   "metadata": {
    "scrolled": false
   },
   "outputs": [
    {
     "name": "stdout",
     "output_type": "stream",
     "text": [
      "      l  lambda  mu_1  mu_2  beta_1  beta_2              theta_1  \\\n",
      "0   1.0       1   0.5   0.5     0.5     0.5  -0.0703675169759929   \n",
      "1   1.0       1   0.5   0.5     0.5     0.5                    1   \n",
      "2   1.0       1   0.5   0.5     0.5     0.5    0.306623862918075   \n",
      "3   1.5       1   0.5   0.5     0.5     0.5   -0.145751311064591   \n",
      "4   1.5       1   0.5   0.5     0.5     0.5                  1.5   \n",
      "5   1.5       1   0.5   0.5     0.5     0.5    0.437253933193776   \n",
      "6   2.0       1   0.5   0.5     0.5     0.5   -0.239265962360449   \n",
      "7   2.0       1   0.5   0.5     0.5     0.5                    2   \n",
      "8   2.0       1   0.5   0.5     0.5     0.5    0.549834435270750   \n",
      "9   2.5       1   0.5   0.5     0.5     0.5   -0.346464004723152   \n",
      "10  2.5       1   0.5   0.5     0.5     0.5                  2.5   \n",
      "11  2.5       1   0.5   0.5     0.5     0.5    0.641428428542850   \n",
      "12  3.0       1   0.5   0.5     0.5     0.5   -0.464101615137755   \n",
      "13  3.0       1   0.5   0.5     0.5     0.5                    3   \n",
      "14  3.0       1   0.5   0.5     0.5     0.5    0.708203932499369   \n",
      "15  3.5       1   0.5   0.5     0.5     0.5   -0.589809223194882   \n",
      "16  3.5       1   0.5   0.5     0.5     0.5                  3.5   \n",
      "17  3.5       1   0.5   0.5     0.5     0.5    0.744997998398398   \n",
      "18  4.0       1   0.5   0.5     0.5     0.5   -0.721841686865480   \n",
      "19  4.0       1   0.5   0.5     0.5     0.5                    4   \n",
      "20  4.0       1   0.5   0.5     0.5     0.5    0.744562646538029   \n",
      "21  4.5       1   0.5   0.5     0.5     0.5   -0.858898943540674   \n",
      "22  4.5       1   0.5   0.5     0.5     0.5                  4.5   \n",
      "23  4.5       1   0.5   0.5     0.5     0.5    0.696152422706632   \n",
      "24  5.0       1   0.5   0.5     0.5     0.5    -1.00000000000000   \n",
      "25  5.0       1   0.5   0.5     0.5     0.5                    5   \n",
      "26  5.5       1   0.5   0.5     0.5     0.5    -1.14439484102269   \n",
      "27  5.5       1   0.5   0.5     0.5     0.5                  5.5   \n",
      "28  5.5       1   0.5   0.5     0.5     0.5    0.372983346207417   \n",
      "29  6.0       1   0.5   0.5     0.5     0.5    -1.29150262212918   \n",
      "30  6.0       1   0.5   0.5     0.5     0.5                    6   \n",
      "31  6.5       1   0.5   0.5     0.5     0.5    -1.44086794708691   \n",
      "32  6.5       1   0.5   0.5     0.5     0.5                  6.5   \n",
      "\n",
      "                theta_2                 pi_1                 pi_2  \n",
      "0                     1    0.920438429069628    0.206860084418966  \n",
      "1   -0.0703675169759929    0.206860084418966    0.920438429069628  \n",
      "2     0.306623862918075    0.500000000000000    0.500000000000000  \n",
      "3                   1.5     1.19905584690324    0.101888306193515  \n",
      "4    -0.145751311064591    0.101888306193515     1.19905584690324  \n",
      "5     0.437253933193769    0.499999999999998    0.500000000000002  \n",
      "6                     2     1.52499487913049   0.0321509042235207  \n",
      "7    -0.239265962360449   0.0321509042235207     1.52499487913049  \n",
      "8     0.549834435270750    0.500000000000000    0.500000000000000  \n",
      "9                   2.5     1.89895229769575  0.00130962788031401  \n",
      "10   -0.346464004723152  0.00130962788031401     1.89895229769575  \n",
      "11    0.641428428542850    0.500000000000000    0.500000000000000  \n",
      "12                    3     2.32136720504592   0.0119661282874151  \n",
      "13   -0.464101615137755   0.0119661282874151     2.32136720504592  \n",
      "14    0.708203932499369    0.500000000000000    0.500000000000000  \n",
      "15                  3.5     2.79252193451662   0.0659824523867018  \n",
      "16   -0.589809223194882   0.0659824523867018     2.79252193451662  \n",
      "17    0.744997998398399    0.500000000000000    0.500000000000000  \n",
      "18                    4     3.31260216872297    0.164707710812653  \n",
      "19   -0.721841686865480    0.164707710812653     3.31260216872297  \n",
      "20    0.744562646538029    0.500000000000000    0.500000000000000  \n",
      "21                  4.5     3.88173286379586    0.309133568102072  \n",
      "22   -0.858898943540674    0.309133568102072     3.88173286379586  \n",
      "23    0.696152422706632    0.500000000000000    0.500000000000000  \n",
      "24                    5     4.50000000000000    0.500000000000000  \n",
      "25    -1.00000000000000    0.500000000000000     4.50000000000000  \n",
      "26                  5.5     5.16746399164140    0.737867430959601  \n",
      "27    -1.14439484102269    0.737867430959601     5.16746399164140  \n",
      "28    0.372983346207417    0.500000000000000    0.500000000000000  \n",
      "29                    6     5.88416812340510     1.02316637531898  \n",
      "30    -1.29150262212918     1.02316637531898     5.88416812340510  \n",
      "31                  6.5     6.65014396864409     1.35623200391949  \n",
      "32    -1.44086794708691     1.35623200391949     6.65014396864409  \n"
     ]
    }
   ],
   "source": [
    "arg0 =  (1, .5,.5,.5,.5)\n",
    "simult1_l =  l_plotter(simult,range(10,70,5),10.0, arg0, v=False)\n",
    "\n",
    "print simult1_l"
   ]
  },
  {
   "cell_type": "code",
   "execution_count": 31,
   "metadata": {},
   "outputs": [
    {
     "data": {
      "image/png": "[encoded data removed]",
      "text/plain": [
       "<Figure size 432x288 with 1 Axes>"
      ]
     },
     "metadata": {},
     "output_type": "display_data"
    },
    {
     "data": {
      "image/png": "[encoded data removed]",
      "text/plain": [
       "<Figure size 432x288 with 1 Axes>"
      ]
     },
     "metadata": {},
     "output_type": "display_data"
    }
   ],
   "source": [
    "simult1_l.to_csv('sheets/simult1_l.csv', sep=',')\n",
    "quick_plot(simult1_l,'l','simult1')"
   ]
  },
  {
   "cell_type": "code",
   "execution_count": 32,
   "metadata": {},
   "outputs": [
    {
     "name": "stdout",
     "output_type": "stream",
     "text": [
      "      l  lambda  mu_1  mu_2  beta_1  beta_2             theta_1  \\\n",
      "0   4.6       1   0.5   0.5     0.5     0.5  -0.886822521133540   \n",
      "1   4.6       1   0.5   0.5     0.5     0.5                 4.6   \n",
      "2   4.6       1   0.5   0.5     0.5     0.5   0.679370039680118   \n",
      "3   4.8       1   0.5   0.5     0.5     0.5  -0.943126676640219   \n",
      "4   4.8       1   0.5   0.5     0.5     0.5                 4.8   \n",
      "5   4.8       1   0.5   0.5     0.5     0.5   0.637354648979130   \n",
      "6   5.0       1   0.5   0.5     0.5     0.5   -1.00000000000000   \n",
      "7   5.0       1   0.5   0.5     0.5     0.5                   5   \n",
      "8   5.2       1   0.5   0.5     0.5     0.5   -1.05739845952578   \n",
      "9   5.2       1   0.5   0.5     0.5     0.5                 5.2   \n",
      "10  5.2       1   0.5   0.5     0.5     0.5   0.512771730569565   \n",
      "11  5.4       1   0.5   0.5     0.5     0.5   -1.11528229097780   \n",
      "12  5.4       1   0.5   0.5     0.5     0.5                 5.4   \n",
      "13  5.4       1   0.5   0.5     0.5     0.5   0.424922359499621   \n",
      "14  5.6       1   0.5   0.5     0.5     0.5   -1.17361551238288   \n",
      "15  5.6       1   0.5   0.5     0.5     0.5                 5.6   \n",
      "16  5.6       1   0.5   0.5     0.5     0.5   0.314835124201342   \n",
      "17  5.8       1   0.5   0.5     0.5     0.5   -1.23236550074947   \n",
      "18  5.8       1   0.5   0.5     0.5     0.5                 5.8   \n",
      "19  5.8       1   0.5   0.5     0.5     0.5   0.176388603226826   \n",
      "20  6.0       1   0.5   0.5     0.5     0.5   -1.29150262212918   \n",
      "21  6.0       1   0.5   0.5     0.5     0.5                   6   \n",
      "22  6.2       1   0.5   0.5     0.5     0.5   -1.35099990770935   \n",
      "23  6.2       1   0.5   0.5     0.5     0.5                 6.2   \n",
      "\n",
      "               theta_2               pi_1               pi_2  \n",
      "0                  4.6   4.00145313917886  0.343571458423165  \n",
      "1   -0.886822521133540  0.343571458423165   4.00145313917886  \n",
      "2    0.679370039680117  0.500000000000000  0.500000000000000  \n",
      "3                  4.8   4.24679244909877  0.418041331338623  \n",
      "4   -0.943126676640219  0.418041331338623   4.24679244909877  \n",
      "5    0.637354648979130  0.500000000000000  0.500000000000000  \n",
      "6                    5   4.50000000000000  0.500000000000000  \n",
      "7    -1.00000000000000  0.500000000000000   4.50000000000000  \n",
      "8                  5.2   4.76107923546835  0.589480262451163  \n",
      "9    -1.05739845952578  0.589480262451163   4.76107923546835  \n",
      "10   0.512771730569565  0.500000000000000  0.500000000000000  \n",
      "11                 5.4   5.03003317094421  0.686511643625675  \n",
      "12   -1.11528229097780  0.686511643625675   5.03003317094421  \n",
      "13   0.424922359499621  0.500000000000000  0.500000000000000  \n",
      "14                 5.6   5.30686445466063  0.791120779738706  \n",
      "15   -1.17361551238288  0.791120779738706   5.30686445466063  \n",
      "16   0.314835124201342  0.500000000000000  0.500000000000000  \n",
      "17                 5.8   5.59157541892379  0.903331751757474  \n",
      "18   -1.23236550074947  0.903331751757474   5.59157541892379  \n",
      "19   0.176388603226826  0.500000000000000  0.500000000000000  \n",
      "20                   6   5.88416812340510   1.02316637531898  \n",
      "21   -1.29150262212918   1.02316637531898   5.88416812340510  \n",
      "22                 6.2   6.18464439180459   1.15064445333169  \n",
      "23   -1.35099990770935   1.15064445333169   6.18464439180459  \n"
     ]
    }
   ],
   "source": [
    "arg0 =  (1, .5,.5,.5,.5)\n",
    "simult2_l =  l_plotter(simult,range(46,64,2),10.0, arg0, v=False)\n",
    "\n",
    "print simult2_l"
   ]
  },
  {
   "cell_type": "code",
   "execution_count": 33,
   "metadata": {
    "scrolled": false
   },
   "outputs": [
    {
     "data": {
      "image/png": "[encoded data removed]",
      "text/plain": [
       "<Figure size 432x288 with 1 Axes>"
      ]
     },
     "metadata": {},
     "output_type": "display_data"
    },
    {
     "data": {
      "image/png": "[encoded data removed]",
      "text/plain": [
       "<Figure size 432x288 with 1 Axes>"
      ]
     },
     "metadata": {},
     "output_type": "display_data"
    }
   ],
   "source": [
    "simult2_l.to_csv('sheets/simult2_l.csv', sep=',')\n",
    "quick_plot(simult2_l,'l','simult2')"
   ]
  },
  {
   "cell_type": "code",
   "execution_count": 44,
   "metadata": {},
   "outputs": [
    {
     "name": "stdout",
     "output_type": "stream",
     "text": [
      "    l  lambda  mu_1  mu_2  beta_1  beta_2              theta_1  \\\n",
      "0   1     1.0   0.5   0.5     0.5     0.5  -0.0703675169759929   \n",
      "1   1     1.0   0.5   0.5     0.5     0.5                    1   \n",
      "2   1     1.0   0.5   0.5     0.5     0.5    0.306623862918075   \n",
      "3   1     1.5   0.5   0.5     0.5     0.5  -0.0496305216974065   \n",
      "4   1     1.5   0.5   0.5     0.5     0.5                    1   \n",
      "5   1     1.5   0.5   0.5     0.5     0.5    0.316005617976297   \n",
      "6   1     2.0   0.5   0.5     0.5     0.5  -0.0382923495346671   \n",
      "7   1     2.0   0.5   0.5     0.5     0.5                    1   \n",
      "8   1     2.0   0.5   0.5     0.5     0.5    0.320508075688773   \n",
      "9   1     2.5   0.5   0.5     0.5     0.5  -0.0311589798103604   \n",
      "10  1     2.5   0.5   0.5     0.5     0.5                    1   \n",
      "11  1     2.5   0.5   0.5     0.5     0.5    0.323152842795195   \n",
      "12  1     3.0   0.5   0.5     0.5     0.5  -0.0262613427796377   \n",
      "13  1     3.0   0.5   0.5     0.5     0.5                    1   \n",
      "14  1     3.0   0.5   0.5     0.5     0.5    0.324893162176366   \n",
      "15  1     3.5   0.5   0.5     0.5     0.5  -0.0226921635713036   \n",
      "16  1     3.5   0.5   0.5     0.5     0.5                    1   \n",
      "17  1     3.5   0.5   0.5     0.5     0.5    0.326125283596704   \n",
      "18  1     4.0   0.5   0.5     0.5     0.5  -0.0199760574277785   \n",
      "19  1     4.0   0.5   0.5     0.5     0.5                    1   \n",
      "20  1     4.0   0.5   0.5     0.5     0.5    0.327043465311387   \n",
      "21  1     4.5   0.5   0.5     0.5     0.5  -0.0178400927370251   \n",
      "22  1     4.5   0.5   0.5     0.5     0.5                    1   \n",
      "23  1     4.5   0.5   0.5     0.5     0.5    0.327754142055261   \n",
      "24  1     5.0   0.5   0.5     0.5     0.5  -0.0161164641733492   \n",
      "25  1     5.0   0.5   0.5     0.5     0.5                    1   \n",
      "26  1     5.0   0.5   0.5     0.5     0.5    0.328320518603003   \n",
      "27  1     5.5   0.5   0.5     0.5     0.5  -0.0146963536994679   \n",
      "28  1     5.5   0.5   0.5     0.5     0.5                    1   \n",
      "29  1     5.5   0.5   0.5     0.5     0.5    0.328782495573244   \n",
      "30  1     6.0   0.5   0.5     0.5     0.5  -0.0135061183014228   \n",
      "31  1     6.0   0.5   0.5     0.5     0.5                    1   \n",
      "32  1     6.0   0.5   0.5     0.5     0.5    0.329166503893533   \n",
      "33  1     6.5   0.5   0.5     0.5     0.5  -0.0124941461117352   \n",
      "34  1     6.5   0.5   0.5     0.5     0.5                    1   \n",
      "35  1     6.5   0.5   0.5     0.5     0.5    0.329490746504071   \n",
      "\n",
      "                theta_2               pi_1               pi_2  \n",
      "0                     1  0.920438429069628  0.206860084418966  \n",
      "1   -0.0703675169759929  0.206860084418966  0.920438429069628  \n",
      "2     0.306623862918075  0.500000000000000  0.500000000000000  \n",
      "3                     1   1.14068144175390  0.440927760622300  \n",
      "4   -0.0496305216974065  0.440927760622300   1.14068144175390  \n",
      "5     0.316005617976297  0.750000000000000  0.750000000000000  \n",
      "6                     1   1.37604331104217  0.683848411352395  \n",
      "7   -0.0382923495346671  0.683848411352395   1.37604331104217  \n",
      "8     0.320508075688773   1.00000000000000   1.00000000000000  \n",
      "9                     1   1.61734830086220  0.929908980988625  \n",
      "10  -0.0311589798103604  0.929908980988625   1.61734830086220  \n",
      "11    0.323152842795195   1.25000000000000   1.25000000000000  \n",
      "12                    1   1.86159104655032   1.17741681803056  \n",
      "13  -0.0262613427796377   1.17741681803056   1.86159104655032  \n",
      "14    0.324893162176367   1.50000000000000   1.50000000000000  \n",
      "15                    1   2.10749896343536   1.42570418772116  \n",
      "16  -0.0226921635713036   1.42570418772116   2.10749896343536  \n",
      "17    0.326125283596705   1.75000000000000   1.75000000000000  \n",
      "18                    1   2.35444134077767   1.67445730249249  \n",
      "19  -0.0199760574277785   1.67445730249249   2.35444134077767  \n",
      "20    0.327043465311387   2.00000000000000   2.00000000000000  \n",
      "21                    1   2.60207013528744   1.92351007346276  \n",
      "22  -0.0178400927370251   1.92351007346276   2.60207013528744  \n",
      "23    0.327754142055262   2.25000000000000   2.25000000000000  \n",
      "24                    1   2.85017762882183   2.17276665270626  \n",
      "25  -0.0161164641733492   2.17276665270626   2.85017762882183  \n",
      "26    0.328320518603004   2.50000000000000   2.50000000000000  \n",
      "27                    1   3.09863220567973   2.42216796988009  \n",
      "28  -0.0146963536994679   2.42216796988009   3.09863220567973  \n",
      "29    0.328782495573245   2.75000000000000   2.75000000000000  \n",
      "30                    1   3.34734643435820   2.67167568882392  \n",
      "31  -0.0135061183014228   2.67167568882392   3.34734643435820  \n",
      "32    0.329166503893534   3.00000000000000   3.00000000000000  \n",
      "33                    1   3.59625996661768   2.92126386920985  \n",
      "34  -0.0124941461117352   2.92126386920985   3.59625996661768  \n",
      "35    0.329490746504071   3.25000000000000   3.25000000000000  \n"
     ]
    }
   ],
   "source": [
    "arg0 =  (1, .5,.5,.5,.5)\n",
    "simult1_q =  q_plotter(simult,range(10,70,5),10.0, arg0)\n",
    "\n",
    "print simult1_q"
   ]
  },
  {
   "cell_type": "code",
   "execution_count": 45,
   "metadata": {},
   "outputs": [
    {
     "data": {
      "image/png": "[encoded data removed]",
      "text/plain": [
       "<Figure size 432x288 with 1 Axes>"
      ]
     },
     "metadata": {},
     "output_type": "display_data"
    },
    {
     "data": {
      "image/png": "[encoded data removed]",
      "text/plain": [
       "<Figure size 432x288 with 1 Axes>"
      ]
     },
     "metadata": {},
     "output_type": "display_data"
    }
   ],
   "source": [
    "simult1_q.to_csv('sheets/simult1_lambda.csv', sep=',')\n",
    "quick_plot(simult1_q,'lambda','simult1')"
   ]
  },
  {
   "cell_type": "code",
   "execution_count": 36,
   "metadata": {},
   "outputs": [
    {
     "name": "stdout",
     "output_type": "stream",
     "text": [
      "    l  lambda  mu_1  mu_2  beta_1  beta_2              theta_1  \\\n",
      "0   1       1   0.1   0.5     0.5     0.5    -2.46410161513775   \n",
      "1   1       1   0.1   0.5     0.5     0.5                    1   \n",
      "2   1       1   0.2   0.5     0.5     0.5   -0.940552829515540   \n",
      "3   1       1   0.2   0.5     0.5     0.5                    1   \n",
      "4   1       1   0.3   0.5     0.5     0.5   -0.451680576593510   \n",
      "5   1       1   0.3   0.5     0.5     0.5                    1   \n",
      "6   1       1   0.4   0.5     0.5     0.5   -0.212214450449026   \n",
      "7   1       1   0.4   0.5     0.5     0.5                    1   \n",
      "8   1       1   0.5   0.5     0.5     0.5  -0.0703675169759929   \n",
      "9   1       1   0.5   0.5     0.5     0.5                    1   \n",
      "10  1       1   0.5   0.5     0.5     0.5    0.306623862918075   \n",
      "11  1       1   0.6   0.5     0.5     0.5   0.0233701271062479   \n",
      "12  1       1   0.6   0.5     0.5     0.5                    1   \n",
      "13  1       1   0.7   0.5     0.5     0.5   0.0898992080364429   \n",
      "14  1       1   0.7   0.5     0.5     0.5                    1   \n",
      "15  1       1   0.8   0.5     0.5     0.5    0.139554320337246   \n",
      "16  1       1   0.8   0.5     0.5     0.5                    1   \n",
      "17  1       1   0.9   0.5     0.5     0.5    0.178027880671672   \n",
      "18  1       1   0.9   0.5     0.5     0.5                    1   \n",
      "\n",
      "                theta_2               pi_1                pi_2  \n",
      "0                     1   2.32136720504592  0.0119661282874151  \n",
      "1     0.372894254867991  0.312812619154751   0.730883115909424  \n",
      "2                     1   1.35605901451300  0.0623571281693072  \n",
      "3     0.263727395926773  0.284692317948300   0.775540720663785  \n",
      "4                     1   1.10096999755666   0.133182946494323  \n",
      "5     0.153419790280337  0.257623155176167   0.822009961655943  \n",
      "6                     1  0.985708365365089   0.177565398399071  \n",
      "7    0.0420347754896808  0.231661445794955   0.870304928801835  \n",
      "8                     1  0.920438429069628   0.206860084418966  \n",
      "9   -0.0703675169759929  0.206860084418966   0.920438429069628  \n",
      "10    0.306623862918075  0.500000000000000   0.500000000000000  \n",
      "11                    1  0.878532508110610   0.227445926181442  \n",
      "12   -0.183730126598547  0.183268680723652   0.972422098456016  \n",
      "13                    1  0.849382677961891   0.242648816652853  \n",
      "14   -0.297999199359359  0.160933706965632    1.02626650653854  \n",
      "15                    1  0.827946713645935   0.254316260537432  \n",
      "16   -0.413123900637904  0.139898653040370    1.08198125346564  \n",
      "17                    1  0.811526160051282   0.263544747165730  \n",
      "18   -0.529056311190905  0.120204185313739    1.13957505944101  \n"
     ]
    }
   ],
   "source": [
    "arg0 =  (1,1,.5,.5,.5)\n",
    "simult1_m =  m_plotter(simult,range(1,10,1),10.0, arg0, v=False)\n",
    "print simult1_m"
   ]
  },
  {
   "cell_type": "code",
   "execution_count": 37,
   "metadata": {},
   "outputs": [
    {
     "data": {
      "image/png": "[encoded data removed]",
      "text/plain": [
       "<Figure size 432x288 with 1 Axes>"
      ]
     },
     "metadata": {},
     "output_type": "display_data"
    },
    {
     "data": {
      "image/png": "[encoded data removed]",
      "text/plain": [
       "<Figure size 432x288 with 1 Axes>"
      ]
     },
     "metadata": {},
     "output_type": "display_data"
    }
   ],
   "source": [
    "simult1_m.to_csv('sheets/simult1_mu.csv', sep=',')\n",
    "quick_plot(simult1_m,'mu_1','simult1')"
   ]
  },
  {
   "cell_type": "code",
   "execution_count": 55,
   "metadata": {},
   "outputs": [
    {
     "name": "stdout",
     "output_type": "stream",
     "text": [
      "     l  lambda  mu_1  mu_2  beta_1  beta_2              theta_1  theta_2  \\\n",
      "0  1.0       1   0.5   0.5     0.5     0.5  -0.0703675169759928      1.0   \n",
      "1  1.5       1   0.5   0.5     0.5     0.5   -0.145751311064591      1.5   \n",
      "2  2.0       1   0.5   0.5     0.5     0.5   -0.239265962360449      2.0   \n",
      "3  2.5       1   0.5   0.5     0.5     0.5   -0.346464004723152      2.5   \n",
      "4  3.0       1   0.5   0.5     0.5     0.5   -0.464101615137755      3.0   \n",
      "5  3.5       1   0.5   0.5     0.5     0.5   -0.589809223194882      3.5   \n",
      "6  4.0       1   0.5   0.5     0.5     0.5   -0.721841686865480      4.0   \n",
      "7  4.5       1   0.5   0.5     0.5     0.5   -0.858898943540673      4.5   \n",
      "\n",
      "                pi_1                 pi_2  \n",
      "0  0.920438429069628    0.206860084418966  \n",
      "1   1.19905584690324    0.101888306193515  \n",
      "2   1.52499487913049   0.0321509042235208  \n",
      "3   1.89895229769575  0.00130962788031401  \n",
      "4   2.32136720504592   0.0119661282874151  \n",
      "5   2.79252193451662   0.0659824523867018  \n",
      "6   3.31260216872297    0.164707710812654  \n",
      "7   3.88173286379586    0.309133568102072  \n"
     ]
    }
   ],
   "source": [
    "c=True\n",
    "arg0 =  (1, .5,.5,.5,.5)\n",
    "seq1_l =  l_plotter(seq,range(10,50,5),10.0, arg0, corner= c, simult=False)\n",
    "\n",
    "print seq1_l"
   ]
  },
  {
   "cell_type": "code",
   "execution_count": 56,
   "metadata": {},
   "outputs": [
    {
     "data": {
      "image/png": "[encoded data removed]",
      "text/plain": [
       "<Figure size 432x288 with 1 Axes>"
      ]
     },
     "metadata": {},
     "output_type": "display_data"
    },
    {
     "data": {
      "image/png": "[encoded data removed]",
      "text/plain": [
       "<Figure size 432x288 with 1 Axes>"
      ]
     },
     "metadata": {},
     "output_type": "display_data"
    }
   ],
   "source": [
    "seq1_l.to_csv('sheets/seq1_l.csv', sep=',')\n",
    "quick_plot(seq1_l,'l','seq1')"
   ]
  },
  {
   "cell_type": "code",
   "execution_count": 57,
   "metadata": {},
   "outputs": [
    {
     "name": "stdout",
     "output_type": "stream",
     "text": [
      "   l  lambda  mu_1  mu_2  beta_1  beta_2              theta_1  theta_2  \\\n",
      "0  1     1.0   0.5   0.5     0.5     0.5  -0.0703675169759929        1   \n",
      "1  1     1.5   0.5   0.5     0.5     0.5  -0.0496305216974064        1   \n",
      "2  1     2.0   0.5   0.5     0.5     0.5  -0.0382923495346667        1   \n",
      "3  1     2.5   0.5   0.5     0.5     0.5  -0.0311589798103603        1   \n",
      "4  1     3.0   0.5   0.5     0.5     0.5  -0.0262613427796371        1   \n",
      "5  1     3.5   0.5   0.5     0.5     0.5  -0.0226921635713035        1   \n",
      "6  1     4.0   0.5   0.5     0.5     0.5  -0.0199760574277785        1   \n",
      "7  1     4.5   0.5   0.5     0.5     0.5  -0.0178400927370245        1   \n",
      "\n",
      "                pi_1               pi_2  \n",
      "0  0.920438429069628  0.206860084418966  \n",
      "1   1.14068144175390  0.440927760622300  \n",
      "2   1.37604331104217  0.683848411352395  \n",
      "3   1.61734830086220  0.929908980988625  \n",
      "4   1.86159104655032   1.17741681803056  \n",
      "5   2.10749896343536   1.42570418772116  \n",
      "6   2.35444134077767   1.67445730249249  \n",
      "7   2.60207013528744   1.92351007346276  \n"
     ]
    }
   ],
   "source": [
    "arg0 =  (1, .5,.5,.5,.5)\n",
    "seq1_q =  q_plotter(seq,range(10,50,5),10.0, arg0, corner= c, simult=False)\n",
    "\n",
    "print seq1_q"
   ]
  },
  {
   "cell_type": "code",
   "execution_count": 58,
   "metadata": {},
   "outputs": [
    {
     "data": {
      "image/png": "[encoded data removed]",
      "text/plain": [
       "<Figure size 432x288 with 1 Axes>"
      ]
     },
     "metadata": {},
     "output_type": "display_data"
    },
    {
     "data": {
      "image/png": "[encoded data removed]",
      "text/plain": [
       "<Figure size 432x288 with 1 Axes>"
      ]
     },
     "metadata": {},
     "output_type": "display_data"
    }
   ],
   "source": [
    "seq1_q.to_csv('sheets/seq1_lambda.csv', sep=',')\n",
    "quick_plot(seq1_q,'lambda','seq1')"
   ]
  },
  {
   "cell_type": "code",
   "execution_count": 59,
   "metadata": {},
   "outputs": [
    {
     "name": "stdout",
     "output_type": "stream",
     "text": [
      "   l  lambda  mu_1  mu_2  beta_1  beta_2              theta_1  theta_2  \\\n",
      "0  1       1   0.1   0.5     0.5     0.5    -2.46410161513775        1   \n",
      "1  1       1   0.2   0.5     0.5     0.5   -0.940552829515540        1   \n",
      "2  1       1   0.3   0.5     0.5     0.5   -0.451680576593510        1   \n",
      "3  1       1   0.4   0.5     0.5     0.5   -0.212214450449026        1   \n",
      "4  1       1   0.5   0.5     0.5     0.5  -0.0703675169759928        1   \n",
      "5  1       1   0.6   0.5     0.5     0.5   0.0233701271062480        1   \n",
      "6  1       1   0.7   0.5     0.5     0.5   0.0898992080364430        1   \n",
      "7  1       1   0.8   0.5     0.5     0.5    0.139554320337245        1   \n",
      "8  1       1   0.9   0.5     0.5     0.5    0.178027880671672        1   \n",
      "\n",
      "                pi_1                pi_2  \n",
      "0   2.32136720504592  0.0119661282874152  \n",
      "1   1.35605901451300  0.0623571281693072  \n",
      "2   1.10096999755666   0.133182946494323  \n",
      "3  0.985708365365089   0.177565398399071  \n",
      "4  0.920438429069628   0.206860084418966  \n",
      "5  0.878532508110610   0.227445926181442  \n",
      "6  0.849382677961891   0.242648816652853  \n",
      "7  0.827946713645935   0.254316260537432  \n",
      "8  0.811526160051282   0.263544747165730  \n"
     ]
    }
   ],
   "source": [
    "arg0 =  (1,1,.5,.5,.5)\n",
    "seq1_m =  m_plotter(seq,range(1,10,1),10.0, arg0 ,corner= c, simult=False)\n",
    "\n",
    "print seq1_m"
   ]
  },
  {
   "cell_type": "code",
   "execution_count": 60,
   "metadata": {},
   "outputs": [
    {
     "data": {
      "image/png": "[encoded data removed]",
      "text/plain": [
       "<Figure size 432x288 with 1 Axes>"
      ]
     },
     "metadata": {},
     "output_type": "display_data"
    },
    {
     "data": {
      "image/png": "[encoded data removed]",
      "text/plain": [
       "<Figure size 432x288 with 1 Axes>"
      ]
     },
     "metadata": {},
     "output_type": "display_data"
    }
   ],
   "source": [
    "seq1_m.to_csv('sheets/seq1_mu.csv', sep=',')\n",
    "quick_plot(seq1_m,'mu_1','seq1')"
   ]
  },
  {
   "cell_type": "code",
   "execution_count": null,
   "metadata": {},
   "outputs": [],
   "source": []
  }
 ],
 "metadata": {
  "kernelspec": {
   "display_name": "Python 2",
   "language": "python",
   "name": "python2"
  },
  "language_info": {
   "codemirror_mode": {
    "name": "ipython",
    "version": 2
   },
   "file_extension": ".py",
   "mimetype": "text/x-python",
   "name": "python",
   "nbconvert_exporter": "python",
   "pygments_lexer": "ipython2",
   "version": "2.7.15"
  }
 },
 "nbformat": 4,
 "nbformat_minor": 2
}
