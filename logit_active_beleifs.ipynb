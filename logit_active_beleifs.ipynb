{
 "cells": [
  {
   "cell_type": "code",
   "execution_count": 35,
   "metadata": {},
   "outputs": [],
   "source": [
    "using Pkg\n",
    "using Distributions\n",
    "\n",
    "using Optim\n",
    "using PyPlot\n",
    "using LinearAlgebra"
   ]
  },
  {
   "cell_type": "code",
   "execution_count": 49,
   "metadata": {},
   "outputs": [
    {
     "name": "stdout",
     "output_type": "stream",
     "text": [
      "(2.145662699808205, [0.45998])\n"
     ]
    }
   ],
   "source": [
    "function market_shares1(p,alpha)\n",
    "    return exp.(-alpha.*p) / (1 + sum( exp.(-alpha.*p) ) )\n",
    "end\n",
    "\n",
    "\n",
    "function mco_profits1(p,phi,mu,alpha)\n",
    "    return market_shares1(p,alpha) .* ( p - mu .* phi )\n",
    "end\n",
    "\n",
    "\n",
    "function price_profits1(phi,mu,alpha)\n",
    "    diff =  5.\n",
    "    p = [1.]\n",
    "    profits = [0.]\n",
    "    \n",
    "    #set up objective\n",
    "    obj1(p0) = -1*mco_profits1( [p0[1] ], phi,mu,alpha)[1]\n",
    "    res1 = optimize(obj1, [p[1]] , BFGS())\n",
    "\n",
    "    #update result\n",
    "    p = res1.minimizer[1]\n",
    "    profits =  [-1*res1.minimum]        \n",
    "    return p, profits\n",
    "end\n",
    "\n",
    "\n",
    "#arbitrary outside option... passive beliefs\n",
    "function nash_in_nash1(phi, mu, alpha; mc=0., pi0=0.)\n",
    "    p, profits = price_profits1(phi,mu,alpha)\n",
    "    s = market_shares1(p,alpha)\n",
    "    return  profits .* (sum(mu .* s .* (phi .- mc) ) - pi0)\n",
    "end\n",
    "\n",
    "\n",
    "function simult_bargain1(mu, alpha; mc=0.)\n",
    "    \"\"\"solve each firm 1s optimization holding theta 2 fixed\"\"\"\n",
    "    phi = alpha\n",
    "    obj1(phi0) = -1*nash_in_nash1( [phi0[1] ] , mu, alpha ; mc=mc)[1]\n",
    "    res1 =  optimize(obj1, [phi[1]], BFGS())\n",
    "\n",
    "    return [ res1.minimizer[1] ]\n",
    "end\n",
    "\n",
    "practice_alpha =.6\n",
    "println(price_profits1(nash_in_nash1([3.], [.5] , practice_alpha),[.5],practice_alpha))"
   ]
  },
  {
   "cell_type": "code",
   "execution_count": 61,
   "metadata": {},
   "outputs": [
    {
     "name": "stdout",
     "output_type": "stream",
     "text": [
      "[-2.7163e-269, -2.7163e-269]"
     ]
    }
   ],
   "source": [
    "function market_shares(p,alpha)\n",
    "    return exp.(-alpha.*p) / (1 + sum( exp.(-alpha.*p) ) )\n",
    "end\n",
    "\n",
    "\n",
    "function mco_profits(p,phi,mu,alpha)\n",
    "    return market_shares(p,alpha) .* ( p - mu .* phi )\n",
    "end\n",
    "\n",
    "\n",
    "function price_profits(phi,mu,alpha)\n",
    "    diff =  5.\n",
    "    p = [1.,1.]\n",
    "    profits = [0.,0.]\n",
    "    \n",
    "    maxiter = 10\n",
    "    while (maxiter >=0) & (diff > 10e-7)\n",
    "        #set up objective\n",
    "        obj1(p0) = -1*mco_profits( [p0[1], p[2]], phi,mu,alpha)[1]\n",
    "        res1 = optimize(obj1, [p[1]] , BFGS())\n",
    "        \n",
    "        obj2(p0) = -1*mco_profits( [p[1], p0[1]] ,phi,mu,alpha)[2]\n",
    "        res2 = optimize(obj2,[p[2]], BFGS())\n",
    "        \n",
    "        #update loop variables\n",
    "        diff = max( abs( res1.minimizer[1] - p[1] ), abs( res2.minimizer[1] - p[2] ) )\n",
    "        maxiter = maxiter-1\n",
    "        \n",
    "        #update result\n",
    "        p = [res1.minimizer[1],res2.minimizer[1]]\n",
    "        profits =  [-1*res1.minimum, -1*res2.minimum]        \n",
    "    end\n",
    "    return p, profits\n",
    "end\n",
    "\n",
    "\n",
    "#arbitrary outside option... passive beliefs\n",
    "function nash_in_nash(phi, mu, alpha; mc=0., pi0=0.)\n",
    "    p, profits = price_profits(phi,mu,alpha)\n",
    "    s = market_shares(p,alpha)\n",
    "    return  profits .* (sum(mu .* s .* (phi .- mc) ) - pi0)\n",
    "end\n",
    "\n",
    "print( nash_in_nash( [1000.,1000.], [.5,.5] , .5 ;pi0=.55) )"
   ]
  },
  {
   "cell_type": "code",
   "execution_count": 66,
   "metadata": {},
   "outputs": [
    {
     "name": "stdout",
     "output_type": "stream",
     "text": [
      "[9.86094, 9.86094]\n"
     ]
    }
   ],
   "source": [
    "function bargain_helper(phi, mu, alpha)\n",
    "    \"\"\"solve each firm 1s optimization holding theta 2 fixed\"\"\"\n",
    "    \n",
    "    phi01 = simult_bargain1(mu[1], alpha)\n",
    "    pi01 = price_profits1(phi01,mu[1],alpha)[2][1]\n",
    "    phi02 = simult_bargain1(mu[2], alpha)\n",
    "    pi02 = price_profits1(phi02,mu[2],alpha)[2][1]\n",
    "    \n",
    "    obj1(phi0) = -1*nash_in_nash( [phi0[1], phi[2]] , mu, alpha;pi0=pi02)[1]\n",
    "    res1 =  optimize(obj1, [phi[1]], BFGS())\n",
    "\n",
    "    obj2(phi0) = -1*nash_in_nash( [phi[1], phi0[1]] , mu, alpha;pi0=pi01)[2]\n",
    "    res2 =  optimize(obj2, [phi[2]], BFGS())\n",
    "    \n",
    "    return [ res1.minimizer[1], res2.minimizer[1] ]\n",
    "end\n",
    "\n",
    "println( bargain_helper([13.,13.], [1.,1.] , .1) )"
   ]
  },
  {
   "cell_type": "code",
   "execution_count": 73,
   "metadata": {},
   "outputs": [
    {
     "name": "stdout",
     "output_type": "stream",
     "text": [
      "[1.99667, 1.99667]"
     ]
    }
   ],
   "source": [
    "function simult_bargain(mu, alpha)\n",
    "    \"\"\"solve the bargaining problems seperately and iterate for a solution\"\"\"       \n",
    "    \n",
    "    #loop variables\n",
    "    diff =  5.\n",
    "    phi = [3., 3.]\n",
    "\n",
    "    maxiter = 10\n",
    "    while (maxiter >=0) & (diff > 10e-7)\n",
    "        #seems as though there is a contraction mapping here, need to think more about why\n",
    "        phi_new = bargain_helper(phi, mu, alpha)\n",
    "        \n",
    "        #update loop variables\n",
    "        diff = maximum( abs.(phi - phi_new) )\n",
    "        maxiter = maxiter-1\n",
    "        \n",
    "        #update phi\n",
    "        phi = phi_new\n",
    "    end\n",
    "    return phi\n",
    "end\n",
    "    \n",
    "print(simult_bargain([.5,.5], 1.) )"
   ]
  },
  {
   "cell_type": "code",
   "execution_count": 74,
   "metadata": {},
   "outputs": [
    {
     "name": "stdout",
     "output_type": "stream",
     "text": [
      "\n",
      "\n",
      "0.5 & 3.99 & 0.0978 & 4.21 & 0.217 & 0.391 \\\\\\\\ \n",
      "0.6 & 3.33 & 0.0978 & 3.51 & 0.181 & 0.326 \\\\\\\\ \n",
      "0.7 & 2.85 & 0.0978 & 3.01 & 0.155 & 0.279 \\\\\\\\ \n",
      "0.8 & 2.5 & 0.0978 & 2.63 & 0.136 & 0.244 \\\\\\\\ \n",
      "0.9 & 2.22 & 0.0978 & 2.34 & 0.12 & 0.217 \\\\\\\\ \n",
      "1.0 & 2.0 & 0.0978 & 2.11 & 0.108 & 0.195 \\\\\\\\ \n",
      "\n"
     ]
    }
   ],
   "source": [
    "function make_table(steps, mu)\n",
    "    \"\"\"the argument is \n",
    "    steps = min_arg, max_arg, no_step \"\"\"\n",
    "\n",
    "    min_arg, max_arg, no_step = steps    \n",
    "    step_size = (max_arg - min_arg)/no_step\n",
    "    indep_var = min_arg:step_size:max_arg\n",
    "    result1 = []\n",
    "\n",
    "    for alpha=indep_var\n",
    "\n",
    "        phi = [0. 0.]\n",
    "        phi = simult_bargain(mu, alpha)\n",
    "        price, profits = price_profits(phi,mu,alpha)\n",
    "        share = market_shares(price, alpha)\n",
    "        hosp = sum(mu .* share .* phi)\n",
    "\n",
    "        append!(result1, [[alpha, phi[1], share[1], price[1], profits[1], hosp ]] ) \n",
    "    end\n",
    "    \n",
    "    println(\"\\n\")\n",
    "    for line =result1\n",
    "        print( round(line[1],sigdigits=3) )\n",
    "        for i=2:6\n",
    "            print( \" & \")\n",
    "            print(round(line[i],sigdigits=3) )\n",
    "        end\n",
    "        print(\" \\\\\\\\\\\\\\\\ \\n\")\n",
    "    end   \n",
    "    print('\\n')\n",
    "        \n",
    "   \n",
    "    \n",
    "\n",
    "end\n",
    "\n",
    "    \n",
    "make_table( (.5,1,5), [.5,.5] )"
   ]
  },
  {
   "cell_type": "code",
   "execution_count": null,
   "metadata": {},
   "outputs": [],
   "source": []
  }
 ],
 "metadata": {
  "kernelspec": {
   "display_name": "Julia 1.0.3",
   "language": "julia",
   "name": "julia-1.0"
  },
  "language_info": {
   "file_extension": ".jl",
   "mimetype": "application/julia",
   "name": "julia",
   "version": "1.0.3"
  }
 },
 "nbformat": 4,
 "nbformat_minor": 2
}
