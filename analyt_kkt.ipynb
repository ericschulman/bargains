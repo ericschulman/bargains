{
 "cells": [
  {
   "cell_type": "code",
   "execution_count": 35,
   "metadata": {},
   "outputs": [],
   "source": [
    "from sympy import *"
   ]
  },
  {
   "cell_type": "code",
   "execution_count": 36,
   "metadata": {},
   "outputs": [],
   "source": [
    "l = Symbol('\\ell')\n",
    "c = Symbol('\\lambda')\n",
    "mu1 = Symbol('\\mu1')\n",
    "theta1 = Symbol('\\theta1')\n",
    "\n",
    "eq1 = 3*l**2/32 - (l-mu1*theta1)*mu1*theta1"
   ]
  },
  {
   "cell_type": "code",
   "execution_count": 37,
   "metadata": {},
   "outputs": [],
   "source": [
    "#general purpose code for one insurer, 1 hospital\n",
    "\n",
    "theta1=Symbol('\\\\theta_1')\n",
    "lamb =Symbol('\\lambda')\n",
    "mu1 =Symbol('\\mu_1')\n",
    "ell = Symbol('\\\\ell')\n",
    "\n",
    "def price(theta1, mu1, lamb, ell):\n",
    "    return ell, (ell+ mu1*theta1)/2, ell - lamb\n",
    "\n",
    "def t(theta1, mu1, lamb, ell):\n",
    "    return 0, (ell - mu1*theta1)*(mu1*theta1)/(2*lamb) , 1\n",
    "\n",
    "def nb_objective(theta1, mu1, lamb, ell):\n",
    "\n",
    "    results = []\n",
    "    \n",
    "    #create relevant rpices/ market shares\n",
    "    ts = t(theta1, mu1, lamb, ell)\n",
    "    prices = price(theta1, mu1, lamb, ell)\n",
    "    \n",
    "    #alternate between all 3 conditions\n",
    "    for i in range(3):\n",
    "        term1 = ts[i]*(prices[i]-theta1*mu1)\n",
    "        term2 = ts[i]*theta1*mu1\n",
    "        results.append(term1*term2)\n",
    "    return results"
   ]
  },
  {
   "cell_type": "code",
   "execution_count": 40,
   "metadata": {},
   "outputs": [
    {
     "name": "stdout",
     "output_type": "stream",
     "text": [
      "start (1)----------\n",
      "0\n",
      "--- profits ---\n",
      "0 , \\ell/2 , 0\n",
      "0\n",
      "0\n",
      "-- objective ---\n",
      "0\n",
      "0\n",
      "end (1)-----------\n",
      "\n",
      "start (1)----------\n",
      "\\ell/(2*\\mu_1)\n",
      "--- profits ---\n",
      "\\ell**2/(8*\\lambda) , 3*\\ell/4 , \\ell/(2*\\mu_1)\n",
      "\\ell**3/(32*\\lambda)\n",
      "1/4\n",
      "-- objective ---\n",
      "\\ell**6/(512*\\lambda**2)\n",
      "1/8\n",
      "end (1)-----------\n",
      "\n",
      "start (1)----------\n",
      "\\ell/\\mu_1\n",
      "--- profits ---\n",
      "0 , \\ell , \\ell/\\mu_1\n",
      "0\n",
      "0\n",
      "-- objective ---\n",
      "0\n",
      "0\n",
      "end (1)-----------\n",
      "\n",
      "start (2)----------\n",
      "(\\ell - \\lambda)/(2*\\mu_1)\n",
      "--- profits ---\n",
      "1 , \\ell - \\lambda , (\\ell - \\lambda)/(2*\\mu_1)\n",
      "\\ell/2 - \\lambda/2\n",
      "1/2\n",
      "-- objective ---\n",
      "(\\ell - \\lambda)**2/4\n",
      "1/4\n",
      "end (2)-----------\n",
      "\n"
     ]
    }
   ],
   "source": [
    "obj = nb_objective(theta1,mu1,lamb,ell)\n",
    "\n",
    "#index based on KKT in proft max\n",
    "for i in range(3):\n",
    "    foc = diff(obj[i],theta1) #solve bargaining given each kkt\n",
    "    for sol in solve(foc,theta1):\n",
    "        print('start (%s)----------'%i)\n",
    "        print(sol)\n",
    "        value = nb_objective(sol, mu1, lamb, ell)[i]\n",
    "        p = price(sol,mu1,lamb,ell)[i] \n",
    "        s = t(sol,mu1,lamb,ell)[i]\n",
    "        print('--- profits ---')\n",
    "        profit = s*(p-mu1*sol)\n",
    "        print(s,',',p,',',sol)\n",
    "        print(simplify(profit))\n",
    "        print(simplify(profit.subs({mu1:.5,lamb:1,ell:2})))\n",
    "        print('-- objective ---')\n",
    "        print(simplify(value))\n",
    "        print(simplify(value.subs({mu1:.5,lamb:1,ell:2})))\n",
    "        print('end (%s)-----------\\n'%i)"
   ]
  },
  {
   "cell_type": "code",
   "execution_count": null,
   "metadata": {},
   "outputs": [],
   "source": []
  }
 ],
 "metadata": {
  "kernelspec": {
   "display_name": "Python 3",
   "language": "python",
   "name": "python3"
  },
  "language_info": {
   "codemirror_mode": {
    "name": "ipython",
    "version": 3
   },
   "file_extension": ".py",
   "mimetype": "text/x-python",
   "name": "python",
   "nbconvert_exporter": "python",
   "pygments_lexer": "ipython3",
   "version": "3.7.3"
  }
 },
 "nbformat": 4,
 "nbformat_minor": 2
}
