{
 "cells": [
  {
   "cell_type": "code",
   "execution_count": 12,
   "metadata": {},
   "outputs": [],
   "source": [
    "using Pkg\n",
    "\n",
    "#Pkg.add(\"Optim\")\n",
    "#Pkg.add(\"PyPlot\")\n",
    "#Pkg.add(\"LinearAlgebra\")\n",
    "\n",
    "using Optim\n",
    "using PyPlot\n",
    "using LinearAlgebra"
   ]
  },
  {
   "cell_type": "code",
   "execution_count": 52,
   "metadata": {},
   "outputs": [
    {
     "name": "stdout",
     "output_type": "stream",
     "text": [
      "[0.0141307, 0.0141307]"
     ]
    }
   ],
   "source": [
    "function market_shares(p,alpha)\n",
    "    return exp.(-alpha.*p) / (1 + sum( exp.(-alpha.*p) ) )\n",
    "end\n",
    "\n",
    "\n",
    "function mco_profits(p,phi,mu,alpha)\n",
    "    return market_shares(p,alpha) .* ( p - mu .* phi )\n",
    "end\n",
    "\n",
    "\n",
    "function price_profits(phi,mu,alpha)\n",
    "    diff =  5.\n",
    "    p = [1.,1.]\n",
    "    profits = [0.,0.]\n",
    "    \n",
    "    maxiter = 10\n",
    "    while (maxiter >=0) & (diff > 10e-7)\n",
    "        #set up objective\n",
    "        obj1(p0) = -1*mco_profits( [p0[1], p[2]], phi,mu,alpha)[1]\n",
    "        res1 = optimize(obj1, [p[1]] , BFGS())\n",
    "        \n",
    "        obj2(p0) = -1*mco_profits( [p[1], p0[1]] ,phi,mu,alpha)[2]\n",
    "        res2 = optimize(obj2,[p[2]], BFGS())\n",
    "        \n",
    "        #update loop variables\n",
    "        diff = max( abs( res1.minimizer[1] - p[1] ), abs( res2.minimizer[1] - p[2] ) )\n",
    "        maxiter = maxiter-1\n",
    "        \n",
    "        #update result\n",
    "        p = [res1.minimizer[1],res2.minimizer[1]]\n",
    "        profits =  [-1*res1.minimum, -1*res2.minimum]        \n",
    "    end\n",
    "    return p, profits\n",
    "end\n",
    "\n",
    "\n",
    "#arbitrary outside option... passive beliefs\n",
    "function nash_in_nash(phi, mu, alpha)\n",
    "    p, profits = price_profits(phi,mu,alpha)\n",
    "    s = market_shares(p,alpha)\n",
    "    return  profits .* sum(mu .* s .* phi)\n",
    "end\n",
    "\n",
    "print( nash_in_nash( [3,3], [.5,.5] , 1 ) )"
   ]
  },
  {
   "cell_type": "code",
   "execution_count": 53,
   "metadata": {},
   "outputs": [
    {
     "name": "stdout",
     "output_type": "stream",
     "text": [
      "[0.748419, 0.748419]\n"
     ]
    }
   ],
   "source": [
    "function bargain_helper(phi, mu, alpha)\n",
    "    \"\"\"solve each firm 1s optimization holding theta 2 fixed\"\"\"\n",
    "    \n",
    "    obj1(phi0) = -1*nash_in_nash( [phi0[1], phi[2]] , mu, alpha)[1]\n",
    "    res1 =  optimize(obj1, [phi[1]], BFGS())\n",
    "\n",
    "    obj2(phi0) = -1*nash_in_nash( [phi[1], phi0[1]] , mu, alpha)[2]\n",
    "    res2 =  optimize(obj2, [phi[2]], BFGS())\n",
    "    \n",
    "    return [ res1.minimizer[1], res2.minimizer[1] ]\n",
    "end\n",
    "\n",
    "println( bargain_helper([2.,2.],[.5,.5], 1) )"
   ]
  },
  {
   "cell_type": "code",
   "execution_count": 69,
   "metadata": {},
   "outputs": [
    {
     "name": "stdout",
     "output_type": "stream",
     "text": [
      "[1.71653, 1.71653]"
     ]
    }
   ],
   "source": [
    "function simult_bargain(mu, alpha)\n",
    "    \"\"\"solve the bargaining problems seperately and iterate for a solution\"\"\"       \n",
    "    \n",
    "    #loop variables\n",
    "    diff =  5.\n",
    "    phi = [1., 1.]\n",
    "\n",
    "    maxiter = 10\n",
    "    while (maxiter >=0) & (diff > 10e-7)\n",
    "        #seems as though there is a contraction mapping here, need to think more about why\n",
    "        phi_new = bargain_helper(phi, mu, alpha)\n",
    "        \n",
    "        #update loop variables\n",
    "        diff = maximum( abs.(phi - phi_new) )\n",
    "        maxiter = maxiter-1\n",
    "        \n",
    "        #update phi\n",
    "        phi = phi_new\n",
    "    end\n",
    "    return phi\n",
    "end\n",
    "    \n",
    "print(simult_bargain([.5,.5],.5))"
   ]
  },
  {
   "cell_type": "code",
   "execution_count": null,
   "metadata": {},
   "outputs": [],
   "source": [
    "function bargain_helper_seq(phi1, mu, alpha):\n",
    "    \"\"\" solve firm 1s optimization holding theta 2 fixed \"\"\"\n",
    "    obj1(phi2) = -1*nash_in_nash( [phi1, phi2[1] ] , mu, alpha)[1]\n",
    "    res =  optimize(obj1, [2.], BFGS())\n",
    "    return res.minimizer[1]\n",
    "end\n",
    "\n",
    "function seq_obj(phi1, mu, alpha):\n",
    "    \"\"\" theta1 is a guess for the first stage \"\"\"\n",
    "    \n",
    "    phi2 = bargain_helper_seq(phi1, mu2, mu1, cost, wtp)\n",
    "    \n",
    "    return nash_in_nash([phi1, phi2], mu, alpha)\n",
    "end"
   ]
  },
  {
   "cell_type": "code",
   "execution_count": null,
   "metadata": {},
   "outputs": [],
   "source": [
    "def seq_bargain(theta1, mu1, mu2, cost, wtp):\n",
    "    \"\"\"solve the bargaining problems seperately,\n",
    "    then solve for the solution\"\"\"   \n",
    "    #only compute no deal 1x for initial\n",
    "    result = minimize(seq_obj, theta1, args=(mu1, mu2, cost, wtp),\n",
    "                      method='Nelder-Mead', options={'disp': False})\n",
    "    \n",
    "    theta1 = result.x\n",
    "    theta2 = bargain_helper(theta1, theta1, mu2, mu1, cost, wtp)\n",
    "    return theta1, theta2\n",
    "\n",
    "print(seq_bargain(17,1,1,5,25))"
   ]
  }
 ],
 "metadata": {
  "kernelspec": {
   "display_name": "Julia 1.0.5",
   "language": "julia",
   "name": "julia-1.0"
  },
  "language_info": {
   "file_extension": ".jl",
   "mimetype": "application/julia",
   "name": "julia",
   "version": "1.0.5"
  }
 },
 "nbformat": 4,
 "nbformat_minor": 2
}
