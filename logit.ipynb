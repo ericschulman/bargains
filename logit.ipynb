{
 "cells": [
  {
   "cell_type": "code",
   "execution_count": 1,
   "metadata": {},
   "outputs": [],
   "source": [
    "using Pkg\n",
    "\n",
    "#Pkg.add(\"Optim\")\n",
    "#Pkg.add(\"PyPlot\")\n",
    "#Pkg.add(\"LinearAlgebra\")\n",
    "\n",
    "using Optim\n",
    "using PyPlot\n",
    "using LinearAlgebra"
   ]
  },
  {
   "cell_type": "code",
   "execution_count": 2,
   "metadata": {},
   "outputs": [
    {
     "name": "stdout",
     "output_type": "stream",
     "text": [
      "[0.0141307, 0.0141307]"
     ]
    }
   ],
   "source": [
    "function market_shares(p,alpha)\n",
    "    return exp.(-alpha.*p) / (1 + sum( exp.(-alpha.*p) ) )\n",
    "end\n",
    "\n",
    "\n",
    "function mco_profits(p,phi,mu,alpha)\n",
    "    return market_shares(p,alpha) .* ( p - mu .* phi )\n",
    "end\n",
    "\n",
    "\n",
    "function price_profits(phi,mu,alpha)\n",
    "    diff =  5.\n",
    "    p = [1.,1.]\n",
    "    profits = [0.,0.]\n",
    "    \n",
    "    maxiter = 10\n",
    "    while (maxiter >=0) & (diff > 10e-7)\n",
    "        #set up objective\n",
    "        obj1(p0) = -1*mco_profits( [p0[1], p[2]], phi,mu,alpha)[1]\n",
    "        res1 = optimize(obj1, [p[1]] , BFGS())\n",
    "        \n",
    "        obj2(p0) = -1*mco_profits( [p[1], p0[1]] ,phi,mu,alpha)[2]\n",
    "        res2 = optimize(obj2,[p[2]], BFGS())\n",
    "        \n",
    "        #update loop variables\n",
    "        diff = max( abs( res1.minimizer[1] - p[1] ), abs( res2.minimizer[1] - p[2] ) )\n",
    "        maxiter = maxiter-1\n",
    "        \n",
    "        #update result\n",
    "        p = [res1.minimizer[1],res2.minimizer[1]]\n",
    "        profits =  [-1*res1.minimum, -1*res2.minimum]        \n",
    "    end\n",
    "    return p, profits\n",
    "end\n",
    "\n",
    "\n",
    "#arbitrary outside option... passive beliefs\n",
    "function nash_in_nash(phi, mu, alpha; mc=0., pi0=0.)\n",
    "    p, profits = price_profits(phi,mu,alpha)\n",
    "    s = market_shares(p,alpha)\n",
    "    return  profits .* (sum(mu .* s .* (phi .- mc) ) - pi0)\n",
    "end\n",
    "\n",
    "print( nash_in_nash( [3,3], [.5,.5] , 1 ) )"
   ]
  },
  {
   "cell_type": "code",
   "execution_count": 3,
   "metadata": {},
   "outputs": [
    {
     "name": "stdout",
     "output_type": "stream",
     "text": [
      "[0.748419, 0.748419]\n"
     ]
    }
   ],
   "source": [
    "function bargain_helper(phi, mu, alpha)\n",
    "    \"\"\"solve each firm 1s optimization holding theta 2 fixed\"\"\"\n",
    "    \n",
    "    obj1(phi0) = -1*nash_in_nash( [phi0[1], phi[2]] , mu, alpha)[1]\n",
    "    res1 =  optimize(obj1, [phi[1]], BFGS())\n",
    "\n",
    "    obj2(phi0) = -1*nash_in_nash( [phi[1], phi0[1]] , mu, alpha)[2]\n",
    "    res2 =  optimize(obj2, [phi[2]], BFGS())\n",
    "    \n",
    "    return [ res1.minimizer[1], res2.minimizer[1] ]\n",
    "end\n",
    "\n",
    "println( bargain_helper([2.,2.],[.5,.5], 1) )"
   ]
  },
  {
   "cell_type": "code",
   "execution_count": 4,
   "metadata": {},
   "outputs": [
    {
     "name": "stdout",
     "output_type": "stream",
     "text": [
      "[0.572179, 0.572179]"
     ]
    }
   ],
   "source": [
    "function simult_bargain(mu, alpha)\n",
    "    \"\"\"solve the bargaining problems seperately and iterate for a solution\"\"\"       \n",
    "    \n",
    "    #loop variables\n",
    "    diff =  5.\n",
    "    phi = [1., 1.]\n",
    "\n",
    "    maxiter = 10\n",
    "    while (maxiter >=0) & (diff > 10e-7)\n",
    "        #seems as though there is a contraction mapping here, need to think more about why\n",
    "        phi_new = bargain_helper(phi, mu, alpha)\n",
    "        \n",
    "        #update loop variables\n",
    "        diff = maximum( abs.(phi - phi_new) )\n",
    "        maxiter = maxiter-1\n",
    "        \n",
    "        #update phi\n",
    "        phi = phi_new\n",
    "    end\n",
    "    return phi\n",
    "end\n",
    "    \n",
    "print(simult_bargain([.5,.5], 1.5) )"
   ]
  },
  {
   "cell_type": "code",
   "execution_count": 5,
   "metadata": {},
   "outputs": [
    {
     "data": {
      "text/plain": [
       "-0.0008447225201653179"
      ]
     },
     "execution_count": 5,
     "metadata": {},
     "output_type": "execute_result"
    }
   ],
   "source": [
    "function bargain_helper_seq(phi1, mu, alpha)\n",
    "    \"\"\" solve firm 1s optimization holding theta 2 fixed \"\"\"\n",
    "    obj1(phi2) = -1*nash_in_nash( [ phi1, phi2[1] ] , mu, alpha)[2]\n",
    "    res =  optimize(obj1, [2.], BFGS())\n",
    "    return res.minimizer[1]\n",
    "end\n",
    "\n",
    "\n",
    "function seq_obj(phi1, mu, alpha)\n",
    "    \"\"\" theta1 is a guess for the first stage \"\"\"\n",
    "    phi2 = bargain_helper_seq(phi1, mu, alpha) \n",
    "    pi10 = mu[1]*phi1*exp(-alpha * phi1)/(1+exp(-alpha *phi1))\n",
    "    return nash_in_nash([phi1, phi2], mu, alpha, pi0=pi10)[1]\n",
    "end\n",
    "\n",
    "bargain_helper_seq(1, [.5,.5], 1)\n",
    "\n",
    "seq_obj(1, [.5,.5], 1)"
   ]
  },
  {
   "cell_type": "code",
   "execution_count": 6,
   "metadata": {},
   "outputs": [
    {
     "name": "stdout",
     "output_type": "stream",
     "text": [
      "[-7016.16, 10295.6]"
     ]
    }
   ],
   "source": [
    "function seq_bargain(mu, alpha)\n",
    "    \"\"\"solve the bargaining problems seperately,\n",
    "    then solve for the solution\"\"\"\n",
    "    \n",
    "    obj1(phi10) = -1*seq_obj(phi10[1], mu, alpha)\n",
    "    res = optimize(obj1, [2.], BFGS())\n",
    "    phi1  = res.minimizer[1]\n",
    "    phi2 = bargain_helper([phi1,2.], mu, alpha)[1]\n",
    "    return [phi1, phi2]\n",
    "end\n",
    "\n",
    "print(seq_bargain([.5,.5], .1))"
   ]
  },
  {
   "cell_type": "code",
   "execution_count": 11,
   "metadata": {
    "scrolled": false
   },
   "outputs": [
    {
     "name": "stdout",
     "output_type": "stream",
     "text": [
      "[0.5, 0.6, 0.7, 0.8, 0.9, 1.0]\n",
      "Simultaneous\n",
      "\n",
      "0.5 & 1.72 & 0.144 & 3.19 & 0.337 & 0.247 \\\\\\\\ \n",
      "0.6 & 1.43 & 0.144 & 2.66 & 0.281 & 0.206 \\\\\\\\ \n",
      "0.7 & 1.23 & 0.144 & 2.28 & 0.24 & 0.177 \\\\\\\\ \n",
      "0.8 & 1.07 & 0.144 & 2.0 & 0.21 & 0.155 \\\\\\\\ \n",
      "0.9 & 0.954 & 0.144 & 1.77 & 0.187 & 0.137 \\\\\\\\ \n",
      "1.0 & 0.858 & 0.144 & 1.6 & 0.168 & 0.124 \\\\\\\\ \n",
      "\n",
      "0.5 & 1.72 & 0.144 & 3.19 & 0.337 & 0.247 \\\\\\\\ \n",
      "0.6 & 1.43 & 0.144 & 2.66 & 0.281 & 0.206 \\\\\\\\ \n",
      "0.7 & 1.23 & 0.144 & 2.28 & 0.24 & 0.177 \\\\\\\\ \n",
      "0.8 & 1.07 & 0.144 & 2.0 & 0.21 & 0.155 \\\\\\\\ \n",
      "0.9 & 0.954 & 0.144 & 1.77 & 0.187 & 0.137 \\\\\\\\ \n",
      "1.0 & 0.858 & 0.144 & 1.6 & 0.168 & 0.124 \\\\\\\\ \n"
     ]
    },
    {
     "name": "stderr",
     "output_type": "stream",
     "text": [
      "┌ Warning: Linesearch failed, using alpha = 1.081462365426491e-12 and exiting optimization.\n",
      "│ The linesearch exited with message:\n",
      "│ Linesearch failed to converge, reached maximum iterations 50.\n",
      "└ @ Optim /home/erichschulman/.julia/packages/Optim/Agd3B/src/utilities/perform_linesearch.jl:47\n"
     ]
    },
    {
     "name": "stdout",
     "output_type": "stream",
     "text": [
      "\n",
      "Sequential\n",
      "\n",
      "0.5 & 2.0 & 0.137 & 3.32 & 0.316 & 0.258 \\\\\\\\ \n",
      "0.6 & 5.07 & 0.059 & 4.31 & 0.104 & 0.256 \\\\\\\\ \n",
      "0.7 & 4.36 & 0.0586 & 3.7 & 0.089 & 0.217 \\\\\\\\ \n",
      "0.8 & 3.8 & 0.0589 & 3.23 & 0.0782 & 0.189 \\\\\\\\ \n",
      "0.9 & 3.37 & 0.0591 & 2.87 & 0.0698 & 0.167 \\\\\\\\ \n",
      "1.0 & 3.01 & 0.0595 & 2.57 & 0.0633 & 0.15 \\\\\\\\ \n",
      "\n",
      "0.5 & 1.66 & 0.147 & 3.17 & 0.344 & 0.258 \\\\\\\\ \n",
      "0.6 & 1.33 & 0.159 & 2.65 & 0.316 & 0.256 \\\\\\\\ \n",
      "0.7 & 1.11 & 0.161 & 2.26 & 0.274 & 0.217 \\\\\\\\ \n",
      "0.8 & 0.952 & 0.162 & 1.97 & 0.241 & 0.189 \\\\\\\\ \n",
      "0.9 & 0.836 & 0.162 & 1.74 & 0.215 & 0.167 \\\\\\\\ \n",
      "1.0 & 0.748 & 0.162 & 1.57 & 0.194 & 0.15 \\\\\\\\ \n"
     ]
    }
   ],
   "source": [
    "function make_table(steps, mu)\n",
    "    \"\"\"the argument is \n",
    "    steps = min_arg, max_arg, no_step \"\"\"\n",
    "    \n",
    "    min_arg, max_arg, no_step = steps\n",
    "    \n",
    "    cols = [\"eq_type\",\"listprice\",\"distance_cost\",\"mc1\",\"mc2\",\"profit1\",\"profit2\",\"hosp_profit\",\"share1\",\"share2\"]\n",
    "    \n",
    "    step_size = (max_arg - min_arg)/no_step\n",
    "    \n",
    "    indep_var = min_arg:step_size:max_arg\n",
    "    \n",
    "    for eq_type= [\"Simultaneous\", \"Sequential\"]\n",
    "        \n",
    "        result1 = []\n",
    "        result2 = []\n",
    "        \n",
    "        for alpha=indep_var\n",
    "            \n",
    "            phi = [0.,0.]\n",
    "            \n",
    "            if eq_type == \"Simultaneous\"\n",
    "                phi = simult_bargain(mu, alpha)\n",
    "            else\n",
    "                phi = seq_bargain(mu, alpha)\n",
    "            end\n",
    "\n",
    "\n",
    "            price, profits = price_profits(phi,mu,alpha)\n",
    "            share = market_shares(price, alpha)\n",
    "            hosp = sum(mu .* share .* phi)\n",
    "            \n",
    "            append!(result1, [[alpha, phi[1], share[1], price[1], profits[1], hosp ]] ) \n",
    "            append!(result2, [[alpha, phi[2], share[2], price[2], profits[2], hosp]] ) \n",
    "        end\n",
    "        \n",
    "        println(\"\\n\",eq_type, \"\\n\" )\n",
    "        for line =result1\n",
    "            print( round(line[1],sigdigits=3) )\n",
    "            for i=2:6\n",
    "                print( \" & \")\n",
    "                print(round(line[i],sigdigits=3) )\n",
    "            end\n",
    "            print(\" \\\\\\\\\\\\\\\\ \\n\")\n",
    "        end   \n",
    "        print('\\n')\n",
    "        \n",
    "        for line =result2\n",
    "            print( round(line[1],sigdigits=3) )\n",
    "            for i=2:6\n",
    "                print( \" & \") \n",
    "                print(round(line[i],sigdigits=3) )\n",
    "            end\n",
    "            print(\" \\\\\\\\\\\\\\\\ \\n\")\n",
    "        end\n",
    "    end\n",
    "    \n",
    "\n",
    "end\n",
    "\n",
    "    \n",
    "make_table( (.5,1,5), [.5,.5] )"
   ]
  },
  {
   "cell_type": "code",
   "execution_count": null,
   "metadata": {},
   "outputs": [],
   "source": []
  }
 ],
 "metadata": {
  "kernelspec": {
   "display_name": "Julia 1.0.4",
   "language": "julia",
   "name": "julia-1.0"
  },
  "language_info": {
   "file_extension": ".jl",
   "mimetype": "application/julia",
   "name": "julia",
   "version": "1.0.4"
  }
 },
 "nbformat": 4,
 "nbformat_minor": 2
}
