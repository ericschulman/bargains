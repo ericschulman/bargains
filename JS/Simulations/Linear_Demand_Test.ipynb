{
 "metadata": {
  "language_info": {
   "codemirror_mode": {
    "name": "ipython",
    "version": 3
   },
   "file_extension": ".py",
   "mimetype": "text/x-python",
   "name": "python",
   "nbconvert_exporter": "python",
   "pygments_lexer": "ipython3",
   "version": 3
  },
  "orig_nbformat": 2
 },
 "nbformat": 4,
 "nbformat_minor": 2,
 "cells": [
  {
   "cell_type": "code",
   "execution_count": null,
   "metadata": {},
   "outputs": [],
   "source": [
    "#   This program details the approach to solving for the optimal reimbursements (among other things) for the insurers in the simultaneous bargaining case with linear demand and no recapture. The way things are defined here allows for both active or passive beliefs. This is a test document to work through the approach associated with taking this simulation approach."
   ]
  },
  {
   "cell_type": "code",
   "execution_count": null,
   "metadata": {},
   "outputs": [],
   "source": [
    "import numpy as np\n",
    "from scipy.optimize import minimize,fsolve\n",
    "import matplotlib.pyplot as plt\n",
    "import pandas as pd"
   ]
  },
  {
   "cell_type": "code",
   "execution_count": null,
   "metadata": {},
   "outputs": [],
   "source": [
    "#   Computing the price $p_i$ offered by each insurer $i$. Since this is the linear demand case, we already have these functional forms, but in the logit case, this likely needs additional details. As calculated in the paper in closed form, these assume interior solutions.\n",
    "def calc_price(phi1, phi2, lam, v):\n",
    "    p1 = (2 * phi1 + phi2) / 3. + lam\n",
    "    p2 = (2 * phi2 + phi1) / 3. + lam\n",
    "    return p1, p2\n",
    "#   Computing the market share $s_i$ captured by each insurer $i$. We begin by assuming exogenous recapture, which we no longer think is the case. (Namely, this portion implements Equation (9) from the current draft, which assumes the Hotelling solution for market share.) I'll pursue endogenous recapture after successfully replicating this code. \n",
    "def calc_s(phi1, phi2, lam, v):\n",
    "    p1, p2 = calc_price(phi1, phi2, lam, v)\n",
    "    t_hat = .5 + (p2 - p1) / (2. * lam)\n",
    "    return t_hat\n",
    "#   Computing the profits for each insurer. Since we are looking "
   ]
  }
 ]
}