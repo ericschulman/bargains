{
 "cells": [
  {
   "cell_type": "code",
   "execution_count": 6,
   "metadata": {},
   "outputs": [],
   "source": [
    "import numpy as np\n",
    "import matplotlib.pyplot as plt\n",
    "import statsmodels.api as sm\n",
    "from statsmodels.sandbox.regression.gmm import GMM\n",
    "import pandas as pd"
   ]
  },
  {
   "cell_type": "code",
   "execution_count": 7,
   "metadata": {},
   "outputs": [
    {
     "name": "stdout",
     "output_type": "stream",
     "text": [
      "     alpha      hosp      phi1        s1        p1  profits1      phi2  \\\n",
      "0      0.7  0.171965  2.955353  0.145469  2.262831  0.243189  2.955353   \n",
      "1      0.7  0.167840  2.860922  0.146666  2.246290  0.245534  2.860922   \n",
      "2      0.7  0.193784  3.491231  0.138765  2.356993  0.230176  3.491231   \n",
      "3      0.7  0.234674  4.739837  0.123778  2.578343  0.201804  4.739837   \n",
      "4      0.7  0.201300  3.692583  0.136287  2.392504  0.225416  3.692583   \n",
      "..     ...       ...       ...       ...       ...       ...       ...   \n",
      "995    0.7  0.168828  2.883359  0.146381  2.250219  0.244976  2.883359   \n",
      "996    0.7  0.170660  2.925276  0.145850  2.257561  0.243934  2.925276   \n",
      "997    0.7  0.175154  3.029730  0.144529  2.275870  0.241353  3.029730   \n",
      "998    0.7  0.179222  3.126437  0.143312  2.292838  0.238980  3.126437   \n",
      "999    0.7  0.140806  2.284816  0.154067  2.145716  0.260182  2.284816   \n",
      "\n",
      "           s2        p2  profits2  Unnamed: 10  \n",
      "0    0.145469  2.262831  0.243189          NaN  \n",
      "1    0.146666  2.246290  0.245534          NaN  \n",
      "2    0.138765  2.356993  0.230176          NaN  \n",
      "3    0.123778  2.578343  0.201804          NaN  \n",
      "4    0.136287  2.392504  0.225416          NaN  \n",
      "..        ...       ...       ...          ...  \n",
      "995  0.146381  2.250219  0.244976          NaN  \n",
      "996  0.145850  2.257561  0.243934          NaN  \n",
      "997  0.144529  2.275870  0.241353          NaN  \n",
      "998  0.143312  2.292838  0.238980          NaN  \n",
      "999  0.154067  2.145716  0.260182          NaN  \n",
      "\n",
      "[1000 rows x 11 columns]\n"
     ]
    }
   ],
   "source": [
    "simult_data = pd.read_csv('data/Simultaneous.csv')\n",
    "print(simult_data)"
   ]
  },
  {
   "cell_type": "code",
   "execution_count": 30,
   "metadata": {},
   "outputs": [
    {
     "name": "stdout",
     "output_type": "stream",
     "text": [
      "Optimization terminated successfully.\n",
      "         Current function value: 0.000000\n",
      "         Iterations: 31\n",
      "         Function evaluations: 56\n",
      "Optimization terminated successfully.\n",
      "         Current function value: 0.000015\n",
      "         Iterations: 9\n",
      "         Function evaluations: 18\n",
      "                            Simlut_Bargain Results                            \n",
      "==============================================================================\n",
      "Dep. Variable:                   phi1   Hansen J:                      0.01534\n",
      "Model:                 Simlut_Bargain   Prob (Hansen J):                   nan\n",
      "Method:                           GMM                                         \n",
      "Date:                Tue, 03 Mar 2020                                         \n",
      "Time:                        10:15:31                                         \n",
      "No. Observations:                1000                                         \n",
      "==============================================================================\n",
      "                 coef    std err          z      P>|z|      [0.025      0.975]\n",
      "------------------------------------------------------------------------------\n",
      "phi1        2.528e-06   1.77e-06      1.432      0.152   -9.33e-07    5.99e-06\n",
      "phi2       -2.844e-06   1.99e-06     -1.432      0.152   -6.74e-06    1.05e-06\n",
      "==============================================================================\n"
     ]
    }
   ],
   "source": [
    "class Simlut_Bargain(GMM):\n",
    "    \n",
    "    def __init__(self, bargains=None, *args, **kwds):\n",
    "        # set appropriate counts for moment conditions and parameters\n",
    "        super(Simlut_Bargain, self).__init__(*args, **kwds)\n",
    "        self.bargains = bargains\n",
    "        self.nmoms = 2\n",
    "        self.k_params = 2\n",
    "        \n",
    "            \n",
    "    def momcond(self, params):\n",
    "        #unwrap stuff\n",
    "        g = np.array( [self.bargains['phi1']*params[0],  self.bargains['phi1']*params[1] ])\n",
    "        return g.transpose()\n",
    "    \n",
    "    \n",
    "model = Simlut_Bargain(endog=simult_data['phi1'],exog=simult_data[['phi1','phi2']],instrument=simult_data[['phi1','phi2']],\n",
    "                       bargains=simult_data)\n",
    "\n",
    "result = model.fit(np.array([.1,.1]), maxiter=2, optim_method='nm',  wargs=dict(centered=False))\n",
    "\n",
    "print(result.summary())"
   ]
  },
  {
   "cell_type": "code",
   "execution_count": null,
   "metadata": {},
   "outputs": [],
   "source": []
  }
 ],
 "metadata": {
  "kernelspec": {
   "display_name": "Python 3",
   "language": "python",
   "name": "python3"
  },
  "language_info": {
   "codemirror_mode": {
    "name": "ipython",
    "version": 3
   },
   "file_extension": ".py",
   "mimetype": "text/x-python",
   "name": "python",
   "nbconvert_exporter": "python",
   "pygments_lexer": "ipython3",
   "version": "3.7.4"
  }
 },
 "nbformat": 4,
 "nbformat_minor": 2
}
