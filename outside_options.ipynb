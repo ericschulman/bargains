{
 "cells": [
  {
   "cell_type": "code",
   "execution_count": 1,
   "metadata": {},
   "outputs": [],
   "source": [
    "import numpy as np\n",
    "from scipy.optimize import minimize\n",
    "from scipy.optimize import fsolve\n",
    "from matplotlib import pyplot as plt"
   ]
  },
  {
   "cell_type": "code",
   "execution_count": 2,
   "metadata": {},
   "outputs": [],
   "source": [
    "def calc_price(theta,cost,list_price,mu):\n",
    "    \"\"\"compute each insurer's price (assumes interior solution)\"\"\"\n",
    "    theta1, theta2 = theta\n",
    "    mu1, mu2 = mu\n",
    "    p1 = (2.*theta1*mu1+theta2*mu2)/3. + cost\n",
    "    p2 = (2.*theta2*mu2+theta1*mu1)/3. + cost\n",
    "    return np.array([p1,p2])\n",
    "  \n",
    "    \n",
    "def calc_t(theta,cost,list_price,mu):\n",
    "    \"\"\"compute the proportion of people choosing each insurer\"\"\"\n",
    "    p1,p2 = calc_price(theta,cost,list_price,mu)\n",
    "    t = (list_price - p1)/cost,(list_price - p2)/cost\n",
    "    t = np.clip(t ,0,1) #ensure we are in the right ranges\n",
    "    t_hat = .5 + (p2 - p1)/(2.*cost)\n",
    "    t_hat = np.clip([t_hat,1-t_hat],0,1)\n",
    "    if t[0] >= 1-t[1]: t = t_hat #prevent overlap\n",
    "    return t\n",
    "\n",
    "\n",
    "def calc_profits(theta,cost,list_price,mu):\n",
    "    \"\"\"compute profits for each firm\"\"\"\n",
    "    p = calc_price(theta,cost,list_price,mu)\n",
    "    t = calc_t(theta,cost,list_price,mu)\n",
    "    return t*np.maximum(p-theta*mu,0)\n",
    "\n",
    "\n",
    "def calc_hosp(theta,cost,list_price,mu):\n",
    "    \"\"\"compute profits for hospital\"\"\"\n",
    "    t = calc_t(theta,cost,list_price,mu)\n",
    "    return np.tile((mu*theta*t).sum(),2)"
   ]
  },
  {
   "cell_type": "code",
   "execution_count": 3,
   "metadata": {},
   "outputs": [],
   "source": [
    "def outside_option(theta, cost,list_price,mu):\n",
    "    \"\"\"compute each firms outside option (i.e. list price)\"\"\"\n",
    "    outside1 =  np.array((list_price,theta[1]))\n",
    "    outside2 =  np.array((theta[0],list_price))\n",
    "    \n",
    "    no_deal1 = calc_profits(outside1,cost,list_price,mu)\n",
    "    no_deal2 = calc_profits(outside2,cost,list_price,mu)\n",
    "\n",
    "    return np.array([no_deal1[0], no_deal2[1]]) \n",
    "\n",
    "\n",
    "def nash_bargaining(theta,cost,list_price,beta,mu, no_deal=None):\n",
    "    \"\"\"compute the nash bargaining objective for both firms\"\"\"\n",
    "    #print 'initial theta: %s'%theta\n",
    "    theta = np.maximum(np.minimum(theta,list_price),0) #restrict 0 < theta < l\n",
    "    profits = calc_profits(theta,cost,list_price,mu)\n",
    "    hosp_profit = calc_hosp(theta,cost,list_price,mu)\n",
    "    if np.amax([no_deal==None]): no_deal = outside_option(theta, cost,list_price,mu)\n",
    "    return np.maximum(profits -  no_deal,0)**.5 *np.maximum(hosp_profit,0)**.5"
   ]
  },
  {
   "cell_type": "code",
   "execution_count": 4,
   "metadata": {},
   "outputs": [],
   "source": [
    "def nash_in_nash(theta_init, theta_fixed, cost,list_price,beta,mu, no_deal):\n",
    "    \"\"\"solve the simultaneous objective, holding theta 2 fixed\"\"\"\n",
    "    theta = np.concatenate([theta_init, [theta_fixed]])\n",
    "    return -nash_bargaining(theta,cost,list_price,beta,mu, no_deal)[0]\n",
    "\n",
    "\n",
    "def bargain_helper(theta_init, theta_fixed, cost,list_price,beta,mu):\n",
    "    \"\"\"solve each firm 1s optimization holding theta 2 fixed\"\"\"\n",
    "    no_deal = outside_option([theta_fixed,theta_fixed],cost,list_price,mu)\n",
    "    result = minimize(nash_in_nash, theta_init, args=(theta_fixed, cost,list_price,beta,mu,no_deal),\n",
    "                      method='Nelder-Mead', options={'disp': False})\n",
    "    return result.x\n",
    "\n",
    "\n",
    "def simult_bargain(theta_init,cost,list_price,beta,mu):\n",
    "    \"\"\"solve the bargaining problems seperately and iterate for a solution\"\"\"       \n",
    "    \n",
    "    #loop variables\n",
    "    theta = theta_init\n",
    "    diff =  np.abs(np.max(theta - 0)) \n",
    "    \n",
    "    maxiter = 10\n",
    "    while maxiter >=0 and diff > 10e-7:\n",
    "        #seems as though there is a contraction mapping here, need to think more about why\n",
    "        theta_init = theta\n",
    "        theta1 = bargain_helper(theta[0], theta[1], cost,list_price,beta,mu)\n",
    "        theta2 = bargain_helper(theta[1], theta1[0], cost,list_price,beta[::-1],mu[::-1])\n",
    "        #update loop variables\n",
    "        theta = np.concatenate((theta1,theta2))\n",
    "        diff = np.abs(np.max(theta - theta_init))\n",
    "        maxiter = maxiter-1\n",
    "        \n",
    "    return np.concatenate((theta1, theta2))\n"
   ]
  },
  {
   "cell_type": "code",
   "execution_count": 5,
   "metadata": {},
   "outputs": [],
   "source": [
    "def outside_seq(cost, list_price, beta, mu):\n",
    "    \"\"\"outside option for first mover\"\"\"\n",
    "    outside_theta =  bargain_helper(list_price, list_price, cost, list_price, beta[::-1],mu[::-1])\n",
    "    no_deal = calc_profits(np.array([list_price,outside_theta]),cost,list_price,mu)\n",
    "    return no_deal\n",
    "\n",
    "\n",
    "def seq_obj(theta_init, cost,list_price,beta,mu,no_deal):\n",
    "    \"\"\" theta2 in the second stage \"\"\"\n",
    "    theta_fixed = bargain_helper(theta_init, theta_init[0], cost, list_price, beta[::-1],mu[::-1])\n",
    "    return nash_in_nash(theta_init, theta_fixed[0], cost,list_price,beta,mu, no_deal)\n",
    "\n",
    "\n",
    "def seq_bargain(theta_init,cost,list_price,beta,mu):\n",
    "    \"\"\"solve the bargaining problems seperately,\n",
    "    then solve for the solution\"\"\"   \n",
    "    #only compute no deal 1x for initial\n",
    "    no_deal =  outside_seq(cost, list_price, beta, mu)\n",
    "    result = minimize(seq_obj, theta_init[0], args=(cost,list_price,beta,mu, no_deal),\n",
    "                      method='Nelder-Mead', options={'disp': False})\n",
    "    theta1 = result.x\n",
    "    theta2 = bargain_helper(theta_init[0], theta1[0], cost, list_price, beta[::-1],mu[::-1])\n",
    "    return np.concatenate((theta1, theta2))"
   ]
  },
  {
   "cell_type": "code",
   "execution_count": 8,
   "metadata": {},
   "outputs": [
    {
     "data": {
      "image/png": "[encoded data removed]",
      "text/plain": [
       "<Figure size 432x288 with 1 Axes>"
      ]
     },
     "metadata": {},
     "output_type": "display_data"
    }
   ],
   "source": [
    "#Initialize some parameters\n",
    "\n",
    "BETA = np.array([.5,.5])\n",
    "MU = np.array([.5,.5])\n",
    "THETA = np.array([.5, .5])\n",
    "LIST = 1.\n",
    "COST = 1.\n",
    "lambdas = np.arange(10,15,.5)\n",
    "\n",
    "#outside option for firm 1\n",
    "outsides1 = [] \n",
    "for lamb in lambdas:\n",
    "    o1 = outside_seq(lamb, 70, BETA, MU)\n",
    "    outsides1.append(o1[0])\n",
    "outsides1 = np.array(outsides1)\n",
    "plt.plot(lambdas,outsides1, label='Firm 1 Outside Option')\n",
    "\n",
    "\n",
    "#outside option for firm 2\n",
    "outsides2 = [] \n",
    "for lamb in lambdas:\n",
    "    theta1_outside = seq_bargain(np.array([10.0]),lamb,70.,BETA, MU)\n",
    "    o2 = calc_profits(np.array([theta1_outside[0],70.0]),lamb,70., MU)\n",
    "    outsides2.append(o2[1])\n",
    "outsides2 = np.array(outsides2)\n",
    "plt.plot(lambdas,outsides2, label='Firm 2 Outside Option')\n",
    "\n",
    "\n",
    "plt.xlabel('Distance Costs')\n",
    "plt.ylabel('Outside Option')\n",
    "plt.legend()\n",
    "plt.show()"
   ]
  },
  {
   "cell_type": "code",
   "execution_count": 7,
   "metadata": {},
   "outputs": [
    {
     "data": {
      "image/png": "[encoded data removed]",
      "text/plain": [
       "<Figure size 432x288 with 1 Axes>"
      ]
     },
     "metadata": {},
     "output_type": "display_data"
    }
   ],
   "source": [
    "lambdas = np.arange(10,15,.5)\n",
    "no_deals = []\n",
    "\n",
    "for lamb in lambdas:\n",
    "    outside_theta =  bargain_helper(70., 70., lamb, 70., BETA[::-1],MU[::-1])\n",
    "    no_deal = calc_profits(np.array([70.,outside_theta]),lamb,70.,MU)\n",
    "    no_deals.append(no_deal)\n",
    "\n",
    "no_deals = np.array(no_deals)\n",
    "plt.plot(lambdas, no_deals[:,0], label='Firm 1 Outside Option')\n",
    "plt.plot(lambdas, no_deals[:,1], label='Firm 2 Outside Option')\n",
    "\n",
    "plt.legend()\n",
    "plt.show()"
   ]
  },
  {
   "cell_type": "code",
   "execution_count": null,
   "metadata": {},
   "outputs": [],
   "source": []
  },
  {
   "cell_type": "code",
   "execution_count": null,
   "metadata": {},
   "outputs": [],
   "source": []
  },
  {
   "cell_type": "code",
   "execution_count": null,
   "metadata": {},
   "outputs": [],
   "source": []
  },
  {
   "cell_type": "code",
   "execution_count": null,
   "metadata": {},
   "outputs": [],
   "source": []
  }
 ],
 "metadata": {
  "kernelspec": {
   "display_name": "Python 2",
   "language": "python",
   "name": "python2"
  },
  "language_info": {
   "codemirror_mode": {
    "name": "ipython",
    "version": 2
   },
   "file_extension": ".py",
   "mimetype": "text/x-python",
   "name": "python",
   "nbconvert_exporter": "python",
   "pygments_lexer": "ipython2",
   "version": "2.7.15"
  }
 },
 "nbformat": 4,
 "nbformat_minor": 2
}
