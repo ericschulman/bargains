{
 "cells": [
  {
   "cell_type": "code",
   "execution_count": 1,
   "metadata": {},
   "outputs": [],
   "source": [
    "from sympy import *"
   ]
  },
  {
   "cell_type": "code",
   "execution_count": 2,
   "metadata": {},
   "outputs": [
    {
     "name": "stdout",
     "output_type": "stream",
     "text": [
      "\\ell/2 + \\mu_1*\\theta_1/2\n"
     ]
    }
   ],
   "source": [
    "#general purpose code for interior edge\n",
    "\n",
    "theta1=Symbol('\\\\theta_1')\n",
    "theta2 =Symbol('\\\\theta_2')\n",
    "lamb =Symbol('\\lambda')\n",
    "ell = Symbol('\\ell')\n",
    "mu1 =Symbol('\\mu_1')\n",
    "mu2 =Symbol('\\mu_2')\n",
    "p = Symbol('\\p')\n",
    "\n",
    "def t(price, lamb, ell):\n",
    "    return (ell - price)/lamb \n",
    "\n",
    "def profit(theta1, mu1, price, lamb, ell):\n",
    "    return t(price, lamb, ell)*(price - mu1*theta1)\n",
    "\n",
    "foc_prof = diff(profit(theta1,mu1,p,lamb,ell), p)\n",
    "price = solve(foc_prof,p)[0]\n",
    "print(price)"
   ]
  },
  {
   "cell_type": "code",
   "execution_count": 3,
   "metadata": {},
   "outputs": [
    {
     "data": {
      "text/plain": [
       "<Figure size 640x480 with 1 Axes>"
      ]
     },
     "metadata": {},
     "output_type": "display_data"
    },
    {
     "data": {
      "text/plain": [
       "<sympy.plotting.plot.Plot at 0x7fc1133085f8>"
      ]
     },
     "execution_count": 3,
     "metadata": {},
     "output_type": "execute_result"
    }
   ],
   "source": [
    "def nb_objective(theta1, mu1, price, lamb, ell):\n",
    "    term1 = profit(theta1,  mu1, price, lamb, ell)\n",
    "    term2 =  mu1*theta1*t(price, lamb, ell)\n",
    "    return term1*term2\n",
    "\n",
    "LIST = 70\n",
    "COST = 10\n",
    "\n",
    "obj = nb_objective(theta1,mu1,price,lamb,ell) \n",
    "obj = obj.subs({mu1:.5,lamb:COST,ell:LIST})\n",
    "plot(obj, (theta1,COST,LIST))"
   ]
  },
  {
   "cell_type": "code",
   "execution_count": 4,
   "metadata": {},
   "outputs": [
    {
     "name": "stdout",
     "output_type": "stream",
     "text": [
      "\\mu_1*\\theta_1*(\\ell - \\mu_1*\\theta_1)**3/(8*\\lambda**2)\n"
     ]
    }
   ],
   "source": [
    "print(simplify(nb_objective(theta1,mu1,price,lamb,ell)))"
   ]
  },
  {
   "cell_type": "code",
   "execution_count": 5,
   "metadata": {},
   "outputs": [
    {
     "name": "stdout",
     "output_type": "stream",
     "text": [
      "\\ell/(4*\\mu_1)\n"
     ]
    }
   ],
   "source": [
    "foc_nb = diff(nb_objective(theta1,mu1,price,lamb,ell),theta1)\n",
    "theta1_max = solve(foc_nb,theta1)\n",
    "print(theta1_max[0])"
   ]
  },
  {
   "cell_type": "code",
   "execution_count": 9,
   "metadata": {},
   "outputs": [
    {
     "data": {
      "text/plain": [
       "9*\\ell**2*\\mu_1/(64*\\lambda)"
      ]
     },
     "execution_count": 9,
     "metadata": {},
     "output_type": "execute_result"
    }
   ],
   "source": [
    "simplify(mu1*profit(theta1,mu1,price,lamb,ell).subs({theta1:ell/(4*mu1)}))"
   ]
  },
  {
   "cell_type": "code",
   "execution_count": null,
   "metadata": {},
   "outputs": [],
   "source": []
  }
 ],
 "metadata": {
  "kernelspec": {
   "display_name": "Python 3",
   "language": "python",
   "name": "python3"
  },
  "language_info": {
   "codemirror_mode": {
    "name": "ipython",
    "version": 3
   },
   "file_extension": ".py",
   "mimetype": "text/x-python",
   "name": "python",
   "nbconvert_exporter": "python",
   "pygments_lexer": "ipython3",
   "version": "3.7.3"
  }
 },
 "nbformat": 4,
 "nbformat_minor": 2
}
