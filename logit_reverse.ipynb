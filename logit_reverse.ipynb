{
 "cells": [
  {
   "cell_type": "code",
   "execution_count": 1,
   "metadata": {
    "scrolled": true
   },
   "outputs": [],
   "source": [
    "using Pkg\n",
    "using Distributions\n",
    "#Pkg.add(\"Optim\")\n",
    "#Pkg.add(\"PyPlot\")\n",
    "#Pkg.add(\"LinearAlgebra\")\n",
    "using Optim\n",
    "using PyPlot\n",
    "using LinearAlgebra"
   ]
  },
  {
   "cell_type": "code",
   "execution_count": 2,
   "metadata": {},
   "outputs": [
    {
     "name": "stdout",
     "output_type": "stream",
     "text": [
      "[1.47478, 1.47478]"
     ]
    }
   ],
   "source": [
    "function market_shares( p, wtp, alpha)\n",
    "    return exp.(wtp .- alpha.*p) / (1 + sum( exp.(wtp .- alpha.*p) ) )\n",
    "end\n",
    "\n",
    "\n",
    "function mco_profits(p,phi,mu,wtp, alpha)\n",
    "    return market_shares(p, wtp, alpha) .* ( p - mu .* phi )\n",
    "end\n",
    "\n",
    "\n",
    "function price_profits(phi,mu,wtp,alpha)\n",
    "    diff =  5.\n",
    "    p = [1.,1.]\n",
    "    profits = [0.,0.]\n",
    "    \n",
    "    maxiter = 100\n",
    "    \n",
    "    while (maxiter >=0) & (diff > 10e-7)\n",
    "        #set up objective\n",
    "        obj1(p0) = -1*mco_profits( [p0[1], p[2]],phi,mu,wtp,alpha)[1]\n",
    "        res1 = optimize(obj1, [p[1]] , BFGS())\n",
    "        obj2(p0) = -1*mco_profits( [p[1], p0[1]] ,phi,mu,wtp,alpha)[2]\n",
    "        res2 = optimize(obj2,[p[2]], BFGS())\n",
    "        \n",
    "        #update loop variables\n",
    "        diff = max( abs( res1.minimizer[1] - p[1] ), abs( res2.minimizer[1] - p[2] ) )\n",
    "        maxiter = maxiter-1\n",
    "        \n",
    "        #update result\n",
    "        p = [res1.minimizer[1],res2.minimizer[1]]\n",
    "        profits =  [-1*res1.minimum, -1*res2.minimum]        \n",
    "    end\n",
    "    return p, profits\n",
    "end\n",
    "\n",
    "\n",
    "#arbitrary outside option... passive beliefs\n",
    "function nash_in_nash(phi, mu, beta, wtp, alpha,  mc; pi0=0.)\n",
    "    p, profits = price_profits(phi,mu,wtp,alpha)\n",
    "    s = market_shares(p,wtp,alpha)\n",
    "    return   profits.^beta .* (sum(mu .* s .* (phi .- mc) ) - pi0).^(1 .- beta)\n",
    "end\n",
    "\n",
    "print( nash_in_nash( [3,3], [.5,.5] , [.5,.5], 5., .5 , .5) )"
   ]
  },
  {
   "cell_type": "code",
   "execution_count": 3,
   "metadata": {},
   "outputs": [
    {
     "data": {
      "image/png": "[encoded data removed]",
      "text/plain": [
       "Figure(PyObject <Figure size 640x480 with 1 Axes>)"
      ]
     },
     "metadata": {},
     "output_type": "display_data"
    },
    {
     "data": {
      "text/plain": [
       "1-element Array{PyCall.PyObject,1}:\n",
       " PyObject <matplotlib.lines.Line2D object at 0x7fcb5c201ba8>"
      ]
     },
     "execution_count": 3,
     "metadata": {},
     "output_type": "execute_result"
    }
   ],
   "source": [
    "obj(x) = nash_in_nash( [x,4.56294],  [.5,.5] , [.5,.5], 5., .5 , .5 )[1]\n",
    "xs = collect(40:55)/10\n",
    "objs = []\n",
    "for x=xs \n",
    "    append!(objs,obj(x))\n",
    "end \n",
    "\n",
    "plot(xs,objs)"
   ]
  },
  {
   "cell_type": "code",
   "execution_count": 4,
   "metadata": {},
   "outputs": [
    {
     "name": "stdout",
     "output_type": "stream",
     "text": [
      "[5.31521, 5.31521]\n"
     ]
    }
   ],
   "source": [
    "function bargain_helper(phi, mu, beta, wtp, alpha, mc)\n",
    "    \"\"\"solve each firm 1s optimization holding theta 2 fixed\"\"\"\n",
    "    \n",
    "    obj1(phi0) = -1*nash_in_nash( [phi0[1], phi[2]] , mu,  beta, wtp, alpha, mc)[1]\n",
    "    res1 =  optimize(obj1, [phi[1]], BFGS())\n",
    "\n",
    "    obj2(phi0) = -1*nash_in_nash( [phi[1], phi0[1]], mu,  beta, wtp, alpha, mc)[2]\n",
    "    \n",
    "    \n",
    "    res2 =  optimize(obj2, [phi[2]], BFGS())\n",
    "    \n",
    "    return [ res1.minimizer[1], res2.minimizer[1] ]\n",
    "end\n",
    "\n",
    "println( bargain_helper([3.,3.], [.5,.5] , [.5,.5], 5., .5 , .5) )"
   ]
  },
  {
   "cell_type": "code",
   "execution_count": 9,
   "metadata": {},
   "outputs": [
    {
     "name": "stdout",
     "output_type": "stream",
     "text": [
      "[6.77663, 6.77663]"
     ]
    }
   ],
   "source": [
    "function simult_bargain(mu, beta, wtp, alpha, mc)\n",
    "    \"\"\"solve the bargaining problems seperately and iterate for a solution\"\"\"       \n",
    "    \n",
    "    #loop variables\n",
    "    diff =  5.\n",
    "    phi = [3*alpha, 3*alpha]\n",
    "\n",
    "    maxiter = 100\n",
    "    while (maxiter >=0) & (diff > 10e-7)\n",
    "        #seems as though there is a contraction mapping here, need to think more about why\n",
    "        phi_new = bargain_helper(phi, mu, beta, wtp, alpha, mc)\n",
    "        \n",
    "        #update loop variables\n",
    "        diff = maximum( abs.(phi - phi_new) )\n",
    "        maxiter = maxiter-1\n",
    "        \n",
    "        #update phi\n",
    "        phi = phi_new\n",
    "    end\n",
    "    return phi\n",
    "end\n",
    "    \n",
    "print(simult_bargain([.2,.2] , [.5,.5], 2., 0.5 , .5) )"
   ]
  },
  {
   "cell_type": "code",
   "execution_count": 14,
   "metadata": {},
   "outputs": [
    {
     "name": "stdout",
     "output_type": "stream",
     "text": [
      "[4.28437, 4.28436][4.28434, 4.28435]\n",
      "[4.28436, 4.28437][4.28435, 4.28434]\n"
     ]
    },
    {
     "data": {
      "text/plain": [
       "([-0.0604058 0.0205671; 0.0205671 -0.0604058], [-0.0140819 0.00479463; 0.00479463 -0.0140819])"
      ]
     },
     "execution_count": 14,
     "metadata": {},
     "output_type": "execute_result"
    }
   ],
   "source": [
    "function calc_derivatives(phi,mu,wtp,alpha;h=0.0001)\n",
    "    gradient_profit = zeros(2,2)\n",
    "    gradient_s = zeros(2,2)\n",
    "    for i=1:2\n",
    "        \n",
    "        hs = zeros(2)\n",
    "        hs[i] = h\n",
    "        p1,profit1 = price_profits(phi+hs,mu,wtp,alpha)\n",
    "        p2,profit2 = price_profits(phi-hs,mu,wtp,alpha)\n",
    "        println(p1,p2)\n",
    "        \n",
    "        \n",
    "        s1 = market_shares( p1, wtp, alpha)\n",
    "        s2 = market_shares( p2, wtp, alpha)\n",
    "        \n",
    "        gradient_profit[:,i] =  1/(2*h) .* (profit1 - profit2) \n",
    "        gradient_s[:,i] = 1/(2*h) .* (s1 -s2) \n",
    "    end\n",
    "    return gradient_profit, gradient_s\n",
    "end\n",
    "\n",
    "\n",
    "\n",
    "calc_derivatives([6.77663, 6.77663],[.2,.2], 2., .5)"
   ]
  },
  {
   "cell_type": "code",
   "execution_count": 13,
   "metadata": {},
   "outputs": [
    {
     "name": "stdout",
     "output_type": "stream",
     "text": [
      "[4.3537, 4.35369][4.35367, 4.35368]\n",
      "[4.35369, 4.3537][4.35368, 4.35367]\n",
      "0.06555132131929456 0.057336846489350037 -0.001875336428980301 0.0037585060476584505 0.005633842476638751\n",
      "0.06555132131929456 0.057336846489350037 -0.001875336428980301 0.0037585060476584505 0.005633842476638751\n",
      "[2.12077, 2.12077]"
     ]
    }
   ],
   "source": [
    "function calc_hospital_cost(phi,mu,beta,wtp,alpha)\n",
    "    gradient_profit, gradient_s = calc_derivatives(phi,mu,wtp,alpha)\n",
    "    price, profits = price_profits(phi,mu,wtp,alpha)\n",
    "    shares = market_shares(phi,wtp,alpha)\n",
    "    mc = zeros(2)\n",
    "    for i=1:2\n",
    "        not_i = mod(i,2)+1\n",
    "        \n",
    "        A = sum( mu .*shares .* phi) \n",
    "        B = sum(mu .* shares)\n",
    "        \n",
    "        dA = mu[i]*(gradient_s[i,i]*phi[i] + shares[i]) + mu[not_i]*gradient_s[not_i,i]*phi[not_i]\n",
    "        dB = mu[i]*(gradient_s[i,i]) + mu[not_i]*gradient_s[not_i,i]\n",
    "        \n",
    "        C = -beta[i]/(1-beta[i]) * gradient_profit[i,i]/profits[i]\n",
    "        \n",
    "        \n",
    "        mc[i] = (C*A - dA)/(C*B - dB)\n",
    "        println(C, \" \", B, \" \", dB,\" \",C*B, \" \",  C*B - dB)\n",
    "        \n",
    "        #mc[i] = mc[i]/(gradient_s[i,i]*phi[i] + shares[i] + gradient_s[not_i,i]*phi[not_i] - sum(shares))\n",
    "    end\n",
    "    return mc\n",
    "end \n",
    "\n",
    "print(calc_hospital_cost([6.77663, 6.77663], [.2,.2],[.5,.5], 2., .5))"
   ]
  },
  {
   "cell_type": "code",
   "execution_count": null,
   "metadata": {},
   "outputs": [],
   "source": []
  },
  {
   "cell_type": "code",
   "execution_count": null,
   "metadata": {},
   "outputs": [],
   "source": []
  }
 ],
 "metadata": {
  "kernelspec": {
   "display_name": "Julia 1.0.4",
   "language": "julia",
   "name": "julia-1.0"
  },
  "language_info": {
   "file_extension": ".jl",
   "mimetype": "application/julia",
   "name": "julia",
   "version": "1.0.4"
  }
 },
 "nbformat": 4,
 "nbformat_minor": 2
}
