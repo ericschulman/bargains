{
 "cells": [
  {
   "cell_type": "code",
   "execution_count": 16,
   "metadata": {},
   "outputs": [],
   "source": [
    "import numpy as np\n",
    "from scipy.optimize import minimize\n",
    "from scipy.optimize import fsolve\n",
    "from matplotlib import pyplot as plt\n",
    "import pandas as pd"
   ]
  },
  {
   "cell_type": "code",
   "execution_count": 29,
   "metadata": {},
   "outputs": [
    {
     "name": "stdout",
     "output_type": "stream",
     "text": [
      "10.000 & 6.000  & 1.500  & 0.225  & 3.750  & 0.506  & 0.675 \\\\\n",
      "10.000 & 8.000  & 2.000  & 0.300  & 5.000  & 0.900  & 1.200 \\\\\n",
      "10.000 & 10.000  & 2.500  & 0.375  & 6.250  & 1.406  & 1.875 \\\\\n",
      "10.000 & 12.000  & 3.000  & 0.450  & 7.500  & 2.025  & 2.700 \\\\\n"
     ]
    }
   ],
   "source": [
    "def local_monop_theta(cost,wtp):\n",
    "    return wtp/4.\n",
    "\n",
    "def local_monop_t(cost,wtp):\n",
    "    return (wtp - local_monop_theta(cost,wtp))/(2*cost)\n",
    "    \n",
    "def local_monop_p(cost,wtp):\n",
    "    return (wtp + local_monop_theta(cost,wtp))/2.\n",
    "\n",
    "def local_monop_prof(cost,wtp):\n",
    "    return (local_monop_p(cost,wtp) -  local_monop_theta(cost,wtp))*local_monop_t(cost,wtp)\n",
    "    \n",
    "def local_monop_hosp(cost,wtp):\n",
    "    return 2*local_monop_t(cost,wtp)*local_monop_theta(cost,wtp)\n",
    "    \n",
    "\n",
    "cost =10\n",
    "for wtp in np.linspace(6,12,4):\n",
    "    print(\"%.3f & %.3f  & %.3f  & %.3f  & %.3f  & %.3f  & %.3f \\\\\\\\\"%(cost, wtp, local_monop_theta(cost,wtp),\n",
    "                                                                 local_monop_t(cost,wtp), \n",
    "          local_monop_p(cost,wtp) , local_monop_prof(cost,wtp) , local_monop_hosp(cost,wtp)))"
   ]
  },
  {
   "cell_type": "code",
   "execution_count": 36,
   "metadata": {},
   "outputs": [
    {
     "name": "stdout",
     "output_type": "stream",
     "text": [
      "10.000 & 26.000  & 8.000  & 1.000  & 16.000  & 8.000  & 8.000 \\\\\n",
      "10.000 & 27.000  & 8.500  & 1.000  & 17.000  & 8.500  & 8.500 \\\\\n",
      "10.000 & 28.000  & 9.000  & 1.000  & 18.000  & 9.000  & 9.000 \\\\\n",
      "10.000 & 29.000  & 9.500  & 1.000  & 19.000  & 9.500  & 9.500 \\\\\n"
     ]
    }
   ],
   "source": [
    "def one_theta(cost,wtp):\n",
    "    return (wtp-cost)/2\n",
    "\n",
    "def one_t(cost,wtp):\n",
    "    return 1\n",
    "\n",
    "def one_p(cost,wtp):\n",
    "    return wtp -  cost\n",
    "\n",
    "def one_prof(cost,wtp):\n",
    "    return (one_p(cost,wtp) -  one_theta(cost,wtp))*one_t(cost,wtp)\n",
    "    \n",
    "def one_hosp(cost,wtp):\n",
    "    return (wtp-cost)/2\n",
    "\n",
    "cost =10\n",
    "for wtp in np.linspace(26,29,4):\n",
    "    print(\"%.3f & %.3f  & %.3f  & %.3f  & %.3f  & %.3f  & %.3f \\\\\\\\\"%(cost, wtp, one_theta(cost,wtp),\n",
    "                                                                 one_t(cost,wtp), \n",
    "          one_p(cost,wtp) , one_prof(cost,wtp) , one_hosp(cost,wtp)))"
   ]
  },
  {
   "cell_type": "code",
   "execution_count": 40,
   "metadata": {},
   "outputs": [
    {
     "name": "stdout",
     "output_type": "stream",
     "text": [
      "10.000 & 16.000  & 2.423  & 0.500  & 12.423  & 5.000  & 2.423 \\\\\n",
      "10.000 & 17.000  & 2.733  & 0.500  & 12.733  & 5.000  & 2.733 \\\\\n",
      "10.000 & 18.000  & 3.061  & 0.500  & 13.061  & 5.000  & 3.061 \\\\\n",
      "10.000 & 19.000  & 3.408  & 0.500  & 13.408  & 5.000  & 3.408 \\\\\n"
     ]
    }
   ],
   "source": [
    "def interior_theta(cost, wtp):\n",
    "    return (.75*cost + 3*wtp**2)/(32*cost)\n",
    "\n",
    "def interior_t(cost,wtp):\n",
    "    return .5\n",
    "\n",
    "def interior_p(cost,wtp):\n",
    "    return interior_theta(cost,wtp) + cost\n",
    "\n",
    "def interior_prof(cost,wtp):\n",
    "    return (interior_p(cost,wtp) -  interior_theta(cost,wtp))*interior_t(cost,wtp)\n",
    "    \n",
    "def interior_hosp(cost,wtp):\n",
    "    return 2*interior_theta(cost,wtp)*interior_t(cost,wtp)\n",
    "\n",
    "\n",
    "for wtp in np.linspace(16,19,4):\n",
    "    print(\"%.3f & %.3f  & %.3f  & %.3f  & %.3f  & %.3f  & %.3f \\\\\\\\\"%(cost, wtp, interior_theta(cost,wtp),\n",
    "                                                                 interior_t(cost,wtp), \n",
    "          interior_p(cost,wtp) , interior_prof(cost,wtp) , interior_hosp(cost,wtp)))"
   ]
  },
  {
   "cell_type": "code",
   "execution_count": null,
   "metadata": {},
   "outputs": [],
   "source": []
  },
  {
   "cell_type": "code",
   "execution_count": null,
   "metadata": {},
   "outputs": [],
   "source": []
  }
 ],
 "metadata": {
  "kernelspec": {
   "display_name": "Python 3",
   "language": "python",
   "name": "python3"
  },
  "language_info": {
   "codemirror_mode": {
    "name": "ipython",
    "version": 3
   },
   "file_extension": ".py",
   "mimetype": "text/x-python",
   "name": "python",
   "nbconvert_exporter": "python",
   "pygments_lexer": "ipython3",
   "version": "3.7.3"
  }
 },
 "nbformat": 4,
 "nbformat_minor": 2
}
