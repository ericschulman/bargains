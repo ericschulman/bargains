{
 "cells": [
  {
   "cell_type": "code",
   "execution_count": 1,
   "metadata": {},
   "outputs": [],
   "source": [
    "from sympy import *"
   ]
  },
  {
   "cell_type": "code",
   "execution_count": 5,
   "metadata": {},
   "outputs": [],
   "source": [
    "#general purpose code for interior cases\n",
    "\n",
    "theta1=Symbol('\\\\theta_1')\n",
    "theta2 =Symbol('\\\\theta_2')\n",
    "lamb =Symbol('\\lambda')\n",
    "out = Symbol('\\pi')\n",
    "c1 = Symbol('\\\\c_1')\n",
    "c2 = Symbol('\\\\c_2')\n",
    "\n",
    "def profit(theta1,theta2, lamb):\n",
    "    return ((3*lamb)+ theta2 - theta1)**2/(18*lamb)\n",
    "\n",
    "def t(theta1, theta2, lamb):\n",
    "    return (3*lamb + theta2 - theta1)/(6*lamb)\n",
    "\n",
    "#analyze symmetric simultaneous case first\n",
    "def nb_objective(theta1,theta2, lamb, outside):\n",
    "    term1 = (profit(theta1,theta2, lamb))\n",
    "    term2 = ( theta2 - c2 + (theta1- theta2  - (c1-c2) )*t(theta1, theta2,lamb))\n",
    "    return term1*(term2 - outside)\n",
    "\n"
   ]
  },
  {
   "cell_type": "code",
   "execution_count": 6,
   "metadata": {},
   "outputs": [
    {
     "name": "stdout",
     "output_type": "stream",
     "text": [
      "3*\\lambda + \\theta_1 \n",
      "\n",
      "3*\\c_1/8 - 3*\\c_2/8 - 3*\\lambda*\\partial_2/4 + 15*\\lambda/8 + \\theta_1 - sqrt(3)*sqrt(3*\\c_1**2 - 6*\\c_1*\\c_2 - 12*\\c_1*\\lambda*\\partial_2 - 18*\\c_1*\\lambda + 3*\\c_2**2 + 12*\\c_2*\\lambda*\\partial_2 - 46*\\c_2*\\lambda + 12*\\lambda**2*\\partial_2**2 + 36*\\lambda**2*\\partial_2 + 27*\\lambda**2 - 64*\\lambda*\\pi + 64*\\lambda*\\theta_1)/8 \n",
      "\n",
      "3*\\c_1/8 - 3*\\c_2/8 - 3*\\lambda*\\partial_2/4 + 15*\\lambda/8 + \\theta_1 + sqrt(3)*sqrt(3*\\c_1**2 - 6*\\c_1*\\c_2 - 12*\\c_1*\\lambda*\\partial_2 - 18*\\c_1*\\lambda + 3*\\c_2**2 + 12*\\c_2*\\lambda*\\partial_2 - 46*\\c_2*\\lambda + 12*\\lambda**2*\\partial_2**2 + 36*\\lambda**2*\\partial_2 + 27*\\lambda**2 - 64*\\lambda*\\pi + 64*\\lambda*\\theta_1)/8 \n",
      "\n"
     ]
    }
   ],
   "source": [
    "#working out simultaneous solution\n",
    "partial1 = Symbol('\\partial_1')\n",
    "partial2 = Symbol('\\partial_2')\n",
    "\n",
    "foc =  diff(nb_objective(theta2, theta1, lamb, out), theta2)\n",
    "foc = foc - partial2*profit(theta2,theta1, lamb)\n",
    "\n",
    "h =solve(foc,theta2)\n",
    "\n",
    "for i in range(0,len(h)):\n",
    "    print(h[i], '\\n')\n",
    "\n"
   ]
  },
  {
   "cell_type": "code",
   "execution_count": 7,
   "metadata": {},
   "outputs": [
    {
     "name": "stdout",
     "output_type": "stream",
     "text": [
      "\n",
      " [3*\\lambda + \\theta_1, 3*\\c_1/8 - 3*\\c_2/8 - 3*\\lambda*\\partial_2/4 + 15*\\lambda/8 + \\theta_1 - sqrt(3)*sqrt(3*\\c_1**2 - 6*\\c_1*\\c_2 - 12*\\c_1*\\lambda*\\partial_2 - 18*\\c_1*\\lambda + 3*\\c_2**2 + 12*\\c_2*\\lambda*\\partial_2 - 46*\\c_2*\\lambda + 12*\\lambda**2*\\partial_2**2 + 36*\\lambda**2*\\partial_2 + 27*\\lambda**2 - 64*\\lambda*\\pi + 64*\\lambda*\\theta_1)/8, 3*\\c_1/8 - 3*\\c_2/8 - 3*\\lambda*\\partial_2/4 + 15*\\lambda/8 + \\theta_1 + sqrt(3)*sqrt(3*\\c_1**2 - 6*\\c_1*\\c_2 - 12*\\c_1*\\lambda*\\partial_2 - 18*\\c_1*\\lambda + 3*\\c_2**2 + 12*\\c_2*\\lambda*\\partial_2 - 46*\\c_2*\\lambda + 12*\\lambda**2*\\partial_2**2 + 36*\\lambda**2*\\partial_2 + 27*\\lambda**2 - 64*\\lambda*\\pi + 64*\\lambda*\\theta_1)/8] \n",
      "\n",
      "(3*\\lambda - \\theta_1 + \\theta_2)*(-6*\\lambda*\\partial_1*(3*\\lambda - \\theta_1 + \\theta_2) + 12*\\lambda*(\\c_2 + \\pi - \\theta_2) + 2*(3*\\lambda - \\theta_1 + \\theta_2)*(\\c_1 - \\c_2 - \\theta_1 + \\theta_2) + (3*\\lambda - \\theta_1 + \\theta_2)*(\\c_1 - \\c_2 + 3*\\lambda - 2*\\theta_1 + 2*\\theta_2))/(108*\\lambda**2) \n",
      "\n",
      "[3*\\lambda + \\theta_2, 3*\\c_1/8 - 3*\\c_2/8 - 3*\\lambda*\\partial_1/4 + 15*\\lambda/8 + \\theta_2 - sqrt(3)*sqrt(3*\\c_1**2 - 6*\\c_1*\\c_2 - 12*\\c_1*\\lambda*\\partial_1 - 18*\\c_1*\\lambda + 3*\\c_2**2 + 12*\\c_2*\\lambda*\\partial_1 - 46*\\c_2*\\lambda + 12*\\lambda**2*\\partial_1**2 + 36*\\lambda**2*\\partial_1 + 27*\\lambda**2 - 64*\\lambda*\\pi + 64*\\lambda*\\theta_2)/8, 3*\\c_1/8 - 3*\\c_2/8 - 3*\\lambda*\\partial_1/4 + 15*\\lambda/8 + \\theta_2 + sqrt(3)*sqrt(3*\\c_1**2 - 6*\\c_1*\\c_2 - 12*\\c_1*\\lambda*\\partial_1 - 18*\\c_1*\\lambda + 3*\\c_2**2 + 12*\\c_2*\\lambda*\\partial_1 - 46*\\c_2*\\lambda + 12*\\lambda**2*\\partial_1**2 + 36*\\lambda**2*\\partial_1 + 27*\\lambda**2 - 64*\\lambda*\\pi + 64*\\lambda*\\theta_2)/8] \n",
      "\n",
      "[3*\\c_1/4 + \\c_2/4 - 3*\\lambda*\\partial_1/2 + 3*\\lambda/4 + \\pi]\n"
     ]
    }
   ],
   "source": [
    "foc_firm1 =  diff(nb_objective(theta1, theta2, lamb, out), theta1)\n",
    "foc_firm1 = foc_firm1 - partial1*profit(theta1,theta2, lamb)\n",
    "print('\\n',h,'\\n')\n",
    "#foc_firm1 = foc_firm1.subs({theta2:h})\n",
    "\n",
    "print(simplify(foc_firm1),'\\n')\n",
    "\n",
    "print(solve(foc_firm1,theta1),'\\n')\n",
    "\n",
    "print(solve(foc_firm1.subs({theta2:theta1}),theta1))"
   ]
  },
  {
   "cell_type": "code",
   "execution_count": null,
   "metadata": {},
   "outputs": [],
   "source": []
  },
  {
   "cell_type": "code",
   "execution_count": null,
   "metadata": {},
   "outputs": [],
   "source": []
  }
 ],
 "metadata": {
  "kernelspec": {
   "display_name": "Python 3",
   "language": "python",
   "name": "python3"
  },
  "language_info": {
   "codemirror_mode": {
    "name": "ipython",
    "version": 3
   },
   "file_extension": ".py",
   "mimetype": "text/x-python",
   "name": "python",
   "nbconvert_exporter": "python",
   "pygments_lexer": "ipython3",
   "version": "3.7.4"
  }
 },
 "nbformat": 4,
 "nbformat_minor": 2
}
