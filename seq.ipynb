{
 "cells": [
  {
   "cell_type": "code",
   "execution_count": 4,
   "metadata": {},
   "outputs": [],
   "source": [
    "from sympy import *\n",
    "init_printing(use_unicode=True)"
   ]
  },
  {
   "cell_type": "code",
   "execution_count": 40,
   "metadata": {},
   "outputs": [],
   "source": [
    "#variable definitions\n",
    "t1, t2, l, q, m1, m2, b1, b2  = symbols('t_1 t_2 l q m_1 m_2 b_1 b_2')\n",
    "\n",
    "#set parameters with out b1 and b2 for ease of computation\n",
    "l = 1\n",
    "q = 1\n",
    "m1 = .5\n",
    "m2 = 1-m1\n",
    "b1 = .5\n",
    "b2 = .5\n",
    "\n",
    "#profits\n",
    "pi1 = .5*( (t2-t1)/3.0 +q)*(1+ (1/(3*q))*(t2-t1) )\n",
    "pi2 = .5*( (t1-t2)/3.0 +q)*(1+ (1/(3*q))*(t1-t2) )"
   ]
  },
  {
   "cell_type": "code",
   "execution_count": 44,
   "metadata": {},
   "outputs": [
    {
     "name": "stdout",
     "output_type": "stream",
     "text": [
      "theta_1: -0.666666666666667\n",
      "theta_2: 0.833333333333333\n",
      "pi_1: 0.750000000000000\n",
      "pi_2: 0.250000000000000\n"
     ]
    }
   ],
   "source": [
    "#use SPE/backward induction to solve game\n",
    "\n",
    "#nash bargaining objectives\n",
    "v2 = (pi2 - pi2.subs(t2,l) )**b2 * (m1*t1 +m2*t2)**(1-b2)\n",
    "\n",
    "#second mover\n",
    "v2_foc = diff(v2,t2)\n",
    "\n",
    "#solve for t1 as a function of t2\n",
    "h1 = solve(v2_foc,t2)\n",
    "h1 = h1[-1]\n",
    "\n",
    "\n",
    "#susbitute h1 for t2, then substitute l into the second term for t1\n",
    "v1 = (pi1.subs(t2,h1) - pi2.subs({t1:l, t2:h1.subs(t1,l)}) )**b1 * (m1*t1 + m2*h1)**(1-b1)\n",
    "v1_foc = diff(v1,t1)\n",
    "\n",
    "t1_param = solve(v1_foc,t1)[-1]\n",
    "t2_param = h1.subs(t1,t1_param) \n",
    "\n",
    "pi1_param = pi1.subs({t1:t1_param, t2:t2_param})\n",
    "pi2_param = pi2.subs({t1:t1_param, t2:t2_param})\n",
    "\n",
    "#print results\n",
    "print 'theta_1: %s'%t1_param\n",
    "print 'theta_2: %s'%t2_param\n",
    "print 'pi_1: %s'%pi1_param\n",
    "print 'pi_2: %s'%pi2_param"
   ]
  },
  {
   "cell_type": "code",
   "execution_count": 48,
   "metadata": {},
   "outputs": [],
   "source": [
    "#write results to file\n",
    "out = open(\"seq.csv\",\"w+\")\n",
    "out.write('l,lambda,mu_1,mu_2,beta_1,beta_2,theta_1,theta_2,pi_1,pi_2\\n')\n",
    "out.write('%s,%s,%s,%s,%s,%s,%s,%s,%s,%s\\n'%(l,q,m1,m2,b1,b2,t1_param,t2_param,pi1_param,pi2_param))\n",
    "out.close()"
   ]
  },
  {
   "cell_type": "code",
   "execution_count": null,
   "metadata": {},
   "outputs": [],
   "source": []
  }
 ],
 "metadata": {
  "kernelspec": {
   "display_name": "Python 2",
   "language": "python",
   "name": "python2"
  },
  "language_info": {
   "codemirror_mode": {
    "name": "ipython",
    "version": 2
   },
   "file_extension": ".py",
   "mimetype": "text/x-python",
   "name": "python",
   "nbconvert_exporter": "python",
   "pygments_lexer": "ipython2",
   "version": "2.7.15"
  }
 },
 "nbformat": 4,
 "nbformat_minor": 2
}
